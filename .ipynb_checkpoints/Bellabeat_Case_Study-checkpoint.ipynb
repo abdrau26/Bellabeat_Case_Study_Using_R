{
 "cells": [
  {
   "cell_type": "markdown",
   "id": "22f70468-be17-490c-9ed4-936ee3d57922",
   "metadata": {},
   "source": [
    "# Introduction"
   ]
  },
  {
   "cell_type": "markdown",
   "id": "4bd0dcab-90a0-43ee-a8d2-822f60a4b15c",
   "metadata": {},
   "source": [
    "Bellabeat is a leading technology company specializing in health-focused products designed for women. We will examine the datasets associated with this company, sourced from Kaggle. We will review the datasets and also explore the selection of tools for our study, along with the rationale behind their choice."
   ]
  },
  {
   "cell_type": "markdown",
   "id": "59fafa58-69e1-4a88-a7aa-56d377b02ac0",
   "metadata": {},
   "source": [
    "# Preparations"
   ]
  },
  {
   "cell_type": "markdown",
   "id": "4b47243e-61fd-47d0-9c32-893d3cc61d8f",
   "metadata": {},
   "source": [
    "We've retrieved the datasets from the provided link, which include two folders. Upon inspection, we noticed that both folders contain similar data. Therefore, we'll utilize only one of the folders to derive insights from the data. The useddataset is provided in the repository."
   ]
  },
  {
   "cell_type": "markdown",
   "id": "e0b4f820-aedf-4bb7-9821-d3f5451c18bd",
   "metadata": {},
   "source": [
    "For the initial attempt, we attempted to load the dataset using MS Excel. However, due to its size exceeding the capacity of Excel's grid, we've decided to switch to the R programming language for conducting our data analysis."
   ]
  },
  {
   "cell_type": "markdown",
   "id": "4b4b94fe-ad37-4a3e-a9bb-d0c4d63bcbe9",
   "metadata": {},
   "source": [
    "# Importing the Libraries"
   ]
  },
  {
   "cell_type": "code",
   "execution_count": 14,
   "id": "4e479b5b-fc76-48c9-8b02-f5aba68a7b68",
   "metadata": {
    "scrolled": true
   },
   "outputs": [],
   "source": [
    "options(warn=0)\n",
    "library(tidyverse)\n",
    "library (hms)"
   ]
  },
  {
   "cell_type": "markdown",
   "id": "cc29781f-81c5-47e6-af3e-229a88759a24",
   "metadata": {},
   "source": [
    "# Reading the CSV Files"
   ]
  },
  {
   "cell_type": "code",
   "execution_count": 15,
   "id": "f929a4fc-345c-44cd-906b-d8a9d009c098",
   "metadata": {},
   "outputs": [],
   "source": [
    "options(warn=0,message = FALSE)\n",
    "daily_activity <- read_csv(\"Fitabase Data 3.12.16-4.11.16/dailyActivity_merged.csv\", show_col_types = FALSE)"
   ]
  },
  {
   "cell_type": "code",
   "execution_count": 16,
   "id": "7c41d393-6338-4971-9bdc-9da80d99e8d2",
   "metadata": {},
   "outputs": [],
   "source": [
    "heart_rate_seconds <- read_csv(\"Fitabase Data 3.12.16-4.11.16/heartrate_seconds_merged.csv\",show_col_types = FALSE)"
   ]
  },
  {
   "cell_type": "code",
   "execution_count": 17,
   "id": "3fa990a3-a34c-49f5-9be6-acc0d105eaea",
   "metadata": {},
   "outputs": [],
   "source": [
    "options(warn=0)\n",
    "hourly_calories <- read_csv(\"Fitabase Data 3.12.16-4.11.16/hourlyCalories_merged.csv\",show_col_types = FALSE)"
   ]
  },
  {
   "cell_type": "code",
   "execution_count": 18,
   "id": "edd6a149-8ee1-4372-b984-4dd0923a369c",
   "metadata": {},
   "outputs": [],
   "source": [
    "options(warn=0)\n",
    "hourly_intensities <- read_csv(\"Fitabase Data 3.12.16-4.11.16/hourlyIntensities_merged.csv\",show_col_types = FALSE)"
   ]
  },
  {
   "cell_type": "code",
   "execution_count": 19,
   "id": "d124498e-440d-40b0-8b2d-4da0d28ddc1a",
   "metadata": {},
   "outputs": [],
   "source": [
    "options(warn=0)\n",
    "hourly_steps <- read_csv(\"Fitabase Data 3.12.16-4.11.16/hourlySteps_merged.csv\",show_col_types = FALSE)"
   ]
  },
  {
   "cell_type": "code",
   "execution_count": 20,
   "id": "cba25014-a46d-4925-ab9e-ac3e8f554be6",
   "metadata": {},
   "outputs": [],
   "source": [
    "options(warn=0)\n",
    "sleep <- read_csv(\"Fitabase Data 3.12.16-4.11.16/minuteSleep_merged.csv\",show_col_types = FALSE)"
   ]
  },
  {
   "cell_type": "code",
   "execution_count": 21,
   "id": "f60370d5-1c4a-40db-8294-8bdf0ab6f852",
   "metadata": {},
   "outputs": [],
   "source": [
    "options(warn=0)\n",
    "weight_info <- read_csv(\"Fitabase Data 3.12.16-4.11.16/weightLogInfo_merged.csv\",show_col_types = FALSE)"
   ]
  },
  {
   "cell_type": "markdown",
   "id": "1df37487-b4e5-4019-9f42-a17bc99dfcbb",
   "metadata": {},
   "source": [
    "# Perviewing the Imported Datasets"
   ]
  },
  {
   "cell_type": "code",
   "execution_count": 22,
   "id": "3a0f336f-2e3b-4936-a60b-596110d56604",
   "metadata": {},
   "outputs": [
    {
     "data": {
      "text/html": [
       "<table class=\"dataframe\">\n",
       "<caption>A tibble: 6 × 15</caption>\n",
       "<thead>\n",
       "\t<tr><th scope=col>Id</th><th scope=col>ActivityDate</th><th scope=col>TotalSteps</th><th scope=col>TotalDistance</th><th scope=col>TrackerDistance</th><th scope=col>LoggedActivitiesDistance</th><th scope=col>VeryActiveDistance</th><th scope=col>ModeratelyActiveDistance</th><th scope=col>LightActiveDistance</th><th scope=col>SedentaryActiveDistance</th><th scope=col>VeryActiveMinutes</th><th scope=col>FairlyActiveMinutes</th><th scope=col>LightlyActiveMinutes</th><th scope=col>SedentaryMinutes</th><th scope=col>Calories</th></tr>\n",
       "\t<tr><th scope=col>&lt;dbl&gt;</th><th scope=col>&lt;chr&gt;</th><th scope=col>&lt;dbl&gt;</th><th scope=col>&lt;dbl&gt;</th><th scope=col>&lt;dbl&gt;</th><th scope=col>&lt;dbl&gt;</th><th scope=col>&lt;dbl&gt;</th><th scope=col>&lt;dbl&gt;</th><th scope=col>&lt;dbl&gt;</th><th scope=col>&lt;dbl&gt;</th><th scope=col>&lt;dbl&gt;</th><th scope=col>&lt;dbl&gt;</th><th scope=col>&lt;dbl&gt;</th><th scope=col>&lt;dbl&gt;</th><th scope=col>&lt;dbl&gt;</th></tr>\n",
       "</thead>\n",
       "<tbody>\n",
       "\t<tr><td>1503960366</td><td>3/25/2016</td><td>11004</td><td> 7.11</td><td> 7.11</td><td>0</td><td>2.57</td><td>0.46</td><td>4.07</td><td>0</td><td>33</td><td>12</td><td>205</td><td> 804</td><td>1819</td></tr>\n",
       "\t<tr><td>1503960366</td><td>3/26/2016</td><td>17609</td><td>11.55</td><td>11.55</td><td>0</td><td>6.92</td><td>0.73</td><td>3.91</td><td>0</td><td>89</td><td>17</td><td>274</td><td> 588</td><td>2154</td></tr>\n",
       "\t<tr><td>1503960366</td><td>3/27/2016</td><td>12736</td><td> 8.53</td><td> 8.53</td><td>0</td><td>4.66</td><td>0.16</td><td>3.71</td><td>0</td><td>56</td><td> 5</td><td>268</td><td> 605</td><td>1944</td></tr>\n",
       "\t<tr><td>1503960366</td><td>3/28/2016</td><td>13231</td><td> 8.93</td><td> 8.93</td><td>0</td><td>3.19</td><td>0.79</td><td>4.95</td><td>0</td><td>39</td><td>20</td><td>224</td><td>1080</td><td>1932</td></tr>\n",
       "\t<tr><td>1503960366</td><td>3/29/2016</td><td>12041</td><td> 7.85</td><td> 7.85</td><td>0</td><td>2.16</td><td>1.09</td><td>4.61</td><td>0</td><td>28</td><td>28</td><td>243</td><td> 763</td><td>1886</td></tr>\n",
       "\t<tr><td>1503960366</td><td>3/30/2016</td><td>10970</td><td> 7.16</td><td> 7.16</td><td>0</td><td>2.36</td><td>0.51</td><td>4.29</td><td>0</td><td>30</td><td>13</td><td>223</td><td>1174</td><td>1820</td></tr>\n",
       "</tbody>\n",
       "</table>\n"
      ],
      "text/latex": [
       "A tibble: 6 × 15\n",
       "\\begin{tabular}{lllllllllllllll}\n",
       " Id & ActivityDate & TotalSteps & TotalDistance & TrackerDistance & LoggedActivitiesDistance & VeryActiveDistance & ModeratelyActiveDistance & LightActiveDistance & SedentaryActiveDistance & VeryActiveMinutes & FairlyActiveMinutes & LightlyActiveMinutes & SedentaryMinutes & Calories\\\\\n",
       " <dbl> & <chr> & <dbl> & <dbl> & <dbl> & <dbl> & <dbl> & <dbl> & <dbl> & <dbl> & <dbl> & <dbl> & <dbl> & <dbl> & <dbl>\\\\\n",
       "\\hline\n",
       "\t 1503960366 & 3/25/2016 & 11004 &  7.11 &  7.11 & 0 & 2.57 & 0.46 & 4.07 & 0 & 33 & 12 & 205 &  804 & 1819\\\\\n",
       "\t 1503960366 & 3/26/2016 & 17609 & 11.55 & 11.55 & 0 & 6.92 & 0.73 & 3.91 & 0 & 89 & 17 & 274 &  588 & 2154\\\\\n",
       "\t 1503960366 & 3/27/2016 & 12736 &  8.53 &  8.53 & 0 & 4.66 & 0.16 & 3.71 & 0 & 56 &  5 & 268 &  605 & 1944\\\\\n",
       "\t 1503960366 & 3/28/2016 & 13231 &  8.93 &  8.93 & 0 & 3.19 & 0.79 & 4.95 & 0 & 39 & 20 & 224 & 1080 & 1932\\\\\n",
       "\t 1503960366 & 3/29/2016 & 12041 &  7.85 &  7.85 & 0 & 2.16 & 1.09 & 4.61 & 0 & 28 & 28 & 243 &  763 & 1886\\\\\n",
       "\t 1503960366 & 3/30/2016 & 10970 &  7.16 &  7.16 & 0 & 2.36 & 0.51 & 4.29 & 0 & 30 & 13 & 223 & 1174 & 1820\\\\\n",
       "\\end{tabular}\n"
      ],
      "text/markdown": [
       "\n",
       "A tibble: 6 × 15\n",
       "\n",
       "| Id &lt;dbl&gt; | ActivityDate &lt;chr&gt; | TotalSteps &lt;dbl&gt; | TotalDistance &lt;dbl&gt; | TrackerDistance &lt;dbl&gt; | LoggedActivitiesDistance &lt;dbl&gt; | VeryActiveDistance &lt;dbl&gt; | ModeratelyActiveDistance &lt;dbl&gt; | LightActiveDistance &lt;dbl&gt; | SedentaryActiveDistance &lt;dbl&gt; | VeryActiveMinutes &lt;dbl&gt; | FairlyActiveMinutes &lt;dbl&gt; | LightlyActiveMinutes &lt;dbl&gt; | SedentaryMinutes &lt;dbl&gt; | Calories &lt;dbl&gt; |\n",
       "|---|---|---|---|---|---|---|---|---|---|---|---|---|---|---|\n",
       "| 1503960366 | 3/25/2016 | 11004 |  7.11 |  7.11 | 0 | 2.57 | 0.46 | 4.07 | 0 | 33 | 12 | 205 |  804 | 1819 |\n",
       "| 1503960366 | 3/26/2016 | 17609 | 11.55 | 11.55 | 0 | 6.92 | 0.73 | 3.91 | 0 | 89 | 17 | 274 |  588 | 2154 |\n",
       "| 1503960366 | 3/27/2016 | 12736 |  8.53 |  8.53 | 0 | 4.66 | 0.16 | 3.71 | 0 | 56 |  5 | 268 |  605 | 1944 |\n",
       "| 1503960366 | 3/28/2016 | 13231 |  8.93 |  8.93 | 0 | 3.19 | 0.79 | 4.95 | 0 | 39 | 20 | 224 | 1080 | 1932 |\n",
       "| 1503960366 | 3/29/2016 | 12041 |  7.85 |  7.85 | 0 | 2.16 | 1.09 | 4.61 | 0 | 28 | 28 | 243 |  763 | 1886 |\n",
       "| 1503960366 | 3/30/2016 | 10970 |  7.16 |  7.16 | 0 | 2.36 | 0.51 | 4.29 | 0 | 30 | 13 | 223 | 1174 | 1820 |\n",
       "\n"
      ],
      "text/plain": [
       "  Id         ActivityDate TotalSteps TotalDistance TrackerDistance\n",
       "1 1503960366 3/25/2016    11004       7.11          7.11          \n",
       "2 1503960366 3/26/2016    17609      11.55         11.55          \n",
       "3 1503960366 3/27/2016    12736       8.53          8.53          \n",
       "4 1503960366 3/28/2016    13231       8.93          8.93          \n",
       "5 1503960366 3/29/2016    12041       7.85          7.85          \n",
       "6 1503960366 3/30/2016    10970       7.16          7.16          \n",
       "  LoggedActivitiesDistance VeryActiveDistance ModeratelyActiveDistance\n",
       "1 0                        2.57               0.46                    \n",
       "2 0                        6.92               0.73                    \n",
       "3 0                        4.66               0.16                    \n",
       "4 0                        3.19               0.79                    \n",
       "5 0                        2.16               1.09                    \n",
       "6 0                        2.36               0.51                    \n",
       "  LightActiveDistance SedentaryActiveDistance VeryActiveMinutes\n",
       "1 4.07                0                       33               \n",
       "2 3.91                0                       89               \n",
       "3 3.71                0                       56               \n",
       "4 4.95                0                       39               \n",
       "5 4.61                0                       28               \n",
       "6 4.29                0                       30               \n",
       "  FairlyActiveMinutes LightlyActiveMinutes SedentaryMinutes Calories\n",
       "1 12                  205                   804             1819    \n",
       "2 17                  274                   588             2154    \n",
       "3  5                  268                   605             1944    \n",
       "4 20                  224                  1080             1932    \n",
       "5 28                  243                   763             1886    \n",
       "6 13                  223                  1174             1820    "
      ]
     },
     "metadata": {},
     "output_type": "display_data"
    },
    {
     "data": {
      "text/html": [
       "0"
      ],
      "text/latex": [
       "0"
      ],
      "text/markdown": [
       "0"
      ],
      "text/plain": [
       "[1] 0"
      ]
     },
     "metadata": {},
     "output_type": "display_data"
    },
    {
     "data": {
      "text/html": [
       "35"
      ],
      "text/latex": [
       "35"
      ],
      "text/markdown": [
       "35"
      ],
      "text/plain": [
       "[1] 35"
      ]
     },
     "metadata": {},
     "output_type": "display_data"
    },
    {
     "data": {
      "text/html": [
       "0"
      ],
      "text/latex": [
       "0"
      ],
      "text/markdown": [
       "0"
      ],
      "text/plain": [
       "[1] 0"
      ]
     },
     "metadata": {},
     "output_type": "display_data"
    }
   ],
   "source": [
    "head(daily_activity)\n",
    "sum(is.na(daily_activity)) # finds the count of missing values \n",
    "length(unique(daily_activity$Id)) # finds unique Ids in the data set\n",
    "sum(duplicated(daily_activity))"
   ]
  },
  {
   "cell_type": "code",
   "execution_count": 23,
   "id": "9e1b6c78-5f07-4eff-84f6-5964790644c6",
   "metadata": {},
   "outputs": [
    {
     "data": {
      "text/html": [
       "<table class=\"dataframe\">\n",
       "<caption>A tibble: 6 × 3</caption>\n",
       "<thead>\n",
       "\t<tr><th scope=col>Id</th><th scope=col>Time</th><th scope=col>Value</th></tr>\n",
       "\t<tr><th scope=col>&lt;dbl&gt;</th><th scope=col>&lt;chr&gt;</th><th scope=col>&lt;dbl&gt;</th></tr>\n",
       "</thead>\n",
       "<tbody>\n",
       "\t<tr><td>2022484408</td><td>4/1/2016 7:54:00 AM</td><td> 93</td></tr>\n",
       "\t<tr><td>2022484408</td><td>4/1/2016 7:54:05 AM</td><td> 91</td></tr>\n",
       "\t<tr><td>2022484408</td><td>4/1/2016 7:54:10 AM</td><td> 96</td></tr>\n",
       "\t<tr><td>2022484408</td><td>4/1/2016 7:54:15 AM</td><td> 98</td></tr>\n",
       "\t<tr><td>2022484408</td><td>4/1/2016 7:54:20 AM</td><td>100</td></tr>\n",
       "\t<tr><td>2022484408</td><td>4/1/2016 7:54:25 AM</td><td>101</td></tr>\n",
       "</tbody>\n",
       "</table>\n"
      ],
      "text/latex": [
       "A tibble: 6 × 3\n",
       "\\begin{tabular}{lll}\n",
       " Id & Time & Value\\\\\n",
       " <dbl> & <chr> & <dbl>\\\\\n",
       "\\hline\n",
       "\t 2022484408 & 4/1/2016 7:54:00 AM &  93\\\\\n",
       "\t 2022484408 & 4/1/2016 7:54:05 AM &  91\\\\\n",
       "\t 2022484408 & 4/1/2016 7:54:10 AM &  96\\\\\n",
       "\t 2022484408 & 4/1/2016 7:54:15 AM &  98\\\\\n",
       "\t 2022484408 & 4/1/2016 7:54:20 AM & 100\\\\\n",
       "\t 2022484408 & 4/1/2016 7:54:25 AM & 101\\\\\n",
       "\\end{tabular}\n"
      ],
      "text/markdown": [
       "\n",
       "A tibble: 6 × 3\n",
       "\n",
       "| Id &lt;dbl&gt; | Time &lt;chr&gt; | Value &lt;dbl&gt; |\n",
       "|---|---|---|\n",
       "| 2022484408 | 4/1/2016 7:54:00 AM |  93 |\n",
       "| 2022484408 | 4/1/2016 7:54:05 AM |  91 |\n",
       "| 2022484408 | 4/1/2016 7:54:10 AM |  96 |\n",
       "| 2022484408 | 4/1/2016 7:54:15 AM |  98 |\n",
       "| 2022484408 | 4/1/2016 7:54:20 AM | 100 |\n",
       "| 2022484408 | 4/1/2016 7:54:25 AM | 101 |\n",
       "\n"
      ],
      "text/plain": [
       "  Id         Time                Value\n",
       "1 2022484408 4/1/2016 7:54:00 AM  93  \n",
       "2 2022484408 4/1/2016 7:54:05 AM  91  \n",
       "3 2022484408 4/1/2016 7:54:10 AM  96  \n",
       "4 2022484408 4/1/2016 7:54:15 AM  98  \n",
       "5 2022484408 4/1/2016 7:54:20 AM 100  \n",
       "6 2022484408 4/1/2016 7:54:25 AM 101  "
      ]
     },
     "metadata": {},
     "output_type": "display_data"
    },
    {
     "data": {
      "text/html": [
       "0"
      ],
      "text/latex": [
       "0"
      ],
      "text/markdown": [
       "0"
      ],
      "text/plain": [
       "[1] 0"
      ]
     },
     "metadata": {},
     "output_type": "display_data"
    },
    {
     "data": {
      "text/html": [
       "14"
      ],
      "text/latex": [
       "14"
      ],
      "text/markdown": [
       "14"
      ],
      "text/plain": [
       "[1] 14"
      ]
     },
     "metadata": {},
     "output_type": "display_data"
    },
    {
     "data": {
      "text/html": [
       "0"
      ],
      "text/latex": [
       "0"
      ],
      "text/markdown": [
       "0"
      ],
      "text/plain": [
       "[1] 0"
      ]
     },
     "metadata": {},
     "output_type": "display_data"
    }
   ],
   "source": [
    "head(heart_rate_seconds)\n",
    "sum(is.na(heart_rate_seconds))\n",
    "length(unique(heart_rate_seconds$Id))\n",
    "sum(duplicated(heart_rate_seconds))"
   ]
  },
  {
   "cell_type": "code",
   "execution_count": 24,
   "id": "0c345c1d-18e3-49ef-9710-48866b703900",
   "metadata": {},
   "outputs": [
    {
     "data": {
      "text/html": [
       "<table class=\"dataframe\">\n",
       "<caption>A tibble: 6 × 3</caption>\n",
       "<thead>\n",
       "\t<tr><th scope=col>Id</th><th scope=col>ActivityHour</th><th scope=col>Calories</th></tr>\n",
       "\t<tr><th scope=col>&lt;dbl&gt;</th><th scope=col>&lt;chr&gt;</th><th scope=col>&lt;dbl&gt;</th></tr>\n",
       "</thead>\n",
       "<tbody>\n",
       "\t<tr><td>1503960366</td><td>3/12/2016 12:00:00 AM</td><td>48</td></tr>\n",
       "\t<tr><td>1503960366</td><td>3/12/2016 1:00:00 AM </td><td>48</td></tr>\n",
       "\t<tr><td>1503960366</td><td>3/12/2016 2:00:00 AM </td><td>48</td></tr>\n",
       "\t<tr><td>1503960366</td><td>3/12/2016 3:00:00 AM </td><td>48</td></tr>\n",
       "\t<tr><td>1503960366</td><td>3/12/2016 4:00:00 AM </td><td>48</td></tr>\n",
       "\t<tr><td>1503960366</td><td>3/12/2016 5:00:00 AM </td><td>48</td></tr>\n",
       "</tbody>\n",
       "</table>\n"
      ],
      "text/latex": [
       "A tibble: 6 × 3\n",
       "\\begin{tabular}{lll}\n",
       " Id & ActivityHour & Calories\\\\\n",
       " <dbl> & <chr> & <dbl>\\\\\n",
       "\\hline\n",
       "\t 1503960366 & 3/12/2016 12:00:00 AM & 48\\\\\n",
       "\t 1503960366 & 3/12/2016 1:00:00 AM  & 48\\\\\n",
       "\t 1503960366 & 3/12/2016 2:00:00 AM  & 48\\\\\n",
       "\t 1503960366 & 3/12/2016 3:00:00 AM  & 48\\\\\n",
       "\t 1503960366 & 3/12/2016 4:00:00 AM  & 48\\\\\n",
       "\t 1503960366 & 3/12/2016 5:00:00 AM  & 48\\\\\n",
       "\\end{tabular}\n"
      ],
      "text/markdown": [
       "\n",
       "A tibble: 6 × 3\n",
       "\n",
       "| Id &lt;dbl&gt; | ActivityHour &lt;chr&gt; | Calories &lt;dbl&gt; |\n",
       "|---|---|---|\n",
       "| 1503960366 | 3/12/2016 12:00:00 AM | 48 |\n",
       "| 1503960366 | 3/12/2016 1:00:00 AM  | 48 |\n",
       "| 1503960366 | 3/12/2016 2:00:00 AM  | 48 |\n",
       "| 1503960366 | 3/12/2016 3:00:00 AM  | 48 |\n",
       "| 1503960366 | 3/12/2016 4:00:00 AM  | 48 |\n",
       "| 1503960366 | 3/12/2016 5:00:00 AM  | 48 |\n",
       "\n"
      ],
      "text/plain": [
       "  Id         ActivityHour          Calories\n",
       "1 1503960366 3/12/2016 12:00:00 AM 48      \n",
       "2 1503960366 3/12/2016 1:00:00 AM  48      \n",
       "3 1503960366 3/12/2016 2:00:00 AM  48      \n",
       "4 1503960366 3/12/2016 3:00:00 AM  48      \n",
       "5 1503960366 3/12/2016 4:00:00 AM  48      \n",
       "6 1503960366 3/12/2016 5:00:00 AM  48      "
      ]
     },
     "metadata": {},
     "output_type": "display_data"
    },
    {
     "data": {
      "text/html": [
       "0"
      ],
      "text/latex": [
       "0"
      ],
      "text/markdown": [
       "0"
      ],
      "text/plain": [
       "[1] 0"
      ]
     },
     "metadata": {},
     "output_type": "display_data"
    },
    {
     "data": {
      "text/html": [
       "34"
      ],
      "text/latex": [
       "34"
      ],
      "text/markdown": [
       "34"
      ],
      "text/plain": [
       "[1] 34"
      ]
     },
     "metadata": {},
     "output_type": "display_data"
    },
    {
     "data": {
      "text/html": [
       "0"
      ],
      "text/latex": [
       "0"
      ],
      "text/markdown": [
       "0"
      ],
      "text/plain": [
       "[1] 0"
      ]
     },
     "metadata": {},
     "output_type": "display_data"
    }
   ],
   "source": [
    "head(hourly_calories)\n",
    "sum(is.na(hourly_calories))\n",
    "length(unique(hourly_calories$Id))\n",
    "sum(duplicated(hourly_calories))"
   ]
  },
  {
   "cell_type": "code",
   "execution_count": 25,
   "id": "040a1dd2-a615-4da2-8916-005aaa7001af",
   "metadata": {},
   "outputs": [
    {
     "data": {
      "text/html": [
       "<table class=\"dataframe\">\n",
       "<caption>A tibble: 6 × 4</caption>\n",
       "<thead>\n",
       "\t<tr><th scope=col>Id</th><th scope=col>ActivityHour</th><th scope=col>TotalIntensity</th><th scope=col>AverageIntensity</th></tr>\n",
       "\t<tr><th scope=col>&lt;dbl&gt;</th><th scope=col>&lt;chr&gt;</th><th scope=col>&lt;dbl&gt;</th><th scope=col>&lt;dbl&gt;</th></tr>\n",
       "</thead>\n",
       "<tbody>\n",
       "\t<tr><td>1503960366</td><td>3/12/2016 12:00:00 AM</td><td>0</td><td>0</td></tr>\n",
       "\t<tr><td>1503960366</td><td>3/12/2016 1:00:00 AM </td><td>0</td><td>0</td></tr>\n",
       "\t<tr><td>1503960366</td><td>3/12/2016 2:00:00 AM </td><td>0</td><td>0</td></tr>\n",
       "\t<tr><td>1503960366</td><td>3/12/2016 3:00:00 AM </td><td>0</td><td>0</td></tr>\n",
       "\t<tr><td>1503960366</td><td>3/12/2016 4:00:00 AM </td><td>0</td><td>0</td></tr>\n",
       "\t<tr><td>1503960366</td><td>3/12/2016 5:00:00 AM </td><td>0</td><td>0</td></tr>\n",
       "</tbody>\n",
       "</table>\n"
      ],
      "text/latex": [
       "A tibble: 6 × 4\n",
       "\\begin{tabular}{llll}\n",
       " Id & ActivityHour & TotalIntensity & AverageIntensity\\\\\n",
       " <dbl> & <chr> & <dbl> & <dbl>\\\\\n",
       "\\hline\n",
       "\t 1503960366 & 3/12/2016 12:00:00 AM & 0 & 0\\\\\n",
       "\t 1503960366 & 3/12/2016 1:00:00 AM  & 0 & 0\\\\\n",
       "\t 1503960366 & 3/12/2016 2:00:00 AM  & 0 & 0\\\\\n",
       "\t 1503960366 & 3/12/2016 3:00:00 AM  & 0 & 0\\\\\n",
       "\t 1503960366 & 3/12/2016 4:00:00 AM  & 0 & 0\\\\\n",
       "\t 1503960366 & 3/12/2016 5:00:00 AM  & 0 & 0\\\\\n",
       "\\end{tabular}\n"
      ],
      "text/markdown": [
       "\n",
       "A tibble: 6 × 4\n",
       "\n",
       "| Id &lt;dbl&gt; | ActivityHour &lt;chr&gt; | TotalIntensity &lt;dbl&gt; | AverageIntensity &lt;dbl&gt; |\n",
       "|---|---|---|---|\n",
       "| 1503960366 | 3/12/2016 12:00:00 AM | 0 | 0 |\n",
       "| 1503960366 | 3/12/2016 1:00:00 AM  | 0 | 0 |\n",
       "| 1503960366 | 3/12/2016 2:00:00 AM  | 0 | 0 |\n",
       "| 1503960366 | 3/12/2016 3:00:00 AM  | 0 | 0 |\n",
       "| 1503960366 | 3/12/2016 4:00:00 AM  | 0 | 0 |\n",
       "| 1503960366 | 3/12/2016 5:00:00 AM  | 0 | 0 |\n",
       "\n"
      ],
      "text/plain": [
       "  Id         ActivityHour          TotalIntensity AverageIntensity\n",
       "1 1503960366 3/12/2016 12:00:00 AM 0              0               \n",
       "2 1503960366 3/12/2016 1:00:00 AM  0              0               \n",
       "3 1503960366 3/12/2016 2:00:00 AM  0              0               \n",
       "4 1503960366 3/12/2016 3:00:00 AM  0              0               \n",
       "5 1503960366 3/12/2016 4:00:00 AM  0              0               \n",
       "6 1503960366 3/12/2016 5:00:00 AM  0              0               "
      ]
     },
     "metadata": {},
     "output_type": "display_data"
    },
    {
     "data": {
      "text/html": [
       "0"
      ],
      "text/latex": [
       "0"
      ],
      "text/markdown": [
       "0"
      ],
      "text/plain": [
       "[1] 0"
      ]
     },
     "metadata": {},
     "output_type": "display_data"
    },
    {
     "data": {
      "text/html": [
       "34"
      ],
      "text/latex": [
       "34"
      ],
      "text/markdown": [
       "34"
      ],
      "text/plain": [
       "[1] 34"
      ]
     },
     "metadata": {},
     "output_type": "display_data"
    },
    {
     "data": {
      "text/html": [
       "0"
      ],
      "text/latex": [
       "0"
      ],
      "text/markdown": [
       "0"
      ],
      "text/plain": [
       "[1] 0"
      ]
     },
     "metadata": {},
     "output_type": "display_data"
    }
   ],
   "source": [
    "head(hourly_intensities)\n",
    "sum(is.na(hourly_intensities))\n",
    "length(unique(hourly_intensities$Id))\n",
    "sum(duplicated(hourly_intensities))"
   ]
  },
  {
   "cell_type": "code",
   "execution_count": 26,
   "id": "377de432-5e62-48b9-bd23-e1fca2f5600d",
   "metadata": {},
   "outputs": [
    {
     "data": {
      "text/html": [
       "<table class=\"dataframe\">\n",
       "<caption>A tibble: 6 × 3</caption>\n",
       "<thead>\n",
       "\t<tr><th scope=col>Id</th><th scope=col>ActivityHour</th><th scope=col>StepTotal</th></tr>\n",
       "\t<tr><th scope=col>&lt;dbl&gt;</th><th scope=col>&lt;chr&gt;</th><th scope=col>&lt;dbl&gt;</th></tr>\n",
       "</thead>\n",
       "<tbody>\n",
       "\t<tr><td>1503960366</td><td>3/12/2016 12:00:00 AM</td><td>0</td></tr>\n",
       "\t<tr><td>1503960366</td><td>3/12/2016 1:00:00 AM </td><td>0</td></tr>\n",
       "\t<tr><td>1503960366</td><td>3/12/2016 2:00:00 AM </td><td>0</td></tr>\n",
       "\t<tr><td>1503960366</td><td>3/12/2016 3:00:00 AM </td><td>0</td></tr>\n",
       "\t<tr><td>1503960366</td><td>3/12/2016 4:00:00 AM </td><td>0</td></tr>\n",
       "\t<tr><td>1503960366</td><td>3/12/2016 5:00:00 AM </td><td>0</td></tr>\n",
       "</tbody>\n",
       "</table>\n"
      ],
      "text/latex": [
       "A tibble: 6 × 3\n",
       "\\begin{tabular}{lll}\n",
       " Id & ActivityHour & StepTotal\\\\\n",
       " <dbl> & <chr> & <dbl>\\\\\n",
       "\\hline\n",
       "\t 1503960366 & 3/12/2016 12:00:00 AM & 0\\\\\n",
       "\t 1503960366 & 3/12/2016 1:00:00 AM  & 0\\\\\n",
       "\t 1503960366 & 3/12/2016 2:00:00 AM  & 0\\\\\n",
       "\t 1503960366 & 3/12/2016 3:00:00 AM  & 0\\\\\n",
       "\t 1503960366 & 3/12/2016 4:00:00 AM  & 0\\\\\n",
       "\t 1503960366 & 3/12/2016 5:00:00 AM  & 0\\\\\n",
       "\\end{tabular}\n"
      ],
      "text/markdown": [
       "\n",
       "A tibble: 6 × 3\n",
       "\n",
       "| Id &lt;dbl&gt; | ActivityHour &lt;chr&gt; | StepTotal &lt;dbl&gt; |\n",
       "|---|---|---|\n",
       "| 1503960366 | 3/12/2016 12:00:00 AM | 0 |\n",
       "| 1503960366 | 3/12/2016 1:00:00 AM  | 0 |\n",
       "| 1503960366 | 3/12/2016 2:00:00 AM  | 0 |\n",
       "| 1503960366 | 3/12/2016 3:00:00 AM  | 0 |\n",
       "| 1503960366 | 3/12/2016 4:00:00 AM  | 0 |\n",
       "| 1503960366 | 3/12/2016 5:00:00 AM  | 0 |\n",
       "\n"
      ],
      "text/plain": [
       "  Id         ActivityHour          StepTotal\n",
       "1 1503960366 3/12/2016 12:00:00 AM 0        \n",
       "2 1503960366 3/12/2016 1:00:00 AM  0        \n",
       "3 1503960366 3/12/2016 2:00:00 AM  0        \n",
       "4 1503960366 3/12/2016 3:00:00 AM  0        \n",
       "5 1503960366 3/12/2016 4:00:00 AM  0        \n",
       "6 1503960366 3/12/2016 5:00:00 AM  0        "
      ]
     },
     "metadata": {},
     "output_type": "display_data"
    },
    {
     "data": {
      "text/html": [
       "0"
      ],
      "text/latex": [
       "0"
      ],
      "text/markdown": [
       "0"
      ],
      "text/plain": [
       "[1] 0"
      ]
     },
     "metadata": {},
     "output_type": "display_data"
    },
    {
     "data": {
      "text/html": [
       "34"
      ],
      "text/latex": [
       "34"
      ],
      "text/markdown": [
       "34"
      ],
      "text/plain": [
       "[1] 34"
      ]
     },
     "metadata": {},
     "output_type": "display_data"
    },
    {
     "data": {
      "text/html": [
       "0"
      ],
      "text/latex": [
       "0"
      ],
      "text/markdown": [
       "0"
      ],
      "text/plain": [
       "[1] 0"
      ]
     },
     "metadata": {},
     "output_type": "display_data"
    }
   ],
   "source": [
    "head(hourly_steps)\n",
    "sum(is.na(hourly_steps))\n",
    "length(unique(hourly_steps$Id))\n",
    "sum(duplicated(hourly_steps))"
   ]
  },
  {
   "cell_type": "code",
   "execution_count": 27,
   "id": "96f27291-f89e-4b5b-b73f-03f8719e3be5",
   "metadata": {},
   "outputs": [
    {
     "data": {
      "text/html": [
       "<table class=\"dataframe\">\n",
       "<caption>A tibble: 6 × 4</caption>\n",
       "<thead>\n",
       "\t<tr><th scope=col>Id</th><th scope=col>date</th><th scope=col>value</th><th scope=col>logId</th></tr>\n",
       "\t<tr><th scope=col>&lt;dbl&gt;</th><th scope=col>&lt;chr&gt;</th><th scope=col>&lt;dbl&gt;</th><th scope=col>&lt;dbl&gt;</th></tr>\n",
       "</thead>\n",
       "<tbody>\n",
       "\t<tr><td>1503960366</td><td>3/13/2016 2:39:30 AM</td><td>1</td><td>11114919637</td></tr>\n",
       "\t<tr><td>1503960366</td><td>3/13/2016 2:40:30 AM</td><td>1</td><td>11114919637</td></tr>\n",
       "\t<tr><td>1503960366</td><td>3/13/2016 2:41:30 AM</td><td>1</td><td>11114919637</td></tr>\n",
       "\t<tr><td>1503960366</td><td>3/13/2016 2:42:30 AM</td><td>1</td><td>11114919637</td></tr>\n",
       "\t<tr><td>1503960366</td><td>3/13/2016 2:43:30 AM</td><td>1</td><td>11114919637</td></tr>\n",
       "\t<tr><td>1503960366</td><td>3/13/2016 2:44:30 AM</td><td>1</td><td>11114919637</td></tr>\n",
       "</tbody>\n",
       "</table>\n"
      ],
      "text/latex": [
       "A tibble: 6 × 4\n",
       "\\begin{tabular}{llll}\n",
       " Id & date & value & logId\\\\\n",
       " <dbl> & <chr> & <dbl> & <dbl>\\\\\n",
       "\\hline\n",
       "\t 1503960366 & 3/13/2016 2:39:30 AM & 1 & 11114919637\\\\\n",
       "\t 1503960366 & 3/13/2016 2:40:30 AM & 1 & 11114919637\\\\\n",
       "\t 1503960366 & 3/13/2016 2:41:30 AM & 1 & 11114919637\\\\\n",
       "\t 1503960366 & 3/13/2016 2:42:30 AM & 1 & 11114919637\\\\\n",
       "\t 1503960366 & 3/13/2016 2:43:30 AM & 1 & 11114919637\\\\\n",
       "\t 1503960366 & 3/13/2016 2:44:30 AM & 1 & 11114919637\\\\\n",
       "\\end{tabular}\n"
      ],
      "text/markdown": [
       "\n",
       "A tibble: 6 × 4\n",
       "\n",
       "| Id &lt;dbl&gt; | date &lt;chr&gt; | value &lt;dbl&gt; | logId &lt;dbl&gt; |\n",
       "|---|---|---|---|\n",
       "| 1503960366 | 3/13/2016 2:39:30 AM | 1 | 11114919637 |\n",
       "| 1503960366 | 3/13/2016 2:40:30 AM | 1 | 11114919637 |\n",
       "| 1503960366 | 3/13/2016 2:41:30 AM | 1 | 11114919637 |\n",
       "| 1503960366 | 3/13/2016 2:42:30 AM | 1 | 11114919637 |\n",
       "| 1503960366 | 3/13/2016 2:43:30 AM | 1 | 11114919637 |\n",
       "| 1503960366 | 3/13/2016 2:44:30 AM | 1 | 11114919637 |\n",
       "\n"
      ],
      "text/plain": [
       "  Id         date                 value logId      \n",
       "1 1503960366 3/13/2016 2:39:30 AM 1     11114919637\n",
       "2 1503960366 3/13/2016 2:40:30 AM 1     11114919637\n",
       "3 1503960366 3/13/2016 2:41:30 AM 1     11114919637\n",
       "4 1503960366 3/13/2016 2:42:30 AM 1     11114919637\n",
       "5 1503960366 3/13/2016 2:43:30 AM 1     11114919637\n",
       "6 1503960366 3/13/2016 2:44:30 AM 1     11114919637"
      ]
     },
     "metadata": {},
     "output_type": "display_data"
    },
    {
     "data": {
      "text/html": [
       "0"
      ],
      "text/latex": [
       "0"
      ],
      "text/markdown": [
       "0"
      ],
      "text/plain": [
       "[1] 0"
      ]
     },
     "metadata": {},
     "output_type": "display_data"
    },
    {
     "data": {
      "text/html": [
       "23"
      ],
      "text/latex": [
       "23"
      ],
      "text/markdown": [
       "23"
      ],
      "text/plain": [
       "[1] 23"
      ]
     },
     "metadata": {},
     "output_type": "display_data"
    },
    {
     "data": {
      "text/html": [
       "525"
      ],
      "text/latex": [
       "525"
      ],
      "text/markdown": [
       "525"
      ],
      "text/plain": [
       "[1] 525"
      ]
     },
     "metadata": {},
     "output_type": "display_data"
    },
    {
     "data": {
      "text/html": [
       "0"
      ],
      "text/latex": [
       "0"
      ],
      "text/markdown": [
       "0"
      ],
      "text/plain": [
       "[1] 0"
      ]
     },
     "metadata": {},
     "output_type": "display_data"
    }
   ],
   "source": [
    "head(sleep)\n",
    "sum(is.na(sleep))\n",
    "length(unique(sleep$Id))\n",
    "sum(duplicated(sleep)) # number of duplicates\n",
    "sleep <- unique(sleep) # removing duplicate rows\n",
    "sum(duplicated(sleep)) # to verify that duplicates have been removed or not"
   ]
  },
  {
   "cell_type": "code",
   "execution_count": 28,
   "id": "a5beab15-ef75-44fc-9574-dfe3b2a3fa55",
   "metadata": {},
   "outputs": [
    {
     "data": {
      "text/html": [
       "<table class=\"dataframe\">\n",
       "<caption>A tibble: 6 × 8</caption>\n",
       "<thead>\n",
       "\t<tr><th scope=col>Id</th><th scope=col>Date</th><th scope=col>WeightKg</th><th scope=col>WeightPounds</th><th scope=col>Fat</th><th scope=col>BMI</th><th scope=col>IsManualReport</th><th scope=col>LogId</th></tr>\n",
       "\t<tr><th scope=col>&lt;dbl&gt;</th><th scope=col>&lt;chr&gt;</th><th scope=col>&lt;dbl&gt;</th><th scope=col>&lt;dbl&gt;</th><th scope=col>&lt;dbl&gt;</th><th scope=col>&lt;dbl&gt;</th><th scope=col>&lt;lgl&gt;</th><th scope=col>&lt;dbl&gt;</th></tr>\n",
       "</thead>\n",
       "<tbody>\n",
       "\t<tr><td>1503960366</td><td>4/5/2016 11:59:59 PM</td><td> 53.3</td><td>117.5064</td><td>22</td><td>22.97</td><td> TRUE</td><td>1.459901e+12</td></tr>\n",
       "\t<tr><td>1927972279</td><td>4/10/2016 6:33:26 PM</td><td>129.6</td><td>285.7191</td><td>NA</td><td>46.17</td><td>FALSE</td><td>1.460313e+12</td></tr>\n",
       "\t<tr><td>2347167796</td><td>4/3/2016 11:59:59 PM</td><td> 63.4</td><td>139.7731</td><td>10</td><td>24.77</td><td> TRUE</td><td>1.459728e+12</td></tr>\n",
       "\t<tr><td>2873212765</td><td>4/6/2016 11:59:59 PM</td><td> 56.7</td><td>125.0021</td><td>NA</td><td>21.45</td><td> TRUE</td><td>1.459987e+12</td></tr>\n",
       "\t<tr><td>2873212765</td><td>4/7/2016 11:59:59 PM</td><td> 57.2</td><td>126.1044</td><td>NA</td><td>21.65</td><td> TRUE</td><td>1.460074e+12</td></tr>\n",
       "\t<tr><td>2891001357</td><td>4/5/2016 11:59:59 PM</td><td> 88.4</td><td>194.8886</td><td>NA</td><td>25.03</td><td> TRUE</td><td>1.459901e+12</td></tr>\n",
       "</tbody>\n",
       "</table>\n"
      ],
      "text/latex": [
       "A tibble: 6 × 8\n",
       "\\begin{tabular}{llllllll}\n",
       " Id & Date & WeightKg & WeightPounds & Fat & BMI & IsManualReport & LogId\\\\\n",
       " <dbl> & <chr> & <dbl> & <dbl> & <dbl> & <dbl> & <lgl> & <dbl>\\\\\n",
       "\\hline\n",
       "\t 1503960366 & 4/5/2016 11:59:59 PM &  53.3 & 117.5064 & 22 & 22.97 &  TRUE & 1.459901e+12\\\\\n",
       "\t 1927972279 & 4/10/2016 6:33:26 PM & 129.6 & 285.7191 & NA & 46.17 & FALSE & 1.460313e+12\\\\\n",
       "\t 2347167796 & 4/3/2016 11:59:59 PM &  63.4 & 139.7731 & 10 & 24.77 &  TRUE & 1.459728e+12\\\\\n",
       "\t 2873212765 & 4/6/2016 11:59:59 PM &  56.7 & 125.0021 & NA & 21.45 &  TRUE & 1.459987e+12\\\\\n",
       "\t 2873212765 & 4/7/2016 11:59:59 PM &  57.2 & 126.1044 & NA & 21.65 &  TRUE & 1.460074e+12\\\\\n",
       "\t 2891001357 & 4/5/2016 11:59:59 PM &  88.4 & 194.8886 & NA & 25.03 &  TRUE & 1.459901e+12\\\\\n",
       "\\end{tabular}\n"
      ],
      "text/markdown": [
       "\n",
       "A tibble: 6 × 8\n",
       "\n",
       "| Id &lt;dbl&gt; | Date &lt;chr&gt; | WeightKg &lt;dbl&gt; | WeightPounds &lt;dbl&gt; | Fat &lt;dbl&gt; | BMI &lt;dbl&gt; | IsManualReport &lt;lgl&gt; | LogId &lt;dbl&gt; |\n",
       "|---|---|---|---|---|---|---|---|\n",
       "| 1503960366 | 4/5/2016 11:59:59 PM |  53.3 | 117.5064 | 22 | 22.97 |  TRUE | 1.459901e+12 |\n",
       "| 1927972279 | 4/10/2016 6:33:26 PM | 129.6 | 285.7191 | NA | 46.17 | FALSE | 1.460313e+12 |\n",
       "| 2347167796 | 4/3/2016 11:59:59 PM |  63.4 | 139.7731 | 10 | 24.77 |  TRUE | 1.459728e+12 |\n",
       "| 2873212765 | 4/6/2016 11:59:59 PM |  56.7 | 125.0021 | NA | 21.45 |  TRUE | 1.459987e+12 |\n",
       "| 2873212765 | 4/7/2016 11:59:59 PM |  57.2 | 126.1044 | NA | 21.65 |  TRUE | 1.460074e+12 |\n",
       "| 2891001357 | 4/5/2016 11:59:59 PM |  88.4 | 194.8886 | NA | 25.03 |  TRUE | 1.459901e+12 |\n",
       "\n"
      ],
      "text/plain": [
       "  Id         Date                 WeightKg WeightPounds Fat BMI  \n",
       "1 1503960366 4/5/2016 11:59:59 PM  53.3    117.5064     22  22.97\n",
       "2 1927972279 4/10/2016 6:33:26 PM 129.6    285.7191     NA  46.17\n",
       "3 2347167796 4/3/2016 11:59:59 PM  63.4    139.7731     10  24.77\n",
       "4 2873212765 4/6/2016 11:59:59 PM  56.7    125.0021     NA  21.45\n",
       "5 2873212765 4/7/2016 11:59:59 PM  57.2    126.1044     NA  21.65\n",
       "6 2891001357 4/5/2016 11:59:59 PM  88.4    194.8886     NA  25.03\n",
       "  IsManualReport LogId       \n",
       "1  TRUE          1.459901e+12\n",
       "2 FALSE          1.460313e+12\n",
       "3  TRUE          1.459728e+12\n",
       "4  TRUE          1.459987e+12\n",
       "5  TRUE          1.460074e+12\n",
       "6  TRUE          1.459901e+12"
      ]
     },
     "metadata": {},
     "output_type": "display_data"
    },
    {
     "data": {
      "text/html": [
       "31"
      ],
      "text/latex": [
       "31"
      ],
      "text/markdown": [
       "31"
      ],
      "text/plain": [
       "[1] 31"
      ]
     },
     "metadata": {},
     "output_type": "display_data"
    },
    {
     "data": {
      "text/html": [
       "11"
      ],
      "text/latex": [
       "11"
      ],
      "text/markdown": [
       "11"
      ],
      "text/plain": [
       "[1] 11"
      ]
     },
     "metadata": {},
     "output_type": "display_data"
    },
    {
     "data": {
      "text/html": [
       "0"
      ],
      "text/latex": [
       "0"
      ],
      "text/markdown": [
       "0"
      ],
      "text/plain": [
       "[1] 0"
      ]
     },
     "metadata": {},
     "output_type": "display_data"
    }
   ],
   "source": [
    "head(weight_info)\n",
    "sum(is.na(weight_info))\n",
    "length(unique(weight_info$Id))\n",
    "sum(duplicated(weight_info))"
   ]
  },
  {
   "cell_type": "markdown",
   "id": "baf9c241-60aa-485c-8fe7-1d09140f0b9c",
   "metadata": {},
   "source": [
    "After the previewing of datasets, we conclude the followings:\n",
    "- There are no missing values in selected data sets except the weight_info data frame\n",
    "- The datasets are inconsistent as number of participants in each dataset is not same (Id column)\n",
    "- A transformation is required for time/date column\n",
    "- Duplicates were identified in the sleep data frame which are removed."
   ]
  },
  {
   "cell_type": "markdown",
   "id": "daa9e28c-dd52-41f8-8353-31ec9cdc5ce3",
   "metadata": {},
   "source": [
    "# Transformation of Date/Time\n",
    "the date/time column for all datasets is character datatype. We will convert it into date/time data type in R"
   ]
  },
  {
   "cell_type": "code",
   "execution_count": 29,
   "id": "99d98b52-a29d-4fb1-9056-2581348146a4",
   "metadata": {},
   "outputs": [],
   "source": [
    "daily_activity$ActivityDate <- mdy(daily_activity$ActivityDate)"
   ]
  },
  {
   "cell_type": "code",
   "execution_count": 30,
   "id": "c47dbfe0-a4d9-4f45-8081-bf4ce7b7c893",
   "metadata": {},
   "outputs": [
    {
     "data": {
      "text/html": [
       "<table class=\"dataframe\">\n",
       "<caption>A tibble: 6 × 15</caption>\n",
       "<thead>\n",
       "\t<tr><th scope=col>Id</th><th scope=col>ActivityDate</th><th scope=col>TotalSteps</th><th scope=col>TotalDistance</th><th scope=col>TrackerDistance</th><th scope=col>LoggedActivitiesDistance</th><th scope=col>VeryActiveDistance</th><th scope=col>ModeratelyActiveDistance</th><th scope=col>LightActiveDistance</th><th scope=col>SedentaryActiveDistance</th><th scope=col>VeryActiveMinutes</th><th scope=col>FairlyActiveMinutes</th><th scope=col>LightlyActiveMinutes</th><th scope=col>SedentaryMinutes</th><th scope=col>Calories</th></tr>\n",
       "\t<tr><th scope=col>&lt;dbl&gt;</th><th scope=col>&lt;date&gt;</th><th scope=col>&lt;dbl&gt;</th><th scope=col>&lt;dbl&gt;</th><th scope=col>&lt;dbl&gt;</th><th scope=col>&lt;dbl&gt;</th><th scope=col>&lt;dbl&gt;</th><th scope=col>&lt;dbl&gt;</th><th scope=col>&lt;dbl&gt;</th><th scope=col>&lt;dbl&gt;</th><th scope=col>&lt;dbl&gt;</th><th scope=col>&lt;dbl&gt;</th><th scope=col>&lt;dbl&gt;</th><th scope=col>&lt;dbl&gt;</th><th scope=col>&lt;dbl&gt;</th></tr>\n",
       "</thead>\n",
       "<tbody>\n",
       "\t<tr><td>1503960366</td><td>2016-03-25</td><td>11004</td><td> 7.11</td><td> 7.11</td><td>0</td><td>2.57</td><td>0.46</td><td>4.07</td><td>0</td><td>33</td><td>12</td><td>205</td><td> 804</td><td>1819</td></tr>\n",
       "\t<tr><td>1503960366</td><td>2016-03-26</td><td>17609</td><td>11.55</td><td>11.55</td><td>0</td><td>6.92</td><td>0.73</td><td>3.91</td><td>0</td><td>89</td><td>17</td><td>274</td><td> 588</td><td>2154</td></tr>\n",
       "\t<tr><td>1503960366</td><td>2016-03-27</td><td>12736</td><td> 8.53</td><td> 8.53</td><td>0</td><td>4.66</td><td>0.16</td><td>3.71</td><td>0</td><td>56</td><td> 5</td><td>268</td><td> 605</td><td>1944</td></tr>\n",
       "\t<tr><td>1503960366</td><td>2016-03-28</td><td>13231</td><td> 8.93</td><td> 8.93</td><td>0</td><td>3.19</td><td>0.79</td><td>4.95</td><td>0</td><td>39</td><td>20</td><td>224</td><td>1080</td><td>1932</td></tr>\n",
       "\t<tr><td>1503960366</td><td>2016-03-29</td><td>12041</td><td> 7.85</td><td> 7.85</td><td>0</td><td>2.16</td><td>1.09</td><td>4.61</td><td>0</td><td>28</td><td>28</td><td>243</td><td> 763</td><td>1886</td></tr>\n",
       "\t<tr><td>1503960366</td><td>2016-03-30</td><td>10970</td><td> 7.16</td><td> 7.16</td><td>0</td><td>2.36</td><td>0.51</td><td>4.29</td><td>0</td><td>30</td><td>13</td><td>223</td><td>1174</td><td>1820</td></tr>\n",
       "</tbody>\n",
       "</table>\n"
      ],
      "text/latex": [
       "A tibble: 6 × 15\n",
       "\\begin{tabular}{lllllllllllllll}\n",
       " Id & ActivityDate & TotalSteps & TotalDistance & TrackerDistance & LoggedActivitiesDistance & VeryActiveDistance & ModeratelyActiveDistance & LightActiveDistance & SedentaryActiveDistance & VeryActiveMinutes & FairlyActiveMinutes & LightlyActiveMinutes & SedentaryMinutes & Calories\\\\\n",
       " <dbl> & <date> & <dbl> & <dbl> & <dbl> & <dbl> & <dbl> & <dbl> & <dbl> & <dbl> & <dbl> & <dbl> & <dbl> & <dbl> & <dbl>\\\\\n",
       "\\hline\n",
       "\t 1503960366 & 2016-03-25 & 11004 &  7.11 &  7.11 & 0 & 2.57 & 0.46 & 4.07 & 0 & 33 & 12 & 205 &  804 & 1819\\\\\n",
       "\t 1503960366 & 2016-03-26 & 17609 & 11.55 & 11.55 & 0 & 6.92 & 0.73 & 3.91 & 0 & 89 & 17 & 274 &  588 & 2154\\\\\n",
       "\t 1503960366 & 2016-03-27 & 12736 &  8.53 &  8.53 & 0 & 4.66 & 0.16 & 3.71 & 0 & 56 &  5 & 268 &  605 & 1944\\\\\n",
       "\t 1503960366 & 2016-03-28 & 13231 &  8.93 &  8.93 & 0 & 3.19 & 0.79 & 4.95 & 0 & 39 & 20 & 224 & 1080 & 1932\\\\\n",
       "\t 1503960366 & 2016-03-29 & 12041 &  7.85 &  7.85 & 0 & 2.16 & 1.09 & 4.61 & 0 & 28 & 28 & 243 &  763 & 1886\\\\\n",
       "\t 1503960366 & 2016-03-30 & 10970 &  7.16 &  7.16 & 0 & 2.36 & 0.51 & 4.29 & 0 & 30 & 13 & 223 & 1174 & 1820\\\\\n",
       "\\end{tabular}\n"
      ],
      "text/markdown": [
       "\n",
       "A tibble: 6 × 15\n",
       "\n",
       "| Id &lt;dbl&gt; | ActivityDate &lt;date&gt; | TotalSteps &lt;dbl&gt; | TotalDistance &lt;dbl&gt; | TrackerDistance &lt;dbl&gt; | LoggedActivitiesDistance &lt;dbl&gt; | VeryActiveDistance &lt;dbl&gt; | ModeratelyActiveDistance &lt;dbl&gt; | LightActiveDistance &lt;dbl&gt; | SedentaryActiveDistance &lt;dbl&gt; | VeryActiveMinutes &lt;dbl&gt; | FairlyActiveMinutes &lt;dbl&gt; | LightlyActiveMinutes &lt;dbl&gt; | SedentaryMinutes &lt;dbl&gt; | Calories &lt;dbl&gt; |\n",
       "|---|---|---|---|---|---|---|---|---|---|---|---|---|---|---|\n",
       "| 1503960366 | 2016-03-25 | 11004 |  7.11 |  7.11 | 0 | 2.57 | 0.46 | 4.07 | 0 | 33 | 12 | 205 |  804 | 1819 |\n",
       "| 1503960366 | 2016-03-26 | 17609 | 11.55 | 11.55 | 0 | 6.92 | 0.73 | 3.91 | 0 | 89 | 17 | 274 |  588 | 2154 |\n",
       "| 1503960366 | 2016-03-27 | 12736 |  8.53 |  8.53 | 0 | 4.66 | 0.16 | 3.71 | 0 | 56 |  5 | 268 |  605 | 1944 |\n",
       "| 1503960366 | 2016-03-28 | 13231 |  8.93 |  8.93 | 0 | 3.19 | 0.79 | 4.95 | 0 | 39 | 20 | 224 | 1080 | 1932 |\n",
       "| 1503960366 | 2016-03-29 | 12041 |  7.85 |  7.85 | 0 | 2.16 | 1.09 | 4.61 | 0 | 28 | 28 | 243 |  763 | 1886 |\n",
       "| 1503960366 | 2016-03-30 | 10970 |  7.16 |  7.16 | 0 | 2.36 | 0.51 | 4.29 | 0 | 30 | 13 | 223 | 1174 | 1820 |\n",
       "\n"
      ],
      "text/plain": [
       "  Id         ActivityDate TotalSteps TotalDistance TrackerDistance\n",
       "1 1503960366 2016-03-25   11004       7.11          7.11          \n",
       "2 1503960366 2016-03-26   17609      11.55         11.55          \n",
       "3 1503960366 2016-03-27   12736       8.53          8.53          \n",
       "4 1503960366 2016-03-28   13231       8.93          8.93          \n",
       "5 1503960366 2016-03-29   12041       7.85          7.85          \n",
       "6 1503960366 2016-03-30   10970       7.16          7.16          \n",
       "  LoggedActivitiesDistance VeryActiveDistance ModeratelyActiveDistance\n",
       "1 0                        2.57               0.46                    \n",
       "2 0                        6.92               0.73                    \n",
       "3 0                        4.66               0.16                    \n",
       "4 0                        3.19               0.79                    \n",
       "5 0                        2.16               1.09                    \n",
       "6 0                        2.36               0.51                    \n",
       "  LightActiveDistance SedentaryActiveDistance VeryActiveMinutes\n",
       "1 4.07                0                       33               \n",
       "2 3.91                0                       89               \n",
       "3 3.71                0                       56               \n",
       "4 4.95                0                       39               \n",
       "5 4.61                0                       28               \n",
       "6 4.29                0                       30               \n",
       "  FairlyActiveMinutes LightlyActiveMinutes SedentaryMinutes Calories\n",
       "1 12                  205                   804             1819    \n",
       "2 17                  274                   588             2154    \n",
       "3  5                  268                   605             1944    \n",
       "4 20                  224                  1080             1932    \n",
       "5 28                  243                   763             1886    \n",
       "6 13                  223                  1174             1820    "
      ]
     },
     "metadata": {},
     "output_type": "display_data"
    }
   ],
   "source": [
    "head(daily_activity)"
   ]
  },
  {
   "cell_type": "code",
   "execution_count": 31,
   "id": "0e1e88fc-b76e-4a44-bfac-8c720f33c549",
   "metadata": {},
   "outputs": [],
   "source": [
    "heart_rate_seconds$Time <- mdy_hms(heart_rate_seconds$Time,tz = Sys.timezone())"
   ]
  },
  {
   "cell_type": "code",
   "execution_count": 32,
   "id": "1e23d39c-e608-4ae7-bee1-e07433c2cfae",
   "metadata": {},
   "outputs": [
    {
     "data": {
      "text/html": [
       "<table class=\"dataframe\">\n",
       "<caption>A tibble: 6 × 3</caption>\n",
       "<thead>\n",
       "\t<tr><th scope=col>Id</th><th scope=col>Time</th><th scope=col>Value</th></tr>\n",
       "\t<tr><th scope=col>&lt;dbl&gt;</th><th scope=col>&lt;dttm&gt;</th><th scope=col>&lt;dbl&gt;</th></tr>\n",
       "</thead>\n",
       "<tbody>\n",
       "\t<tr><td>2022484408</td><td>2016-04-01 07:54:00</td><td> 93</td></tr>\n",
       "\t<tr><td>2022484408</td><td>2016-04-01 07:54:05</td><td> 91</td></tr>\n",
       "\t<tr><td>2022484408</td><td>2016-04-01 07:54:10</td><td> 96</td></tr>\n",
       "\t<tr><td>2022484408</td><td>2016-04-01 07:54:15</td><td> 98</td></tr>\n",
       "\t<tr><td>2022484408</td><td>2016-04-01 07:54:20</td><td>100</td></tr>\n",
       "\t<tr><td>2022484408</td><td>2016-04-01 07:54:25</td><td>101</td></tr>\n",
       "</tbody>\n",
       "</table>\n"
      ],
      "text/latex": [
       "A tibble: 6 × 3\n",
       "\\begin{tabular}{lll}\n",
       " Id & Time & Value\\\\\n",
       " <dbl> & <dttm> & <dbl>\\\\\n",
       "\\hline\n",
       "\t 2022484408 & 2016-04-01 07:54:00 &  93\\\\\n",
       "\t 2022484408 & 2016-04-01 07:54:05 &  91\\\\\n",
       "\t 2022484408 & 2016-04-01 07:54:10 &  96\\\\\n",
       "\t 2022484408 & 2016-04-01 07:54:15 &  98\\\\\n",
       "\t 2022484408 & 2016-04-01 07:54:20 & 100\\\\\n",
       "\t 2022484408 & 2016-04-01 07:54:25 & 101\\\\\n",
       "\\end{tabular}\n"
      ],
      "text/markdown": [
       "\n",
       "A tibble: 6 × 3\n",
       "\n",
       "| Id &lt;dbl&gt; | Time &lt;dttm&gt; | Value &lt;dbl&gt; |\n",
       "|---|---|---|\n",
       "| 2022484408 | 2016-04-01 07:54:00 |  93 |\n",
       "| 2022484408 | 2016-04-01 07:54:05 |  91 |\n",
       "| 2022484408 | 2016-04-01 07:54:10 |  96 |\n",
       "| 2022484408 | 2016-04-01 07:54:15 |  98 |\n",
       "| 2022484408 | 2016-04-01 07:54:20 | 100 |\n",
       "| 2022484408 | 2016-04-01 07:54:25 | 101 |\n",
       "\n"
      ],
      "text/plain": [
       "  Id         Time                Value\n",
       "1 2022484408 2016-04-01 07:54:00  93  \n",
       "2 2022484408 2016-04-01 07:54:05  91  \n",
       "3 2022484408 2016-04-01 07:54:10  96  \n",
       "4 2022484408 2016-04-01 07:54:15  98  \n",
       "5 2022484408 2016-04-01 07:54:20 100  \n",
       "6 2022484408 2016-04-01 07:54:25 101  "
      ]
     },
     "metadata": {},
     "output_type": "display_data"
    }
   ],
   "source": [
    "head(heart_rate_seconds)"
   ]
  },
  {
   "cell_type": "code",
   "execution_count": 33,
   "id": "733d9d97-1a38-4ca6-b624-d18f859c20b8",
   "metadata": {},
   "outputs": [],
   "source": [
    "hourly_calories$ActivityHour <- mdy_hms(hourly_calories$ActivityHour, tz = Sys.timezone())"
   ]
  },
  {
   "cell_type": "code",
   "execution_count": 34,
   "id": "ab0445c4-373a-4eff-9122-dc37e2a9770b",
   "metadata": {},
   "outputs": [
    {
     "data": {
      "text/html": [
       "<table class=\"dataframe\">\n",
       "<caption>A tibble: 6 × 3</caption>\n",
       "<thead>\n",
       "\t<tr><th scope=col>Id</th><th scope=col>ActivityHour</th><th scope=col>Calories</th></tr>\n",
       "\t<tr><th scope=col>&lt;dbl&gt;</th><th scope=col>&lt;dttm&gt;</th><th scope=col>&lt;dbl&gt;</th></tr>\n",
       "</thead>\n",
       "<tbody>\n",
       "\t<tr><td>1503960366</td><td>2016-03-12 00:00:00</td><td>48</td></tr>\n",
       "\t<tr><td>1503960366</td><td>2016-03-12 01:00:00</td><td>48</td></tr>\n",
       "\t<tr><td>1503960366</td><td>2016-03-12 02:00:00</td><td>48</td></tr>\n",
       "\t<tr><td>1503960366</td><td>2016-03-12 03:00:00</td><td>48</td></tr>\n",
       "\t<tr><td>1503960366</td><td>2016-03-12 04:00:00</td><td>48</td></tr>\n",
       "\t<tr><td>1503960366</td><td>2016-03-12 05:00:00</td><td>48</td></tr>\n",
       "</tbody>\n",
       "</table>\n"
      ],
      "text/latex": [
       "A tibble: 6 × 3\n",
       "\\begin{tabular}{lll}\n",
       " Id & ActivityHour & Calories\\\\\n",
       " <dbl> & <dttm> & <dbl>\\\\\n",
       "\\hline\n",
       "\t 1503960366 & 2016-03-12 00:00:00 & 48\\\\\n",
       "\t 1503960366 & 2016-03-12 01:00:00 & 48\\\\\n",
       "\t 1503960366 & 2016-03-12 02:00:00 & 48\\\\\n",
       "\t 1503960366 & 2016-03-12 03:00:00 & 48\\\\\n",
       "\t 1503960366 & 2016-03-12 04:00:00 & 48\\\\\n",
       "\t 1503960366 & 2016-03-12 05:00:00 & 48\\\\\n",
       "\\end{tabular}\n"
      ],
      "text/markdown": [
       "\n",
       "A tibble: 6 × 3\n",
       "\n",
       "| Id &lt;dbl&gt; | ActivityHour &lt;dttm&gt; | Calories &lt;dbl&gt; |\n",
       "|---|---|---|\n",
       "| 1503960366 | 2016-03-12 00:00:00 | 48 |\n",
       "| 1503960366 | 2016-03-12 01:00:00 | 48 |\n",
       "| 1503960366 | 2016-03-12 02:00:00 | 48 |\n",
       "| 1503960366 | 2016-03-12 03:00:00 | 48 |\n",
       "| 1503960366 | 2016-03-12 04:00:00 | 48 |\n",
       "| 1503960366 | 2016-03-12 05:00:00 | 48 |\n",
       "\n"
      ],
      "text/plain": [
       "  Id         ActivityHour        Calories\n",
       "1 1503960366 2016-03-12 00:00:00 48      \n",
       "2 1503960366 2016-03-12 01:00:00 48      \n",
       "3 1503960366 2016-03-12 02:00:00 48      \n",
       "4 1503960366 2016-03-12 03:00:00 48      \n",
       "5 1503960366 2016-03-12 04:00:00 48      \n",
       "6 1503960366 2016-03-12 05:00:00 48      "
      ]
     },
     "metadata": {},
     "output_type": "display_data"
    }
   ],
   "source": [
    "head(hourly_calories)"
   ]
  },
  {
   "cell_type": "code",
   "execution_count": 35,
   "id": "73e51ca1-38c5-4456-845a-0b0b834151b6",
   "metadata": {},
   "outputs": [],
   "source": [
    "hourly_intensities$ActivityHour <- mdy_hms(hourly_intensities$ActivityHour, tz = Sys.timezone())"
   ]
  },
  {
   "cell_type": "code",
   "execution_count": 36,
   "id": "959059dc-3464-48e8-bad3-181c03ee3bc2",
   "metadata": {},
   "outputs": [
    {
     "data": {
      "text/html": [
       "<table class=\"dataframe\">\n",
       "<caption>A tibble: 6 × 4</caption>\n",
       "<thead>\n",
       "\t<tr><th scope=col>Id</th><th scope=col>ActivityHour</th><th scope=col>TotalIntensity</th><th scope=col>AverageIntensity</th></tr>\n",
       "\t<tr><th scope=col>&lt;dbl&gt;</th><th scope=col>&lt;dttm&gt;</th><th scope=col>&lt;dbl&gt;</th><th scope=col>&lt;dbl&gt;</th></tr>\n",
       "</thead>\n",
       "<tbody>\n",
       "\t<tr><td>1503960366</td><td>2016-03-12 00:00:00</td><td>0</td><td>0</td></tr>\n",
       "\t<tr><td>1503960366</td><td>2016-03-12 01:00:00</td><td>0</td><td>0</td></tr>\n",
       "\t<tr><td>1503960366</td><td>2016-03-12 02:00:00</td><td>0</td><td>0</td></tr>\n",
       "\t<tr><td>1503960366</td><td>2016-03-12 03:00:00</td><td>0</td><td>0</td></tr>\n",
       "\t<tr><td>1503960366</td><td>2016-03-12 04:00:00</td><td>0</td><td>0</td></tr>\n",
       "\t<tr><td>1503960366</td><td>2016-03-12 05:00:00</td><td>0</td><td>0</td></tr>\n",
       "</tbody>\n",
       "</table>\n"
      ],
      "text/latex": [
       "A tibble: 6 × 4\n",
       "\\begin{tabular}{llll}\n",
       " Id & ActivityHour & TotalIntensity & AverageIntensity\\\\\n",
       " <dbl> & <dttm> & <dbl> & <dbl>\\\\\n",
       "\\hline\n",
       "\t 1503960366 & 2016-03-12 00:00:00 & 0 & 0\\\\\n",
       "\t 1503960366 & 2016-03-12 01:00:00 & 0 & 0\\\\\n",
       "\t 1503960366 & 2016-03-12 02:00:00 & 0 & 0\\\\\n",
       "\t 1503960366 & 2016-03-12 03:00:00 & 0 & 0\\\\\n",
       "\t 1503960366 & 2016-03-12 04:00:00 & 0 & 0\\\\\n",
       "\t 1503960366 & 2016-03-12 05:00:00 & 0 & 0\\\\\n",
       "\\end{tabular}\n"
      ],
      "text/markdown": [
       "\n",
       "A tibble: 6 × 4\n",
       "\n",
       "| Id &lt;dbl&gt; | ActivityHour &lt;dttm&gt; | TotalIntensity &lt;dbl&gt; | AverageIntensity &lt;dbl&gt; |\n",
       "|---|---|---|---|\n",
       "| 1503960366 | 2016-03-12 00:00:00 | 0 | 0 |\n",
       "| 1503960366 | 2016-03-12 01:00:00 | 0 | 0 |\n",
       "| 1503960366 | 2016-03-12 02:00:00 | 0 | 0 |\n",
       "| 1503960366 | 2016-03-12 03:00:00 | 0 | 0 |\n",
       "| 1503960366 | 2016-03-12 04:00:00 | 0 | 0 |\n",
       "| 1503960366 | 2016-03-12 05:00:00 | 0 | 0 |\n",
       "\n"
      ],
      "text/plain": [
       "  Id         ActivityHour        TotalIntensity AverageIntensity\n",
       "1 1503960366 2016-03-12 00:00:00 0              0               \n",
       "2 1503960366 2016-03-12 01:00:00 0              0               \n",
       "3 1503960366 2016-03-12 02:00:00 0              0               \n",
       "4 1503960366 2016-03-12 03:00:00 0              0               \n",
       "5 1503960366 2016-03-12 04:00:00 0              0               \n",
       "6 1503960366 2016-03-12 05:00:00 0              0               "
      ]
     },
     "metadata": {},
     "output_type": "display_data"
    }
   ],
   "source": [
    "head(hourly_intensities)"
   ]
  },
  {
   "cell_type": "code",
   "execution_count": 37,
   "id": "d98bebc2-c628-4750-85f6-6315995a1834",
   "metadata": {},
   "outputs": [],
   "source": [
    "hourly_steps$ActivityHour <- mdy_hms(hourly_steps$ActivityHour, tz = Sys.timezone())"
   ]
  },
  {
   "cell_type": "code",
   "execution_count": 38,
   "id": "bbc580af-c65f-4c95-a280-596ffc0c6c7c",
   "metadata": {},
   "outputs": [
    {
     "data": {
      "text/html": [
       "<table class=\"dataframe\">\n",
       "<caption>A tibble: 6 × 3</caption>\n",
       "<thead>\n",
       "\t<tr><th scope=col>Id</th><th scope=col>ActivityHour</th><th scope=col>StepTotal</th></tr>\n",
       "\t<tr><th scope=col>&lt;dbl&gt;</th><th scope=col>&lt;dttm&gt;</th><th scope=col>&lt;dbl&gt;</th></tr>\n",
       "</thead>\n",
       "<tbody>\n",
       "\t<tr><td>1503960366</td><td>2016-03-12 00:00:00</td><td>0</td></tr>\n",
       "\t<tr><td>1503960366</td><td>2016-03-12 01:00:00</td><td>0</td></tr>\n",
       "\t<tr><td>1503960366</td><td>2016-03-12 02:00:00</td><td>0</td></tr>\n",
       "\t<tr><td>1503960366</td><td>2016-03-12 03:00:00</td><td>0</td></tr>\n",
       "\t<tr><td>1503960366</td><td>2016-03-12 04:00:00</td><td>0</td></tr>\n",
       "\t<tr><td>1503960366</td><td>2016-03-12 05:00:00</td><td>0</td></tr>\n",
       "</tbody>\n",
       "</table>\n"
      ],
      "text/latex": [
       "A tibble: 6 × 3\n",
       "\\begin{tabular}{lll}\n",
       " Id & ActivityHour & StepTotal\\\\\n",
       " <dbl> & <dttm> & <dbl>\\\\\n",
       "\\hline\n",
       "\t 1503960366 & 2016-03-12 00:00:00 & 0\\\\\n",
       "\t 1503960366 & 2016-03-12 01:00:00 & 0\\\\\n",
       "\t 1503960366 & 2016-03-12 02:00:00 & 0\\\\\n",
       "\t 1503960366 & 2016-03-12 03:00:00 & 0\\\\\n",
       "\t 1503960366 & 2016-03-12 04:00:00 & 0\\\\\n",
       "\t 1503960366 & 2016-03-12 05:00:00 & 0\\\\\n",
       "\\end{tabular}\n"
      ],
      "text/markdown": [
       "\n",
       "A tibble: 6 × 3\n",
       "\n",
       "| Id &lt;dbl&gt; | ActivityHour &lt;dttm&gt; | StepTotal &lt;dbl&gt; |\n",
       "|---|---|---|\n",
       "| 1503960366 | 2016-03-12 00:00:00 | 0 |\n",
       "| 1503960366 | 2016-03-12 01:00:00 | 0 |\n",
       "| 1503960366 | 2016-03-12 02:00:00 | 0 |\n",
       "| 1503960366 | 2016-03-12 03:00:00 | 0 |\n",
       "| 1503960366 | 2016-03-12 04:00:00 | 0 |\n",
       "| 1503960366 | 2016-03-12 05:00:00 | 0 |\n",
       "\n"
      ],
      "text/plain": [
       "  Id         ActivityHour        StepTotal\n",
       "1 1503960366 2016-03-12 00:00:00 0        \n",
       "2 1503960366 2016-03-12 01:00:00 0        \n",
       "3 1503960366 2016-03-12 02:00:00 0        \n",
       "4 1503960366 2016-03-12 03:00:00 0        \n",
       "5 1503960366 2016-03-12 04:00:00 0        \n",
       "6 1503960366 2016-03-12 05:00:00 0        "
      ]
     },
     "metadata": {},
     "output_type": "display_data"
    }
   ],
   "source": [
    "head(hourly_steps)"
   ]
  },
  {
   "cell_type": "code",
   "execution_count": 39,
   "id": "bf360c7d-3c5e-4707-aa7f-ea7a6f3179c0",
   "metadata": {},
   "outputs": [],
   "source": [
    "sleep$date <- mdy_hms(sleep$date, tz = Sys.timezone())"
   ]
  },
  {
   "cell_type": "code",
   "execution_count": 40,
   "id": "fb7180c3-174b-4e97-afac-a9aa2f9a475c",
   "metadata": {},
   "outputs": [
    {
     "data": {
      "text/html": [
       "<table class=\"dataframe\">\n",
       "<caption>A tibble: 6 × 4</caption>\n",
       "<thead>\n",
       "\t<tr><th scope=col>Id</th><th scope=col>date</th><th scope=col>value</th><th scope=col>logId</th></tr>\n",
       "\t<tr><th scope=col>&lt;dbl&gt;</th><th scope=col>&lt;dttm&gt;</th><th scope=col>&lt;dbl&gt;</th><th scope=col>&lt;dbl&gt;</th></tr>\n",
       "</thead>\n",
       "<tbody>\n",
       "\t<tr><td>1503960366</td><td>2016-03-13 02:39:30</td><td>1</td><td>11114919637</td></tr>\n",
       "\t<tr><td>1503960366</td><td>2016-03-13 02:40:30</td><td>1</td><td>11114919637</td></tr>\n",
       "\t<tr><td>1503960366</td><td>2016-03-13 02:41:30</td><td>1</td><td>11114919637</td></tr>\n",
       "\t<tr><td>1503960366</td><td>2016-03-13 02:42:30</td><td>1</td><td>11114919637</td></tr>\n",
       "\t<tr><td>1503960366</td><td>2016-03-13 02:43:30</td><td>1</td><td>11114919637</td></tr>\n",
       "\t<tr><td>1503960366</td><td>2016-03-13 02:44:30</td><td>1</td><td>11114919637</td></tr>\n",
       "</tbody>\n",
       "</table>\n"
      ],
      "text/latex": [
       "A tibble: 6 × 4\n",
       "\\begin{tabular}{llll}\n",
       " Id & date & value & logId\\\\\n",
       " <dbl> & <dttm> & <dbl> & <dbl>\\\\\n",
       "\\hline\n",
       "\t 1503960366 & 2016-03-13 02:39:30 & 1 & 11114919637\\\\\n",
       "\t 1503960366 & 2016-03-13 02:40:30 & 1 & 11114919637\\\\\n",
       "\t 1503960366 & 2016-03-13 02:41:30 & 1 & 11114919637\\\\\n",
       "\t 1503960366 & 2016-03-13 02:42:30 & 1 & 11114919637\\\\\n",
       "\t 1503960366 & 2016-03-13 02:43:30 & 1 & 11114919637\\\\\n",
       "\t 1503960366 & 2016-03-13 02:44:30 & 1 & 11114919637\\\\\n",
       "\\end{tabular}\n"
      ],
      "text/markdown": [
       "\n",
       "A tibble: 6 × 4\n",
       "\n",
       "| Id &lt;dbl&gt; | date &lt;dttm&gt; | value &lt;dbl&gt; | logId &lt;dbl&gt; |\n",
       "|---|---|---|---|\n",
       "| 1503960366 | 2016-03-13 02:39:30 | 1 | 11114919637 |\n",
       "| 1503960366 | 2016-03-13 02:40:30 | 1 | 11114919637 |\n",
       "| 1503960366 | 2016-03-13 02:41:30 | 1 | 11114919637 |\n",
       "| 1503960366 | 2016-03-13 02:42:30 | 1 | 11114919637 |\n",
       "| 1503960366 | 2016-03-13 02:43:30 | 1 | 11114919637 |\n",
       "| 1503960366 | 2016-03-13 02:44:30 | 1 | 11114919637 |\n",
       "\n"
      ],
      "text/plain": [
       "  Id         date                value logId      \n",
       "1 1503960366 2016-03-13 02:39:30 1     11114919637\n",
       "2 1503960366 2016-03-13 02:40:30 1     11114919637\n",
       "3 1503960366 2016-03-13 02:41:30 1     11114919637\n",
       "4 1503960366 2016-03-13 02:42:30 1     11114919637\n",
       "5 1503960366 2016-03-13 02:43:30 1     11114919637\n",
       "6 1503960366 2016-03-13 02:44:30 1     11114919637"
      ]
     },
     "metadata": {},
     "output_type": "display_data"
    }
   ],
   "source": [
    "head(sleep)"
   ]
  },
  {
   "cell_type": "code",
   "execution_count": 41,
   "id": "7e03ba22-6441-4cdc-ab30-7fde0fb141d3",
   "metadata": {},
   "outputs": [],
   "source": [
    "weight_info$Date <- mdy_hms(weight_info$Date, tz = Sys.timezone())"
   ]
  },
  {
   "cell_type": "code",
   "execution_count": 42,
   "id": "367c8108-1386-4018-8e8b-bcb010943e06",
   "metadata": {},
   "outputs": [
    {
     "data": {
      "text/html": [
       "<table class=\"dataframe\">\n",
       "<caption>A tibble: 6 × 8</caption>\n",
       "<thead>\n",
       "\t<tr><th scope=col>Id</th><th scope=col>Date</th><th scope=col>WeightKg</th><th scope=col>WeightPounds</th><th scope=col>Fat</th><th scope=col>BMI</th><th scope=col>IsManualReport</th><th scope=col>LogId</th></tr>\n",
       "\t<tr><th scope=col>&lt;dbl&gt;</th><th scope=col>&lt;dttm&gt;</th><th scope=col>&lt;dbl&gt;</th><th scope=col>&lt;dbl&gt;</th><th scope=col>&lt;dbl&gt;</th><th scope=col>&lt;dbl&gt;</th><th scope=col>&lt;lgl&gt;</th><th scope=col>&lt;dbl&gt;</th></tr>\n",
       "</thead>\n",
       "<tbody>\n",
       "\t<tr><td>1503960366</td><td>2016-04-05 23:59:59</td><td> 53.3</td><td>117.5064</td><td>22</td><td>22.97</td><td> TRUE</td><td>1.459901e+12</td></tr>\n",
       "\t<tr><td>1927972279</td><td>2016-04-10 18:33:26</td><td>129.6</td><td>285.7191</td><td>NA</td><td>46.17</td><td>FALSE</td><td>1.460313e+12</td></tr>\n",
       "\t<tr><td>2347167796</td><td>2016-04-03 23:59:59</td><td> 63.4</td><td>139.7731</td><td>10</td><td>24.77</td><td> TRUE</td><td>1.459728e+12</td></tr>\n",
       "\t<tr><td>2873212765</td><td>2016-04-06 23:59:59</td><td> 56.7</td><td>125.0021</td><td>NA</td><td>21.45</td><td> TRUE</td><td>1.459987e+12</td></tr>\n",
       "\t<tr><td>2873212765</td><td>2016-04-07 23:59:59</td><td> 57.2</td><td>126.1044</td><td>NA</td><td>21.65</td><td> TRUE</td><td>1.460074e+12</td></tr>\n",
       "\t<tr><td>2891001357</td><td>2016-04-05 23:59:59</td><td> 88.4</td><td>194.8886</td><td>NA</td><td>25.03</td><td> TRUE</td><td>1.459901e+12</td></tr>\n",
       "</tbody>\n",
       "</table>\n"
      ],
      "text/latex": [
       "A tibble: 6 × 8\n",
       "\\begin{tabular}{llllllll}\n",
       " Id & Date & WeightKg & WeightPounds & Fat & BMI & IsManualReport & LogId\\\\\n",
       " <dbl> & <dttm> & <dbl> & <dbl> & <dbl> & <dbl> & <lgl> & <dbl>\\\\\n",
       "\\hline\n",
       "\t 1503960366 & 2016-04-05 23:59:59 &  53.3 & 117.5064 & 22 & 22.97 &  TRUE & 1.459901e+12\\\\\n",
       "\t 1927972279 & 2016-04-10 18:33:26 & 129.6 & 285.7191 & NA & 46.17 & FALSE & 1.460313e+12\\\\\n",
       "\t 2347167796 & 2016-04-03 23:59:59 &  63.4 & 139.7731 & 10 & 24.77 &  TRUE & 1.459728e+12\\\\\n",
       "\t 2873212765 & 2016-04-06 23:59:59 &  56.7 & 125.0021 & NA & 21.45 &  TRUE & 1.459987e+12\\\\\n",
       "\t 2873212765 & 2016-04-07 23:59:59 &  57.2 & 126.1044 & NA & 21.65 &  TRUE & 1.460074e+12\\\\\n",
       "\t 2891001357 & 2016-04-05 23:59:59 &  88.4 & 194.8886 & NA & 25.03 &  TRUE & 1.459901e+12\\\\\n",
       "\\end{tabular}\n"
      ],
      "text/markdown": [
       "\n",
       "A tibble: 6 × 8\n",
       "\n",
       "| Id &lt;dbl&gt; | Date &lt;dttm&gt; | WeightKg &lt;dbl&gt; | WeightPounds &lt;dbl&gt; | Fat &lt;dbl&gt; | BMI &lt;dbl&gt; | IsManualReport &lt;lgl&gt; | LogId &lt;dbl&gt; |\n",
       "|---|---|---|---|---|---|---|---|\n",
       "| 1503960366 | 2016-04-05 23:59:59 |  53.3 | 117.5064 | 22 | 22.97 |  TRUE | 1.459901e+12 |\n",
       "| 1927972279 | 2016-04-10 18:33:26 | 129.6 | 285.7191 | NA | 46.17 | FALSE | 1.460313e+12 |\n",
       "| 2347167796 | 2016-04-03 23:59:59 |  63.4 | 139.7731 | 10 | 24.77 |  TRUE | 1.459728e+12 |\n",
       "| 2873212765 | 2016-04-06 23:59:59 |  56.7 | 125.0021 | NA | 21.45 |  TRUE | 1.459987e+12 |\n",
       "| 2873212765 | 2016-04-07 23:59:59 |  57.2 | 126.1044 | NA | 21.65 |  TRUE | 1.460074e+12 |\n",
       "| 2891001357 | 2016-04-05 23:59:59 |  88.4 | 194.8886 | NA | 25.03 |  TRUE | 1.459901e+12 |\n",
       "\n"
      ],
      "text/plain": [
       "  Id         Date                WeightKg WeightPounds Fat BMI   IsManualReport\n",
       "1 1503960366 2016-04-05 23:59:59  53.3    117.5064     22  22.97  TRUE         \n",
       "2 1927972279 2016-04-10 18:33:26 129.6    285.7191     NA  46.17 FALSE         \n",
       "3 2347167796 2016-04-03 23:59:59  63.4    139.7731     10  24.77  TRUE         \n",
       "4 2873212765 2016-04-06 23:59:59  56.7    125.0021     NA  21.45  TRUE         \n",
       "5 2873212765 2016-04-07 23:59:59  57.2    126.1044     NA  21.65  TRUE         \n",
       "6 2891001357 2016-04-05 23:59:59  88.4    194.8886     NA  25.03  TRUE         \n",
       "  LogId       \n",
       "1 1.459901e+12\n",
       "2 1.460313e+12\n",
       "3 1.459728e+12\n",
       "4 1.459987e+12\n",
       "5 1.460074e+12\n",
       "6 1.459901e+12"
      ]
     },
     "metadata": {},
     "output_type": "display_data"
    }
   ],
   "source": [
    "head(weight_info)"
   ]
  },
  {
   "cell_type": "markdown",
   "id": "fc430b43-d682-4b97-ba57-2938d8478b9d",
   "metadata": {},
   "source": [
    "# Analysis\n",
    "we will uncover the general statistics of data and compare the results with appropriate data."
   ]
  },
  {
   "cell_type": "code",
   "execution_count": 43,
   "id": "ff51e133-336c-4f84-be42-fb4d72810fd7",
   "metadata": {},
   "outputs": [
    {
     "data": {
      "text/plain": [
       " FairlyActiveMinutes\n",
       " Min.   :  0.00     \n",
       " 1st Qu.:  0.00     \n",
       " Median :  1.00     \n",
       " Mean   : 13.07     \n",
       " 3rd Qu.: 16.00     \n",
       " Max.   :660.00     "
      ]
     },
     "metadata": {},
     "output_type": "display_data"
    }
   ],
   "source": [
    "daily_activity %>%\n",
    "    select(FairlyActiveMinutes) %>%\n",
    "    summary()\n"
   ]
  },
  {
   "cell_type": "markdown",
   "id": "2d469334-d979-410f-a20f-2e70adda5f9f",
   "metadata": {},
   "source": [
    "The average of FairlyActiveMinutes is 13.07 in a day while WHO recommends at least 21 to 42 minutes of moderate aerobic activity per day \\\n",
    "Reference : https://www.who.int/europe/publications/i/item/9789240014886"
   ]
  },
  {
   "cell_type": "markdown",
   "id": "bee96569-7f06-419b-afd8-614c51f4851a",
   "metadata": {},
   "source": [
    "Now we examine FairlyActiveMinutes for each respondant."
   ]
  },
  {
   "cell_type": "code",
   "execution_count": 44,
   "id": "0e98812a-e756-44e2-8437-ea5901c32d1c",
   "metadata": {},
   "outputs": [
    {
     "data": {
      "text/html": [
       "8"
      ],
      "text/latex": [
       "8"
      ],
      "text/markdown": [
       "8"
      ],
      "text/plain": [
       "[1] 8"
      ]
     },
     "metadata": {},
     "output_type": "display_data"
    }
   ],
   "source": [
    "daily_activity %>%\n",
    "    group_by (Id) %>%\n",
    "    summarise(Average_FairlyActiveMinutes = mean(FairlyActiveMinutes)) %>%\n",
    "    filter (Average_FairlyActiveMinutes >= 21) %>% # 21 minutes are minimum moderate aerobic activity per day\n",
    "    nrow()"
   ]
  },
  {
   "cell_type": "markdown",
   "id": "e6946294-cd92-4c4d-8d84-282210d5f1d6",
   "metadata": {},
   "source": [
    "### Recommendation-1 \n",
    "It is important to mention that only 8 (23 %) respondents out of 35 are involved physical activity as per WHO guidelines.\\\n",
    "Also this information holds potential for enhancing Bellabeat's marketing strategy by encouraging customers toward increased activity over sedentary behavior. Moreover, the Bellabeat app could utilize timed notifications to prompt users towards activity rather than remaining sedentary."
   ]
  },
  {
   "cell_type": "code",
   "execution_count": 45,
   "id": "dba8bd0e-7c28-487a-8bfb-1586b462f397",
   "metadata": {},
   "outputs": [
    {
     "data": {
      "text/plain": [
       "   TotalSteps   \n",
       " Min.   :    0  \n",
       " 1st Qu.: 1988  \n",
       " Median : 5986  \n",
       " Mean   : 6547  \n",
       " 3rd Qu.:10198  \n",
       " Max.   :28497  "
      ]
     },
     "metadata": {},
     "output_type": "display_data"
    }
   ],
   "source": [
    "daily_activity %>%\n",
    "    select (TotalSteps) %>%\n",
    "    summary()"
   ]
  },
  {
   "cell_type": "markdown",
   "id": "e5739689-7a5f-4bdb-ae4d-b0517ae1a3d2",
   "metadata": {},
   "source": [
    "According to a study, 10,000 steps per day is a reasonable target for healthy adults.\\\n",
    "Reference : https://www.healthline.com/health/how-many-steps-a-day#how-many-steps-per-day \\\n",
    "The mean fo TotalSteps for all respondents is 6547 which is quite low. \\\n",
    "### Recommendation-2\n",
    "Bellabeat could utilize this data to incentivize customers who achieve the 10,000-step target with rewards. This initiative could create mutual benefits for both Bellabeat and its customers, fostering a win-win scenario."
   ]
  },
  {
   "cell_type": "code",
   "execution_count": 46,
   "id": "62bda3d8-01cf-436f-9186-e9fadaed7f9a",
   "metadata": {},
   "outputs": [
    {
     "data": {
      "text/plain": [
       " VeryActiveMinutes FairlyActiveMinutes LightlyActiveMinutes\n",
       " Min.   :  0.00    Min.   :  0.00      Min.   :  0.0       \n",
       " 1st Qu.:  0.00    1st Qu.:  0.00      1st Qu.: 64.0       \n",
       " Median :  0.00    Median :  1.00      Median :181.0       \n",
       " Mean   : 16.62    Mean   : 13.07      Mean   :170.1       \n",
       " 3rd Qu.: 25.00    3rd Qu.: 16.00      3rd Qu.:257.0       \n",
       " Max.   :202.00    Max.   :660.00      Max.   :720.0       "
      ]
     },
     "metadata": {},
     "output_type": "display_data"
    }
   ],
   "source": [
    "daily_activity %>%\n",
    "    select (VeryActiveMinutes,FairlyActiveMinutes,LightlyActiveMinutes) %>%\n",
    "    summary()"
   ]
  },
  {
   "cell_type": "markdown",
   "id": "9beaf977-e6b7-477f-af46-86643a38bbbf",
   "metadata": {},
   "source": [
    "The calculation above clearly indicates that responders lean towards a less active lifestyle"
   ]
  },
  {
   "cell_type": "code",
   "execution_count": 47,
   "id": "2739c394-a3c9-4100-ab54-34bbf3e98a6f",
   "metadata": {},
   "outputs": [
    {
     "data": {
      "image/png": "[encoded data removed]",
      "text/plain": [
       "plot without title"
      ]
     },
     "metadata": {
      "image/png": {
       "height": 600,
       "width": 1200
      }
     },
     "output_type": "display_data"
    }
   ],
   "source": [
    "options(repr.plot.width = 20, repr.plot.height =10)\n",
    "heart_rate_seconds %>%\n",
    "    filter (Id == 2022484408) %>%\n",
    "    ggplot()+\n",
    "    geom_line(mapping = aes(x = Time, y = Value))"
   ]
  },
  {
   "cell_type": "markdown",
   "id": "f5e7bc34-da30-419a-b23d-8ef851d9edec",
   "metadata": {},
   "source": [
    "### Recommendation-3\n",
    "The data displays heart rate measurements over time, which can be made accessible through the Bellabeat app. This information may prompt users to be more mindful of their cardiac health."
   ]
  },
  {
   "cell_type": "code",
   "execution_count": 48,
   "id": "ab3975ee-4c76-4299-9db4-30a4be295cbd",
   "metadata": {},
   "outputs": [],
   "source": [
    "# We want to calculte average calories consumed by each respondent in a day.\n",
    "# for this, we need DateOnly Column so that we can make use of group_by function\n",
    "hourly_calories <- hourly_calories %>%\n",
    "    mutate(TimeOnly = as_hms(hourly_calories$ActivityHour),DateOnly = as_date(hourly_calories$ActivityHour))"
   ]
  },
  {
   "cell_type": "code",
   "execution_count": 49,
   "id": "f6bf2b76-14c3-416a-89ef-baa449234997",
   "metadata": {},
   "outputs": [
    {
     "data": {
      "text/html": [
       "<table class=\"dataframe\">\n",
       "<caption>A tibble: 6 × 5</caption>\n",
       "<thead>\n",
       "\t<tr><th scope=col>Id</th><th scope=col>ActivityHour</th><th scope=col>Calories</th><th scope=col>TimeOnly</th><th scope=col>DateOnly</th></tr>\n",
       "\t<tr><th scope=col>&lt;dbl&gt;</th><th scope=col>&lt;dttm&gt;</th><th scope=col>&lt;dbl&gt;</th><th scope=col>&lt;time&gt;</th><th scope=col>&lt;date&gt;</th></tr>\n",
       "</thead>\n",
       "<tbody>\n",
       "\t<tr><td>1503960366</td><td>2016-03-12 00:00:00</td><td>48</td><td>00:00:00</td><td>2016-03-12</td></tr>\n",
       "\t<tr><td>1503960366</td><td>2016-03-12 01:00:00</td><td>48</td><td>01:00:00</td><td>2016-03-12</td></tr>\n",
       "\t<tr><td>1503960366</td><td>2016-03-12 02:00:00</td><td>48</td><td>02:00:00</td><td>2016-03-12</td></tr>\n",
       "\t<tr><td>1503960366</td><td>2016-03-12 03:00:00</td><td>48</td><td>03:00:00</td><td>2016-03-12</td></tr>\n",
       "\t<tr><td>1503960366</td><td>2016-03-12 04:00:00</td><td>48</td><td>04:00:00</td><td>2016-03-12</td></tr>\n",
       "\t<tr><td>1503960366</td><td>2016-03-12 05:00:00</td><td>48</td><td>05:00:00</td><td>2016-03-12</td></tr>\n",
       "</tbody>\n",
       "</table>\n"
      ],
      "text/latex": [
       "A tibble: 6 × 5\n",
       "\\begin{tabular}{lllll}\n",
       " Id & ActivityHour & Calories & TimeOnly & DateOnly\\\\\n",
       " <dbl> & <dttm> & <dbl> & <time> & <date>\\\\\n",
       "\\hline\n",
       "\t 1503960366 & 2016-03-12 00:00:00 & 48 & 00:00:00 & 2016-03-12\\\\\n",
       "\t 1503960366 & 2016-03-12 01:00:00 & 48 & 01:00:00 & 2016-03-12\\\\\n",
       "\t 1503960366 & 2016-03-12 02:00:00 & 48 & 02:00:00 & 2016-03-12\\\\\n",
       "\t 1503960366 & 2016-03-12 03:00:00 & 48 & 03:00:00 & 2016-03-12\\\\\n",
       "\t 1503960366 & 2016-03-12 04:00:00 & 48 & 04:00:00 & 2016-03-12\\\\\n",
       "\t 1503960366 & 2016-03-12 05:00:00 & 48 & 05:00:00 & 2016-03-12\\\\\n",
       "\\end{tabular}\n"
      ],
      "text/markdown": [
       "\n",
       "A tibble: 6 × 5\n",
       "\n",
       "| Id &lt;dbl&gt; | ActivityHour &lt;dttm&gt; | Calories &lt;dbl&gt; | TimeOnly &lt;time&gt; | DateOnly &lt;date&gt; |\n",
       "|---|---|---|---|---|\n",
       "| 1503960366 | 2016-03-12 00:00:00 | 48 | 00:00:00 | 2016-03-12 |\n",
       "| 1503960366 | 2016-03-12 01:00:00 | 48 | 01:00:00 | 2016-03-12 |\n",
       "| 1503960366 | 2016-03-12 02:00:00 | 48 | 02:00:00 | 2016-03-12 |\n",
       "| 1503960366 | 2016-03-12 03:00:00 | 48 | 03:00:00 | 2016-03-12 |\n",
       "| 1503960366 | 2016-03-12 04:00:00 | 48 | 04:00:00 | 2016-03-12 |\n",
       "| 1503960366 | 2016-03-12 05:00:00 | 48 | 05:00:00 | 2016-03-12 |\n",
       "\n"
      ],
      "text/plain": [
       "  Id         ActivityHour        Calories TimeOnly DateOnly  \n",
       "1 1503960366 2016-03-12 00:00:00 48       00:00:00 2016-03-12\n",
       "2 1503960366 2016-03-12 01:00:00 48       01:00:00 2016-03-12\n",
       "3 1503960366 2016-03-12 02:00:00 48       02:00:00 2016-03-12\n",
       "4 1503960366 2016-03-12 03:00:00 48       03:00:00 2016-03-12\n",
       "5 1503960366 2016-03-12 04:00:00 48       04:00:00 2016-03-12\n",
       "6 1503960366 2016-03-12 05:00:00 48       05:00:00 2016-03-12"
      ]
     },
     "metadata": {},
     "output_type": "display_data"
    }
   ],
   "source": [
    "head(hourly_calories)"
   ]
  },
  {
   "cell_type": "code",
   "execution_count": 50,
   "id": "6765a236-b500-42c2-bc11-520b163aeba4",
   "metadata": {},
   "outputs": [
    {
     "name": "stderr",
     "output_type": "stream",
     "text": [
      "\u001b[1m\u001b[22m`summarise()` has grouped output by 'Id'. You can override using the `.groups` argument.\n"
     ]
    }
   ],
   "source": [
    "calories_summary <- hourly_calories %>%\n",
    "    group_by (Id,DateOnly) %>%\n",
    "    summarise (AverageCalories = mean(Calories))"
   ]
  },
  {
   "cell_type": "code",
   "execution_count": 51,
   "id": "d045fcfd-489b-49f6-9661-c1e8ee7ffd29",
   "metadata": {},
   "outputs": [
    {
     "data": {
      "text/html": [
       "<table class=\"dataframe\">\n",
       "<caption>A grouped_df: 6 × 3</caption>\n",
       "<thead>\n",
       "\t<tr><th scope=col>Id</th><th scope=col>DateOnly</th><th scope=col>AverageCalories</th></tr>\n",
       "\t<tr><th scope=col>&lt;dbl&gt;</th><th scope=col>&lt;date&gt;</th><th scope=col>&lt;dbl&gt;</th></tr>\n",
       "</thead>\n",
       "<tbody>\n",
       "\t<tr><td>1503960366</td><td>2016-03-12</td><td>92.83333</td></tr>\n",
       "\t<tr><td>1503960366</td><td>2016-03-13</td><td>87.50000</td></tr>\n",
       "\t<tr><td>1503960366</td><td>2016-03-14</td><td>76.25000</td></tr>\n",
       "\t<tr><td>1503960366</td><td>2016-03-15</td><td>87.95833</td></tr>\n",
       "\t<tr><td>1503960366</td><td>2016-03-16</td><td>81.95833</td></tr>\n",
       "\t<tr><td>1503960366</td><td>2016-03-17</td><td>84.95833</td></tr>\n",
       "</tbody>\n",
       "</table>\n"
      ],
      "text/latex": [
       "A grouped\\_df: 6 × 3\n",
       "\\begin{tabular}{lll}\n",
       " Id & DateOnly & AverageCalories\\\\\n",
       " <dbl> & <date> & <dbl>\\\\\n",
       "\\hline\n",
       "\t 1503960366 & 2016-03-12 & 92.83333\\\\\n",
       "\t 1503960366 & 2016-03-13 & 87.50000\\\\\n",
       "\t 1503960366 & 2016-03-14 & 76.25000\\\\\n",
       "\t 1503960366 & 2016-03-15 & 87.95833\\\\\n",
       "\t 1503960366 & 2016-03-16 & 81.95833\\\\\n",
       "\t 1503960366 & 2016-03-17 & 84.95833\\\\\n",
       "\\end{tabular}\n"
      ],
      "text/markdown": [
       "\n",
       "A grouped_df: 6 × 3\n",
       "\n",
       "| Id &lt;dbl&gt; | DateOnly &lt;date&gt; | AverageCalories &lt;dbl&gt; |\n",
       "|---|---|---|\n",
       "| 1503960366 | 2016-03-12 | 92.83333 |\n",
       "| 1503960366 | 2016-03-13 | 87.50000 |\n",
       "| 1503960366 | 2016-03-14 | 76.25000 |\n",
       "| 1503960366 | 2016-03-15 | 87.95833 |\n",
       "| 1503960366 | 2016-03-16 | 81.95833 |\n",
       "| 1503960366 | 2016-03-17 | 84.95833 |\n",
       "\n"
      ],
      "text/plain": [
       "  Id         DateOnly   AverageCalories\n",
       "1 1503960366 2016-03-12 92.83333       \n",
       "2 1503960366 2016-03-13 87.50000       \n",
       "3 1503960366 2016-03-14 76.25000       \n",
       "4 1503960366 2016-03-15 87.95833       \n",
       "5 1503960366 2016-03-16 81.95833       \n",
       "6 1503960366 2016-03-17 84.95833       "
      ]
     },
     "metadata": {},
     "output_type": "display_data"
    }
   ],
   "source": [
    "head(calories_summary)"
   ]
  },
  {
   "cell_type": "code",
   "execution_count": 52,
   "id": "62a50784-fd75-448e-86b2-20ac5c142883",
   "metadata": {},
   "outputs": [
    {
     "name": "stderr",
     "output_type": "stream",
     "text": [
      "\u001b[1m\u001b[22m`geom_line()`: Each group consists of only one observation.\n",
      "\u001b[36mℹ\u001b[39m Do you need to adjust the \u001b[32mgroup\u001b[39m aesthetic?\n"
     ]
    },
    {
     "data": {
      "image/png": "[encoded data removed]",
      "text/plain": [
       "plot without title"
      ]
     },
     "metadata": {
      "image/png": {
       "height": 600,
       "width": 1200
      }
     },
     "output_type": "display_data"
    }
   ],
   "source": [
    "ggplot(data = calories_summary) +\n",
    "    geom_line (mapping = aes(x = DateOnly, y = AverageCalories))+\n",
    "    facet_wrap (~Id)"
   ]
  },
  {
   "cell_type": "markdown",
   "id": "c7bf58a6-0cfd-4ebf-adc9-b463d9d63987",
   "metadata": {},
   "source": [
    "### Recommendation-4\n",
    "The graph above, representing individual responders, can serve as a tool for tracking calories within the Bellabeat App. This enables users to manage their lifestyle based on past records"
   ]
  },
  {
   "cell_type": "code",
   "execution_count": 53,
   "id": "ca9b807f-9e92-45df-8ad9-ad9a19a90942",
   "metadata": {},
   "outputs": [],
   "source": [
    "hourly_intensities <- hourly_intensities %>%\n",
    "    mutate(TimeOnly = as_hms(hourly_intensities$ActivityHour),DateOnly = as_date(hourly_intensities$ActivityHour))"
   ]
  },
  {
   "cell_type": "code",
   "execution_count": 54,
   "id": "b75c6041-0afc-4024-ba1e-1d3a68a10ac1",
   "metadata": {},
   "outputs": [
    {
     "data": {
      "text/html": [
       "<table class=\"dataframe\">\n",
       "<caption>A tibble: 6 × 6</caption>\n",
       "<thead>\n",
       "\t<tr><th scope=col>Id</th><th scope=col>ActivityHour</th><th scope=col>TotalIntensity</th><th scope=col>AverageIntensity</th><th scope=col>TimeOnly</th><th scope=col>DateOnly</th></tr>\n",
       "\t<tr><th scope=col>&lt;dbl&gt;</th><th scope=col>&lt;dttm&gt;</th><th scope=col>&lt;dbl&gt;</th><th scope=col>&lt;dbl&gt;</th><th scope=col>&lt;time&gt;</th><th scope=col>&lt;date&gt;</th></tr>\n",
       "</thead>\n",
       "<tbody>\n",
       "\t<tr><td>1503960366</td><td>2016-03-12 00:00:00</td><td>0</td><td>0</td><td>00:00:00</td><td>2016-03-12</td></tr>\n",
       "\t<tr><td>1503960366</td><td>2016-03-12 01:00:00</td><td>0</td><td>0</td><td>01:00:00</td><td>2016-03-12</td></tr>\n",
       "\t<tr><td>1503960366</td><td>2016-03-12 02:00:00</td><td>0</td><td>0</td><td>02:00:00</td><td>2016-03-12</td></tr>\n",
       "\t<tr><td>1503960366</td><td>2016-03-12 03:00:00</td><td>0</td><td>0</td><td>03:00:00</td><td>2016-03-12</td></tr>\n",
       "\t<tr><td>1503960366</td><td>2016-03-12 04:00:00</td><td>0</td><td>0</td><td>04:00:00</td><td>2016-03-12</td></tr>\n",
       "\t<tr><td>1503960366</td><td>2016-03-12 05:00:00</td><td>0</td><td>0</td><td>05:00:00</td><td>2016-03-12</td></tr>\n",
       "</tbody>\n",
       "</table>\n"
      ],
      "text/latex": [
       "A tibble: 6 × 6\n",
       "\\begin{tabular}{llllll}\n",
       " Id & ActivityHour & TotalIntensity & AverageIntensity & TimeOnly & DateOnly\\\\\n",
       " <dbl> & <dttm> & <dbl> & <dbl> & <time> & <date>\\\\\n",
       "\\hline\n",
       "\t 1503960366 & 2016-03-12 00:00:00 & 0 & 0 & 00:00:00 & 2016-03-12\\\\\n",
       "\t 1503960366 & 2016-03-12 01:00:00 & 0 & 0 & 01:00:00 & 2016-03-12\\\\\n",
       "\t 1503960366 & 2016-03-12 02:00:00 & 0 & 0 & 02:00:00 & 2016-03-12\\\\\n",
       "\t 1503960366 & 2016-03-12 03:00:00 & 0 & 0 & 03:00:00 & 2016-03-12\\\\\n",
       "\t 1503960366 & 2016-03-12 04:00:00 & 0 & 0 & 04:00:00 & 2016-03-12\\\\\n",
       "\t 1503960366 & 2016-03-12 05:00:00 & 0 & 0 & 05:00:00 & 2016-03-12\\\\\n",
       "\\end{tabular}\n"
      ],
      "text/markdown": [
       "\n",
       "A tibble: 6 × 6\n",
       "\n",
       "| Id &lt;dbl&gt; | ActivityHour &lt;dttm&gt; | TotalIntensity &lt;dbl&gt; | AverageIntensity &lt;dbl&gt; | TimeOnly &lt;time&gt; | DateOnly &lt;date&gt; |\n",
       "|---|---|---|---|---|---|\n",
       "| 1503960366 | 2016-03-12 00:00:00 | 0 | 0 | 00:00:00 | 2016-03-12 |\n",
       "| 1503960366 | 2016-03-12 01:00:00 | 0 | 0 | 01:00:00 | 2016-03-12 |\n",
       "| 1503960366 | 2016-03-12 02:00:00 | 0 | 0 | 02:00:00 | 2016-03-12 |\n",
       "| 1503960366 | 2016-03-12 03:00:00 | 0 | 0 | 03:00:00 | 2016-03-12 |\n",
       "| 1503960366 | 2016-03-12 04:00:00 | 0 | 0 | 04:00:00 | 2016-03-12 |\n",
       "| 1503960366 | 2016-03-12 05:00:00 | 0 | 0 | 05:00:00 | 2016-03-12 |\n",
       "\n"
      ],
      "text/plain": [
       "  Id         ActivityHour        TotalIntensity AverageIntensity TimeOnly\n",
       "1 1503960366 2016-03-12 00:00:00 0              0                00:00:00\n",
       "2 1503960366 2016-03-12 01:00:00 0              0                01:00:00\n",
       "3 1503960366 2016-03-12 02:00:00 0              0                02:00:00\n",
       "4 1503960366 2016-03-12 03:00:00 0              0                03:00:00\n",
       "5 1503960366 2016-03-12 04:00:00 0              0                04:00:00\n",
       "6 1503960366 2016-03-12 05:00:00 0              0                05:00:00\n",
       "  DateOnly  \n",
       "1 2016-03-12\n",
       "2 2016-03-12\n",
       "3 2016-03-12\n",
       "4 2016-03-12\n",
       "5 2016-03-12\n",
       "6 2016-03-12"
      ]
     },
     "metadata": {},
     "output_type": "display_data"
    }
   ],
   "source": [
    "head(hourly_intensities)"
   ]
  },
  {
   "cell_type": "code",
   "execution_count": 55,
   "id": "f1f52b33-ac8d-47c1-91db-88f4c111f590",
   "metadata": {},
   "outputs": [
    {
     "name": "stderr",
     "output_type": "stream",
     "text": [
      "\u001b[1m\u001b[22m`summarise()` has grouped output by 'Id'. You can override using the `.groups` argument.\n"
     ]
    }
   ],
   "source": [
    "intensities_summary <- hourly_intensities %>%\n",
    "    group_by (Id,DateOnly) %>%\n",
    "    summarise (AverageIntensities = mean(TotalIntensity))"
   ]
  },
  {
   "cell_type": "code",
   "execution_count": 56,
   "id": "cf87f4a4-332d-4eb3-8378-78097d7dfdf2",
   "metadata": {},
   "outputs": [
    {
     "name": "stderr",
     "output_type": "stream",
     "text": [
      "\u001b[1m\u001b[22m`geom_line()`: Each group consists of only one observation.\n",
      "\u001b[36mℹ\u001b[39m Do you need to adjust the \u001b[32mgroup\u001b[39m aesthetic?\n"
     ]
    },
    {
     "data": {
      "image/png": "[encoded data removed]",
      "text/plain": [
       "plot without title"
      ]
     },
     "metadata": {
      "image/png": {
       "height": 600,
       "width": 1200
      }
     },
     "output_type": "display_data"
    }
   ],
   "source": [
    "ggplot(data = intensities_summary) +\n",
    "    geom_line (mapping = aes(x = DateOnly, y = AverageIntensities))+\n",
    "    facet_wrap (~Id)"
   ]
  },
  {
   "cell_type": "markdown",
   "id": "73a40c31-c09b-4c30-b85b-9e773734702d",
   "metadata": {},
   "source": [
    "### Recommendation-5\n",
    "The graph above can serve as a tool for tracking intensities within the Bellabeat App. This enables users to manage their lifestyle based on past records."
   ]
  },
  {
   "cell_type": "markdown",
   "id": "ff6ac1ba-3f08-4c49-88c7-1ee432ef9127",
   "metadata": {},
   "source": [
    "Now we will use hourly_steps dataset. We will calculate total steps  for all responders in the given dataset"
   ]
  },
  {
   "cell_type": "code",
   "execution_count": 57,
   "id": "cb3701b3-973c-452e-ae03-6edb639ef3ac",
   "metadata": {},
   "outputs": [],
   "source": [
    "hourly_steps <- hourly_steps %>%\n",
    "    mutate (DateOnly = as.Date(hourly_steps$ActivityHour))"
   ]
  },
  {
   "cell_type": "code",
   "execution_count": 58,
   "id": "488ed824-cdc6-4f76-962f-0a8a2bf9f0dc",
   "metadata": {},
   "outputs": [
    {
     "data": {
      "text/html": [
       "<table class=\"dataframe\">\n",
       "<caption>A tibble: 6 × 4</caption>\n",
       "<thead>\n",
       "\t<tr><th scope=col>Id</th><th scope=col>ActivityHour</th><th scope=col>StepTotal</th><th scope=col>DateOnly</th></tr>\n",
       "\t<tr><th scope=col>&lt;dbl&gt;</th><th scope=col>&lt;dttm&gt;</th><th scope=col>&lt;dbl&gt;</th><th scope=col>&lt;date&gt;</th></tr>\n",
       "</thead>\n",
       "<tbody>\n",
       "\t<tr><td>1503960366</td><td>2016-03-12 00:00:00</td><td>0</td><td>2016-03-11</td></tr>\n",
       "\t<tr><td>1503960366</td><td>2016-03-12 01:00:00</td><td>0</td><td>2016-03-11</td></tr>\n",
       "\t<tr><td>1503960366</td><td>2016-03-12 02:00:00</td><td>0</td><td>2016-03-11</td></tr>\n",
       "\t<tr><td>1503960366</td><td>2016-03-12 03:00:00</td><td>0</td><td>2016-03-11</td></tr>\n",
       "\t<tr><td>1503960366</td><td>2016-03-12 04:00:00</td><td>0</td><td>2016-03-11</td></tr>\n",
       "\t<tr><td>1503960366</td><td>2016-03-12 05:00:00</td><td>0</td><td>2016-03-12</td></tr>\n",
       "</tbody>\n",
       "</table>\n"
      ],
      "text/latex": [
       "A tibble: 6 × 4\n",
       "\\begin{tabular}{llll}\n",
       " Id & ActivityHour & StepTotal & DateOnly\\\\\n",
       " <dbl> & <dttm> & <dbl> & <date>\\\\\n",
       "\\hline\n",
       "\t 1503960366 & 2016-03-12 00:00:00 & 0 & 2016-03-11\\\\\n",
       "\t 1503960366 & 2016-03-12 01:00:00 & 0 & 2016-03-11\\\\\n",
       "\t 1503960366 & 2016-03-12 02:00:00 & 0 & 2016-03-11\\\\\n",
       "\t 1503960366 & 2016-03-12 03:00:00 & 0 & 2016-03-11\\\\\n",
       "\t 1503960366 & 2016-03-12 04:00:00 & 0 & 2016-03-11\\\\\n",
       "\t 1503960366 & 2016-03-12 05:00:00 & 0 & 2016-03-12\\\\\n",
       "\\end{tabular}\n"
      ],
      "text/markdown": [
       "\n",
       "A tibble: 6 × 4\n",
       "\n",
       "| Id &lt;dbl&gt; | ActivityHour &lt;dttm&gt; | StepTotal &lt;dbl&gt; | DateOnly &lt;date&gt; |\n",
       "|---|---|---|---|\n",
       "| 1503960366 | 2016-03-12 00:00:00 | 0 | 2016-03-11 |\n",
       "| 1503960366 | 2016-03-12 01:00:00 | 0 | 2016-03-11 |\n",
       "| 1503960366 | 2016-03-12 02:00:00 | 0 | 2016-03-11 |\n",
       "| 1503960366 | 2016-03-12 03:00:00 | 0 | 2016-03-11 |\n",
       "| 1503960366 | 2016-03-12 04:00:00 | 0 | 2016-03-11 |\n",
       "| 1503960366 | 2016-03-12 05:00:00 | 0 | 2016-03-12 |\n",
       "\n"
      ],
      "text/plain": [
       "  Id         ActivityHour        StepTotal DateOnly  \n",
       "1 1503960366 2016-03-12 00:00:00 0         2016-03-11\n",
       "2 1503960366 2016-03-12 01:00:00 0         2016-03-11\n",
       "3 1503960366 2016-03-12 02:00:00 0         2016-03-11\n",
       "4 1503960366 2016-03-12 03:00:00 0         2016-03-11\n",
       "5 1503960366 2016-03-12 04:00:00 0         2016-03-11\n",
       "6 1503960366 2016-03-12 05:00:00 0         2016-03-12"
      ]
     },
     "metadata": {},
     "output_type": "display_data"
    }
   ],
   "source": [
    "head(hourly_steps)"
   ]
  },
  {
   "cell_type": "code",
   "execution_count": 59,
   "id": "894b19ca-5b2d-406b-971d-1080e8577951",
   "metadata": {},
   "outputs": [],
   "source": [
    "daily_steps <- hourly_steps %>%\n",
    "    group_by(Id) %>%\n",
    "    summarise(TotalSteps = sum(StepTotal))"
   ]
  },
  {
   "cell_type": "code",
   "execution_count": 60,
   "id": "43eabb7a-d94b-4d37-b165-b5b5e65d7553",
   "metadata": {},
   "outputs": [
    {
     "data": {
      "text/html": [
       "<table class=\"dataframe\">\n",
       "<caption>A tibble: 6 × 2</caption>\n",
       "<thead>\n",
       "\t<tr><th scope=col>Id</th><th scope=col>TotalSteps</th></tr>\n",
       "\t<tr><th scope=col>&lt;chr&gt;</th><th scope=col>&lt;dbl&gt;</th></tr>\n",
       "</thead>\n",
       "<tbody>\n",
       "\t<tr><td>1503960366</td><td>407498</td></tr>\n",
       "\t<tr><td>1624580081</td><td>144176</td></tr>\n",
       "\t<tr><td>1644430081</td><td>234356</td></tr>\n",
       "\t<tr><td>1844505072</td><td> 52276</td></tr>\n",
       "\t<tr><td>1927972279</td><td>171636</td></tr>\n",
       "\t<tr><td>2022484408</td><td>400857</td></tr>\n",
       "</tbody>\n",
       "</table>\n"
      ],
      "text/latex": [
       "A tibble: 6 × 2\n",
       "\\begin{tabular}{ll}\n",
       " Id & TotalSteps\\\\\n",
       " <chr> & <dbl>\\\\\n",
       "\\hline\n",
       "\t 1503960366 & 407498\\\\\n",
       "\t 1624580081 & 144176\\\\\n",
       "\t 1644430081 & 234356\\\\\n",
       "\t 1844505072 &  52276\\\\\n",
       "\t 1927972279 & 171636\\\\\n",
       "\t 2022484408 & 400857\\\\\n",
       "\\end{tabular}\n"
      ],
      "text/markdown": [
       "\n",
       "A tibble: 6 × 2\n",
       "\n",
       "| Id &lt;chr&gt; | TotalSteps &lt;dbl&gt; |\n",
       "|---|---|\n",
       "| 1503960366 | 407498 |\n",
       "| 1624580081 | 144176 |\n",
       "| 1644430081 | 234356 |\n",
       "| 1844505072 |  52276 |\n",
       "| 1927972279 | 171636 |\n",
       "| 2022484408 | 400857 |\n",
       "\n"
      ],
      "text/plain": [
       "  Id         TotalSteps\n",
       "1 1503960366 407498    \n",
       "2 1624580081 144176    \n",
       "3 1644430081 234356    \n",
       "4 1844505072  52276    \n",
       "5 1927972279 171636    \n",
       "6 2022484408 400857    "
      ]
     },
     "metadata": {},
     "output_type": "display_data"
    }
   ],
   "source": [
    "daily_steps$Id <- as.character(daily_steps$Id )\n",
    "head(daily_steps)"
   ]
  },
  {
   "cell_type": "code",
   "execution_count": 61,
   "id": "286e05c6-ce2e-4ce2-91ef-7eb4176114be",
   "metadata": {},
   "outputs": [
    {
     "data": {
      "image/png": "[encoded data removed]",
      "text/plain": [
       "plot without title"
      ]
     },
     "metadata": {
      "image/png": {
       "height": 600,
       "width": 1200
      }
     },
     "output_type": "display_data"
    }
   ],
   "source": [
    "barplot(TotalSteps ~ Id, data = daily_steps, las =2)"
   ]
  },
  {
   "cell_type": "markdown",
   "id": "417f7b4e-c97a-43ec-a06c-6e7621da8e94",
   "metadata": {},
   "source": [
    "### Recommendation-6\n",
    "The plot depicted above could be integrated into the Bellabeat App. This feature might inspire users to engage in friendly competition with their peers to achieve health benefits"
   ]
  },
  {
   "cell_type": "code",
   "execution_count": 62,
   "id": "2b517ec6-99fd-457c-8ace-b0e348810bde",
   "metadata": {},
   "outputs": [
    {
     "name": "stderr",
     "output_type": "stream",
     "text": [
      "\u001b[1m\u001b[22m`geom_smooth()` using method = 'loess' and formula = 'y ~ x'\n"
     ]
    },
    {
     "data": {
      "image/png": "[encoded data removed]",
      "text/plain": [
       "plot without title"
      ]
     },
     "metadata": {
      "image/png": {
       "height": 600,
       "width": 1200
      }
     },
     "output_type": "display_data"
    }
   ],
   "source": [
    "ggplot(data = daily_activity, aes(x=TotalSteps,y = Calories))+\n",
    "    geom_point()+\n",
    "    geom_smooth()"
   ]
  },
  {
   "cell_type": "markdown",
   "id": "eda1f707-afbf-45be-91fe-7500654a479e",
   "metadata": {},
   "source": [
    "The graph above illustrates a positive correlation between total steps taken and calories burned."
   ]
  },
  {
   "cell_type": "markdown",
   "id": "188f655f-d726-4651-824e-d2d9cbd96f0a",
   "metadata": {},
   "source": [
    "Now we will explore the sleep dataset."
   ]
  },
  {
   "cell_type": "code",
   "execution_count": 63,
   "id": "0a9ed2b3-3e6b-4672-8f0c-859dd0fd9aa8",
   "metadata": {},
   "outputs": [],
   "source": [
    "sleep <- sleep %>%\n",
    "    mutate (DateOnly = as.Date(date))"
   ]
  },
  {
   "cell_type": "code",
   "execution_count": 64,
   "id": "18729203-dd10-485c-b232-8b0629b114c0",
   "metadata": {},
   "outputs": [
    {
     "data": {
      "text/html": [
       "<table class=\"dataframe\">\n",
       "<caption>A tibble: 6 × 5</caption>\n",
       "<thead>\n",
       "\t<tr><th scope=col>Id</th><th scope=col>date</th><th scope=col>value</th><th scope=col>logId</th><th scope=col>DateOnly</th></tr>\n",
       "\t<tr><th scope=col>&lt;dbl&gt;</th><th scope=col>&lt;dttm&gt;</th><th scope=col>&lt;dbl&gt;</th><th scope=col>&lt;dbl&gt;</th><th scope=col>&lt;date&gt;</th></tr>\n",
       "</thead>\n",
       "<tbody>\n",
       "\t<tr><td>1503960366</td><td>2016-03-13 02:39:30</td><td>1</td><td>11114919637</td><td>2016-03-12</td></tr>\n",
       "\t<tr><td>1503960366</td><td>2016-03-13 02:40:30</td><td>1</td><td>11114919637</td><td>2016-03-12</td></tr>\n",
       "\t<tr><td>1503960366</td><td>2016-03-13 02:41:30</td><td>1</td><td>11114919637</td><td>2016-03-12</td></tr>\n",
       "\t<tr><td>1503960366</td><td>2016-03-13 02:42:30</td><td>1</td><td>11114919637</td><td>2016-03-12</td></tr>\n",
       "\t<tr><td>1503960366</td><td>2016-03-13 02:43:30</td><td>1</td><td>11114919637</td><td>2016-03-12</td></tr>\n",
       "\t<tr><td>1503960366</td><td>2016-03-13 02:44:30</td><td>1</td><td>11114919637</td><td>2016-03-12</td></tr>\n",
       "</tbody>\n",
       "</table>\n"
      ],
      "text/latex": [
       "A tibble: 6 × 5\n",
       "\\begin{tabular}{lllll}\n",
       " Id & date & value & logId & DateOnly\\\\\n",
       " <dbl> & <dttm> & <dbl> & <dbl> & <date>\\\\\n",
       "\\hline\n",
       "\t 1503960366 & 2016-03-13 02:39:30 & 1 & 11114919637 & 2016-03-12\\\\\n",
       "\t 1503960366 & 2016-03-13 02:40:30 & 1 & 11114919637 & 2016-03-12\\\\\n",
       "\t 1503960366 & 2016-03-13 02:41:30 & 1 & 11114919637 & 2016-03-12\\\\\n",
       "\t 1503960366 & 2016-03-13 02:42:30 & 1 & 11114919637 & 2016-03-12\\\\\n",
       "\t 1503960366 & 2016-03-13 02:43:30 & 1 & 11114919637 & 2016-03-12\\\\\n",
       "\t 1503960366 & 2016-03-13 02:44:30 & 1 & 11114919637 & 2016-03-12\\\\\n",
       "\\end{tabular}\n"
      ],
      "text/markdown": [
       "\n",
       "A tibble: 6 × 5\n",
       "\n",
       "| Id &lt;dbl&gt; | date &lt;dttm&gt; | value &lt;dbl&gt; | logId &lt;dbl&gt; | DateOnly &lt;date&gt; |\n",
       "|---|---|---|---|---|\n",
       "| 1503960366 | 2016-03-13 02:39:30 | 1 | 11114919637 | 2016-03-12 |\n",
       "| 1503960366 | 2016-03-13 02:40:30 | 1 | 11114919637 | 2016-03-12 |\n",
       "| 1503960366 | 2016-03-13 02:41:30 | 1 | 11114919637 | 2016-03-12 |\n",
       "| 1503960366 | 2016-03-13 02:42:30 | 1 | 11114919637 | 2016-03-12 |\n",
       "| 1503960366 | 2016-03-13 02:43:30 | 1 | 11114919637 | 2016-03-12 |\n",
       "| 1503960366 | 2016-03-13 02:44:30 | 1 | 11114919637 | 2016-03-12 |\n",
       "\n"
      ],
      "text/plain": [
       "  Id         date                value logId       DateOnly  \n",
       "1 1503960366 2016-03-13 02:39:30 1     11114919637 2016-03-12\n",
       "2 1503960366 2016-03-13 02:40:30 1     11114919637 2016-03-12\n",
       "3 1503960366 2016-03-13 02:41:30 1     11114919637 2016-03-12\n",
       "4 1503960366 2016-03-13 02:42:30 1     11114919637 2016-03-12\n",
       "5 1503960366 2016-03-13 02:43:30 1     11114919637 2016-03-12\n",
       "6 1503960366 2016-03-13 02:44:30 1     11114919637 2016-03-12"
      ]
     },
     "metadata": {},
     "output_type": "display_data"
    }
   ],
   "source": [
    "head(sleep)"
   ]
  },
  {
   "cell_type": "code",
   "execution_count": 65,
   "id": "115ecffb-6d92-4457-9985-6437de1d3ce4",
   "metadata": {},
   "outputs": [
    {
     "name": "stderr",
     "output_type": "stream",
     "text": [
      "\u001b[1m\u001b[22m`summarise()` has grouped output by 'Id'. You can override using the `.groups` argument.\n"
     ]
    }
   ],
   "source": [
    "sleep_in_24H <- sleep %>%\n",
    "    group_by(Id,DateOnly) %>%\n",
    "    summarise(SleepMinutes = sum(value))"
   ]
  },
  {
   "cell_type": "code",
   "execution_count": 66,
   "id": "eb6c2ce2-962b-4419-b42a-69ed7cd6d32d",
   "metadata": {},
   "outputs": [
    {
     "data": {
      "text/html": [
       "<table class=\"dataframe\">\n",
       "<caption>A grouped_df: 6 × 3</caption>\n",
       "<thead>\n",
       "\t<tr><th scope=col>Id</th><th scope=col>DateOnly</th><th scope=col>SleepMinutes</th></tr>\n",
       "\t<tr><th scope=col>&lt;dbl&gt;</th><th scope=col>&lt;date&gt;</th><th scope=col>&lt;dbl&gt;</th></tr>\n",
       "</thead>\n",
       "<tbody>\n",
       "\t<tr><td>1503960366</td><td>2016-03-12</td><td>147</td></tr>\n",
       "\t<tr><td>1503960366</td><td>2016-03-13</td><td>528</td></tr>\n",
       "\t<tr><td>1503960366</td><td>2016-03-14</td><td>350</td></tr>\n",
       "\t<tr><td>1503960366</td><td>2016-03-15</td><td>314</td></tr>\n",
       "\t<tr><td>1503960366</td><td>2016-03-16</td><td>530</td></tr>\n",
       "\t<tr><td>1503960366</td><td>2016-03-17</td><td>443</td></tr>\n",
       "</tbody>\n",
       "</table>\n"
      ],
      "text/latex": [
       "A grouped\\_df: 6 × 3\n",
       "\\begin{tabular}{lll}\n",
       " Id & DateOnly & SleepMinutes\\\\\n",
       " <dbl> & <date> & <dbl>\\\\\n",
       "\\hline\n",
       "\t 1503960366 & 2016-03-12 & 147\\\\\n",
       "\t 1503960366 & 2016-03-13 & 528\\\\\n",
       "\t 1503960366 & 2016-03-14 & 350\\\\\n",
       "\t 1503960366 & 2016-03-15 & 314\\\\\n",
       "\t 1503960366 & 2016-03-16 & 530\\\\\n",
       "\t 1503960366 & 2016-03-17 & 443\\\\\n",
       "\\end{tabular}\n"
      ],
      "text/markdown": [
       "\n",
       "A grouped_df: 6 × 3\n",
       "\n",
       "| Id &lt;dbl&gt; | DateOnly &lt;date&gt; | SleepMinutes &lt;dbl&gt; |\n",
       "|---|---|---|\n",
       "| 1503960366 | 2016-03-12 | 147 |\n",
       "| 1503960366 | 2016-03-13 | 528 |\n",
       "| 1503960366 | 2016-03-14 | 350 |\n",
       "| 1503960366 | 2016-03-15 | 314 |\n",
       "| 1503960366 | 2016-03-16 | 530 |\n",
       "| 1503960366 | 2016-03-17 | 443 |\n",
       "\n"
      ],
      "text/plain": [
       "  Id         DateOnly   SleepMinutes\n",
       "1 1503960366 2016-03-12 147         \n",
       "2 1503960366 2016-03-13 528         \n",
       "3 1503960366 2016-03-14 350         \n",
       "4 1503960366 2016-03-15 314         \n",
       "5 1503960366 2016-03-16 530         \n",
       "6 1503960366 2016-03-17 443         "
      ]
     },
     "metadata": {},
     "output_type": "display_data"
    }
   ],
   "source": [
    "head(sleep_in_24H)"
   ]
  },
  {
   "cell_type": "code",
   "execution_count": 67,
   "id": "14e391c3-1aef-4cde-aeec-a85c72a8c2d6",
   "metadata": {},
   "outputs": [],
   "source": [
    "avg_sleep <- sleep_in_24H %>%\n",
    "    group_by(Id) %>%\n",
    "    summarise(AverageSleepMinutes = mean(SleepMinutes))"
   ]
  },
  {
   "cell_type": "code",
   "execution_count": 68,
   "id": "2bd1ab18-83a8-43b9-ba52-f68f226ab799",
   "metadata": {},
   "outputs": [
    {
     "data": {
      "text/html": [
       "<table class=\"dataframe\">\n",
       "<caption>A tibble: 23 × 2</caption>\n",
       "<thead>\n",
       "\t<tr><th scope=col>Id</th><th scope=col>AverageSleepMinutes</th></tr>\n",
       "\t<tr><th scope=col>&lt;dbl&gt;</th><th scope=col>&lt;dbl&gt;</th></tr>\n",
       "</thead>\n",
       "<tbody>\n",
       "\t<tr><td>1503960366</td><td>360.6552</td></tr>\n",
       "\t<tr><td>1644430081</td><td>630.0000</td></tr>\n",
       "\t<tr><td>1844505072</td><td>636.5000</td></tr>\n",
       "\t<tr><td>1927972279</td><td>390.3871</td></tr>\n",
       "\t<tr><td>2022484408</td><td>153.0000</td></tr>\n",
       "\t<tr><td>2026352035</td><td>571.1515</td></tr>\n",
       "\t<tr><td>2347167796</td><td>481.9355</td></tr>\n",
       "\t<tr><td>3977333714</td><td>493.8333</td></tr>\n",
       "\t<tr><td>4020332650</td><td>358.8824</td></tr>\n",
       "\t<tr><td>4319703577</td><td>470.2857</td></tr>\n",
       "\t<tr><td>4445114986</td><td>333.1935</td></tr>\n",
       "\t<tr><td>4558609924</td><td>333.0000</td></tr>\n",
       "\t<tr><td>4702921684</td><td>467.4000</td></tr>\n",
       "\t<tr><td>5553957443</td><td>523.5806</td></tr>\n",
       "\t<tr><td>5577150313</td><td>461.5312</td></tr>\n",
       "\t<tr><td>6117666160</td><td>491.1071</td></tr>\n",
       "\t<tr><td>6775888955</td><td>303.1579</td></tr>\n",
       "\t<tr><td>6962181067</td><td>471.9697</td></tr>\n",
       "\t<tr><td>7007744171</td><td> 75.1250</td></tr>\n",
       "\t<tr><td>7086361926</td><td>374.1379</td></tr>\n",
       "\t<tr><td>8053475328</td><td>253.0000</td></tr>\n",
       "\t<tr><td>8378563200</td><td>510.1250</td></tr>\n",
       "\t<tr><td>8792009665</td><td>395.5333</td></tr>\n",
       "</tbody>\n",
       "</table>\n"
      ],
      "text/latex": [
       "A tibble: 23 × 2\n",
       "\\begin{tabular}{ll}\n",
       " Id & AverageSleepMinutes\\\\\n",
       " <dbl> & <dbl>\\\\\n",
       "\\hline\n",
       "\t 1503960366 & 360.6552\\\\\n",
       "\t 1644430081 & 630.0000\\\\\n",
       "\t 1844505072 & 636.5000\\\\\n",
       "\t 1927972279 & 390.3871\\\\\n",
       "\t 2022484408 & 153.0000\\\\\n",
       "\t 2026352035 & 571.1515\\\\\n",
       "\t 2347167796 & 481.9355\\\\\n",
       "\t 3977333714 & 493.8333\\\\\n",
       "\t 4020332650 & 358.8824\\\\\n",
       "\t 4319703577 & 470.2857\\\\\n",
       "\t 4445114986 & 333.1935\\\\\n",
       "\t 4558609924 & 333.0000\\\\\n",
       "\t 4702921684 & 467.4000\\\\\n",
       "\t 5553957443 & 523.5806\\\\\n",
       "\t 5577150313 & 461.5312\\\\\n",
       "\t 6117666160 & 491.1071\\\\\n",
       "\t 6775888955 & 303.1579\\\\\n",
       "\t 6962181067 & 471.9697\\\\\n",
       "\t 7007744171 &  75.1250\\\\\n",
       "\t 7086361926 & 374.1379\\\\\n",
       "\t 8053475328 & 253.0000\\\\\n",
       "\t 8378563200 & 510.1250\\\\\n",
       "\t 8792009665 & 395.5333\\\\\n",
       "\\end{tabular}\n"
      ],
      "text/markdown": [
       "\n",
       "A tibble: 23 × 2\n",
       "\n",
       "| Id &lt;dbl&gt; | AverageSleepMinutes &lt;dbl&gt; |\n",
       "|---|---|\n",
       "| 1503960366 | 360.6552 |\n",
       "| 1644430081 | 630.0000 |\n",
       "| 1844505072 | 636.5000 |\n",
       "| 1927972279 | 390.3871 |\n",
       "| 2022484408 | 153.0000 |\n",
       "| 2026352035 | 571.1515 |\n",
       "| 2347167796 | 481.9355 |\n",
       "| 3977333714 | 493.8333 |\n",
       "| 4020332650 | 358.8824 |\n",
       "| 4319703577 | 470.2857 |\n",
       "| 4445114986 | 333.1935 |\n",
       "| 4558609924 | 333.0000 |\n",
       "| 4702921684 | 467.4000 |\n",
       "| 5553957443 | 523.5806 |\n",
       "| 5577150313 | 461.5312 |\n",
       "| 6117666160 | 491.1071 |\n",
       "| 6775888955 | 303.1579 |\n",
       "| 6962181067 | 471.9697 |\n",
       "| 7007744171 |  75.1250 |\n",
       "| 7086361926 | 374.1379 |\n",
       "| 8053475328 | 253.0000 |\n",
       "| 8378563200 | 510.1250 |\n",
       "| 8792009665 | 395.5333 |\n",
       "\n"
      ],
      "text/plain": [
       "   Id         AverageSleepMinutes\n",
       "1  1503960366 360.6552           \n",
       "2  1644430081 630.0000           \n",
       "3  1844505072 636.5000           \n",
       "4  1927972279 390.3871           \n",
       "5  2022484408 153.0000           \n",
       "6  2026352035 571.1515           \n",
       "7  2347167796 481.9355           \n",
       "8  3977333714 493.8333           \n",
       "9  4020332650 358.8824           \n",
       "10 4319703577 470.2857           \n",
       "11 4445114986 333.1935           \n",
       "12 4558609924 333.0000           \n",
       "13 4702921684 467.4000           \n",
       "14 5553957443 523.5806           \n",
       "15 5577150313 461.5312           \n",
       "16 6117666160 491.1071           \n",
       "17 6775888955 303.1579           \n",
       "18 6962181067 471.9697           \n",
       "19 7007744171  75.1250           \n",
       "20 7086361926 374.1379           \n",
       "21 8053475328 253.0000           \n",
       "22 8378563200 510.1250           \n",
       "23 8792009665 395.5333           "
      ]
     },
     "metadata": {},
     "output_type": "display_data"
    }
   ],
   "source": [
    "View(avg_sleep)"
   ]
  },
  {
   "cell_type": "code",
   "execution_count": 69,
   "id": "fbf0bbf2-4167-4fb3-8a6b-fe351609b6be",
   "metadata": {},
   "outputs": [
    {
     "data": {
      "image/png": "[encoded data removed]",
      "text/plain": [
       "plot without title"
      ]
     },
     "metadata": {
      "image/png": {
       "height": 600,
       "width": 1200
      }
     },
     "output_type": "display_data"
    }
   ],
   "source": [
    "barplot( AverageSleepMinutes~ Id, data = avg_sleep, las =2)"
   ]
  },
  {
   "cell_type": "markdown",
   "id": "1965f182-4d8e-4bd2-a599-5790bd613cd6",
   "metadata": {},
   "source": [
    "Experts recommend that adults sleep between 420 and 540 minutes a night."
   ]
  },
  {
   "cell_type": "code",
   "execution_count": 70,
   "id": "bc58c6b1-e366-4d2d-b4cb-5712901ca759",
   "metadata": {},
   "outputs": [
    {
     "name": "stdout",
     "output_type": "stream",
     "text": [
      "The count of respondents who sleep for over 420 minutes:"
     ]
    },
    {
     "data": {
      "text/html": [
       "12"
      ],
      "text/latex": [
       "12"
      ],
      "text/markdown": [
       "12"
      ],
      "text/plain": [
       "[1] 12"
      ]
     },
     "metadata": {},
     "output_type": "display_data"
    }
   ],
   "source": [
    "cat(\"The count of respondents who sleep for over 420 minutes:\")\n",
    "avg_sleep %>%\n",
    "    filter(AverageSleepMinutes >= 420) %>%\n",
    "    nrow()"
   ]
  },
  {
   "cell_type": "markdown",
   "id": "009a78d3-91e6-4b2b-ac3a-92de14b006f1",
   "metadata": {},
   "source": [
    "### Recommendation-7\n",
    "The analysis above clearly indicates that 52% of the respondents achieve their recommended amount of sleep at night."
   ]
  },
  {
   "cell_type": "markdown",
   "id": "7cbbf7ad-79e0-48c7-ae4b-ece89b517a4c",
   "metadata": {},
   "source": [
    "The Bellabeat App can use this data to inform users whether they are achieving their recommended sleep duration or not. This could enhance the health benefits for users."
   ]
  },
  {
   "cell_type": "markdown",
   "id": "ae87c12b-a9be-4b74-bf0e-bd847a099ccd",
   "metadata": {},
   "source": [
    "Now we will explore \"weight_info\" dataset. \\\n",
    "We will calculate average BMI for each respondent"
   ]
  },
  {
   "cell_type": "code",
   "execution_count": 71,
   "id": "1463e141-f697-49d2-82c9-b19e7a08a756",
   "metadata": {},
   "outputs": [],
   "source": [
    "average_BMI <- weight_info %>%\n",
    "    group_by (Id) %>%\n",
    "    summarise (AverageBMI = mean (BMI))"
   ]
  },
  {
   "cell_type": "code",
   "execution_count": 72,
   "id": "40ab9f2b-8967-4279-8fe4-2c65f9f205c9",
   "metadata": {},
   "outputs": [
    {
     "data": {
      "text/html": [
       "<table class=\"dataframe\">\n",
       "<caption>A tibble: 6 × 2</caption>\n",
       "<thead>\n",
       "\t<tr><th scope=col>Id</th><th scope=col>AverageBMI</th></tr>\n",
       "\t<tr><th scope=col>&lt;dbl&gt;</th><th scope=col>&lt;dbl&gt;</th></tr>\n",
       "</thead>\n",
       "<tbody>\n",
       "\t<tr><td>1503960366</td><td>22.97</td></tr>\n",
       "\t<tr><td>1927972279</td><td>46.17</td></tr>\n",
       "\t<tr><td>2347167796</td><td>24.77</td></tr>\n",
       "\t<tr><td>2873212765</td><td>21.55</td></tr>\n",
       "\t<tr><td>2891001357</td><td>25.03</td></tr>\n",
       "\t<tr><td>4445114986</td><td>35.01</td></tr>\n",
       "</tbody>\n",
       "</table>\n"
      ],
      "text/latex": [
       "A tibble: 6 × 2\n",
       "\\begin{tabular}{ll}\n",
       " Id & AverageBMI\\\\\n",
       " <dbl> & <dbl>\\\\\n",
       "\\hline\n",
       "\t 1503960366 & 22.97\\\\\n",
       "\t 1927972279 & 46.17\\\\\n",
       "\t 2347167796 & 24.77\\\\\n",
       "\t 2873212765 & 21.55\\\\\n",
       "\t 2891001357 & 25.03\\\\\n",
       "\t 4445114986 & 35.01\\\\\n",
       "\\end{tabular}\n"
      ],
      "text/markdown": [
       "\n",
       "A tibble: 6 × 2\n",
       "\n",
       "| Id &lt;dbl&gt; | AverageBMI &lt;dbl&gt; |\n",
       "|---|---|\n",
       "| 1503960366 | 22.97 |\n",
       "| 1927972279 | 46.17 |\n",
       "| 2347167796 | 24.77 |\n",
       "| 2873212765 | 21.55 |\n",
       "| 2891001357 | 25.03 |\n",
       "| 4445114986 | 35.01 |\n",
       "\n"
      ],
      "text/plain": [
       "  Id         AverageBMI\n",
       "1 1503960366 22.97     \n",
       "2 1927972279 46.17     \n",
       "3 2347167796 24.77     \n",
       "4 2873212765 21.55     \n",
       "5 2891001357 25.03     \n",
       "6 4445114986 35.01     "
      ]
     },
     "metadata": {},
     "output_type": "display_data"
    }
   ],
   "source": [
    "head(average_BMI)"
   ]
  },
  {
   "cell_type": "markdown",
   "id": "5e429602-012d-4f39-97c2-3fde339cb01a",
   "metadata": {},
   "source": [
    "According to Centers for Disease Control and Prevention (cdd.gov), If your BMI is 25.0 to 29.9, it falls within the overweight range \\\n",
    "Now we filter respondents with BMI greater than 25.0"
   ]
  },
  {
   "cell_type": "code",
   "execution_count": 73,
   "id": "3065e349-74ce-4741-bf89-41dd3c5b5f0f",
   "metadata": {},
   "outputs": [
    {
     "name": "stdout",
     "output_type": "stream",
     "text": [
      "The count of participants with a BMI exceeding 25.0. :"
     ]
    },
    {
     "data": {
      "text/html": [
       "7"
      ],
      "text/latex": [
       "7"
      ],
      "text/markdown": [
       "7"
      ],
      "text/plain": [
       "[1] 7"
      ]
     },
     "metadata": {},
     "output_type": "display_data"
    }
   ],
   "source": [
    "cat(\"The count of participants with a BMI exceeding 25.0. :\")\n",
    "average_BMI %>%\n",
    "    filter (AverageBMI >= 25.0) %>%\n",
    "    nrow()"
   ]
  },
  {
   "cell_type": "markdown",
   "id": "f1e68c32-43ed-4ef1-b754-e83ffbd631ef",
   "metadata": {},
   "source": [
    "### Recommendation-8\n",
    "The data presented above clearly indicates that 63% of respondents are classified as overweight. This information could be utilized by the Bellabeat App to encourage users to track their health status using the application."
   ]
  },
  {
   "cell_type": "code",
   "execution_count": null,
   "id": "bfb5aabb-1492-4516-bf1c-7f1a01958437",
   "metadata": {},
   "outputs": [],
   "source": []
  }
 ],
 "metadata": {
  "kernelspec": {
   "display_name": "R",
   "language": "R",
   "name": "ir"
  },
  "language_info": {
   "codemirror_mode": "r",
   "file_extension": ".r",
   "mimetype": "text/x-r-source",
   "name": "R",
   "pygments_lexer": "r",
   "version": "4.3.3"
  }
 },
 "nbformat": 4,
 "nbformat_minor": 5
}
