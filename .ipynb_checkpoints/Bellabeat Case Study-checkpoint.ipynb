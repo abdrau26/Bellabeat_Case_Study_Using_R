{
 "cells": [
  {
   "cell_type": "markdown",
   "id": "4b4b94fe-ad37-4a3e-a9bb-d0c4d63bcbe9",
   "metadata": {},
   "source": [
    "# Importing the Libraries"
   ]
  },
  {
   "cell_type": "code",
   "execution_count": 1,
   "id": "4e479b5b-fc76-48c9-8b02-f5aba68a7b68",
   "metadata": {},
   "outputs": [
    {
     "name": "stderr",
     "output_type": "stream",
     "text": [
      "── \u001b[1mAttaching core tidyverse packages\u001b[22m ──────────────────────────────────────────────────────────────── tidyverse 2.0.0 ──\n",
      "\u001b[32m✔\u001b[39m \u001b[34mdplyr    \u001b[39m 1.1.4     \u001b[32m✔\u001b[39m \u001b[34mreadr    \u001b[39m 2.1.5\n",
      "\u001b[32m✔\u001b[39m \u001b[34mforcats  \u001b[39m 1.0.0     \u001b[32m✔\u001b[39m \u001b[34mstringr  \u001b[39m 1.5.1\n",
      "\u001b[32m✔\u001b[39m \u001b[34mggplot2  \u001b[39m 3.5.1     \u001b[32m✔\u001b[39m \u001b[34mtibble   \u001b[39m 3.2.1\n",
      "\u001b[32m✔\u001b[39m \u001b[34mlubridate\u001b[39m 1.9.3     \u001b[32m✔\u001b[39m \u001b[34mtidyr    \u001b[39m 1.3.1\n",
      "\u001b[32m✔\u001b[39m \u001b[34mpurrr    \u001b[39m 1.0.2     \n",
      "── \u001b[1mConflicts\u001b[22m ────────────────────────────────────────────────────────────────────────────────── tidyverse_conflicts() ──\n",
      "\u001b[31m✖\u001b[39m \u001b[34mdplyr\u001b[39m::\u001b[32mfilter()\u001b[39m masks \u001b[34mstats\u001b[39m::filter()\n",
      "\u001b[31m✖\u001b[39m \u001b[34mdplyr\u001b[39m::\u001b[32mlag()\u001b[39m    masks \u001b[34mstats\u001b[39m::lag()\n",
      "\u001b[36mℹ\u001b[39m Use the conflicted package (\u001b[3m\u001b[34m<http://conflicted.r-lib.org/>\u001b[39m\u001b[23m) to force all conflicts to become errors\n"
     ]
    }
   ],
   "source": [
    "library(tidyverse)"
   ]
  },
  {
   "cell_type": "markdown",
   "id": "cc29781f-81c5-47e6-af3e-229a88759a24",
   "metadata": {},
   "source": [
    "# Reading the CSV Files"
   ]
  },
  {
   "cell_type": "code",
   "execution_count": 2,
   "id": "f929a4fc-345c-44cd-906b-d8a9d009c098",
   "metadata": {},
   "outputs": [
    {
     "name": "stderr",
     "output_type": "stream",
     "text": [
      "\u001b[1mRows: \u001b[22m\u001b[34m457\u001b[39m \u001b[1mColumns: \u001b[22m\u001b[34m15\u001b[39m\n",
      "\u001b[36m──\u001b[39m \u001b[1mColumn specification\u001b[22m \u001b[36m────────────────────────────────────────────────────────────────────────────────────────────────\u001b[39m\n",
      "\u001b[1mDelimiter:\u001b[22m \",\"\n",
      "\u001b[31mchr\u001b[39m  (1): ActivityDate\n",
      "\u001b[32mdbl\u001b[39m (14): Id, TotalSteps, TotalDistance, TrackerDistance, LoggedActivitiesDi...\n",
      "\n",
      "\u001b[36mℹ\u001b[39m Use `spec()` to retrieve the full column specification for this data.\n",
      "\u001b[36mℹ\u001b[39m Specify the column types or set `show_col_types = FALSE` to quiet this message.\n"
     ]
    }
   ],
   "source": [
    "daily_activity <- read_csv(\"Fitabase Data 3.12.16-4.11.16/dailyActivity_merged.csv\")"
   ]
  },
  {
   "cell_type": "code",
   "execution_count": 3,
   "id": "7c41d393-6338-4971-9bdc-9da80d99e8d2",
   "metadata": {},
   "outputs": [
    {
     "name": "stderr",
     "output_type": "stream",
     "text": [
      "\u001b[1mRows: \u001b[22m\u001b[34m1154681\u001b[39m \u001b[1mColumns: \u001b[22m\u001b[34m3\u001b[39m\n",
      "\u001b[36m──\u001b[39m \u001b[1mColumn specification\u001b[22m \u001b[36m────────────────────────────────────────────────────────────────────────────────────────────────\u001b[39m\n",
      "\u001b[1mDelimiter:\u001b[22m \",\"\n",
      "\u001b[31mchr\u001b[39m (1): Time\n",
      "\u001b[32mdbl\u001b[39m (2): Id, Value\n",
      "\n",
      "\u001b[36mℹ\u001b[39m Use `spec()` to retrieve the full column specification for this data.\n",
      "\u001b[36mℹ\u001b[39m Specify the column types or set `show_col_types = FALSE` to quiet this message.\n"
     ]
    }
   ],
   "source": [
    "heart_rate_seconds <- read_csv(\"Fitabase Data 3.12.16-4.11.16/heartrate_seconds_merged.csv\")"
   ]
  },
  {
   "cell_type": "code",
   "execution_count": 4,
   "id": "3fa990a3-a34c-49f5-9be6-acc0d105eaea",
   "metadata": {},
   "outputs": [
    {
     "name": "stderr",
     "output_type": "stream",
     "text": [
      "\u001b[1mRows: \u001b[22m\u001b[34m24084\u001b[39m \u001b[1mColumns: \u001b[22m\u001b[34m3\u001b[39m\n",
      "\u001b[36m──\u001b[39m \u001b[1mColumn specification\u001b[22m \u001b[36m────────────────────────────────────────────────────────────────────────────────────────────────\u001b[39m\n",
      "\u001b[1mDelimiter:\u001b[22m \",\"\n",
      "\u001b[31mchr\u001b[39m (1): ActivityHour\n",
      "\u001b[32mdbl\u001b[39m (2): Id, Calories\n",
      "\n",
      "\u001b[36mℹ\u001b[39m Use `spec()` to retrieve the full column specification for this data.\n",
      "\u001b[36mℹ\u001b[39m Specify the column types or set `show_col_types = FALSE` to quiet this message.\n"
     ]
    }
   ],
   "source": [
    "hourly_calories <- read_csv(\"Fitabase Data 3.12.16-4.11.16/hourlyCalories_merged.csv\")"
   ]
  },
  {
   "cell_type": "code",
   "execution_count": 5,
   "id": "edd6a149-8ee1-4372-b984-4dd0923a369c",
   "metadata": {},
   "outputs": [
    {
     "name": "stderr",
     "output_type": "stream",
     "text": [
      "\u001b[1mRows: \u001b[22m\u001b[34m24084\u001b[39m \u001b[1mColumns: \u001b[22m\u001b[34m4\u001b[39m\n",
      "\u001b[36m──\u001b[39m \u001b[1mColumn specification\u001b[22m \u001b[36m────────────────────────────────────────────────────────────────────────────────────────────────\u001b[39m\n",
      "\u001b[1mDelimiter:\u001b[22m \",\"\n",
      "\u001b[31mchr\u001b[39m (1): ActivityHour\n",
      "\u001b[32mdbl\u001b[39m (3): Id, TotalIntensity, AverageIntensity\n",
      "\n",
      "\u001b[36mℹ\u001b[39m Use `spec()` to retrieve the full column specification for this data.\n",
      "\u001b[36mℹ\u001b[39m Specify the column types or set `show_col_types = FALSE` to quiet this message.\n"
     ]
    }
   ],
   "source": [
    "hourly_intensities <- read_csv(\"Fitabase Data 3.12.16-4.11.16/hourlyIntensities_merged.csv\")"
   ]
  },
  {
   "cell_type": "code",
   "execution_count": 6,
   "id": "d124498e-440d-40b0-8b2d-4da0d28ddc1a",
   "metadata": {},
   "outputs": [
    {
     "name": "stderr",
     "output_type": "stream",
     "text": [
      "\u001b[1mRows: \u001b[22m\u001b[34m24084\u001b[39m \u001b[1mColumns: \u001b[22m\u001b[34m3\u001b[39m\n",
      "\u001b[36m──\u001b[39m \u001b[1mColumn specification\u001b[22m \u001b[36m────────────────────────────────────────────────────────────────────────────────────────────────\u001b[39m\n",
      "\u001b[1mDelimiter:\u001b[22m \",\"\n",
      "\u001b[31mchr\u001b[39m (1): ActivityHour\n",
      "\u001b[32mdbl\u001b[39m (2): Id, StepTotal\n",
      "\n",
      "\u001b[36mℹ\u001b[39m Use `spec()` to retrieve the full column specification for this data.\n",
      "\u001b[36mℹ\u001b[39m Specify the column types or set `show_col_types = FALSE` to quiet this message.\n"
     ]
    }
   ],
   "source": [
    "hourly_steps <- read_csv(\"Fitabase Data 3.12.16-4.11.16/hourlySteps_merged.csv\")"
   ]
  },
  {
   "cell_type": "code",
   "execution_count": 7,
   "id": "cba25014-a46d-4925-ab9e-ac3e8f554be6",
   "metadata": {},
   "outputs": [
    {
     "name": "stderr",
     "output_type": "stream",
     "text": [
      "\u001b[1mRows: \u001b[22m\u001b[34m198559\u001b[39m \u001b[1mColumns: \u001b[22m\u001b[34m4\u001b[39m\n",
      "\u001b[36m──\u001b[39m \u001b[1mColumn specification\u001b[22m \u001b[36m────────────────────────────────────────────────────────────────────────────────────────────────\u001b[39m\n",
      "\u001b[1mDelimiter:\u001b[22m \",\"\n",
      "\u001b[31mchr\u001b[39m (1): date\n",
      "\u001b[32mdbl\u001b[39m (3): Id, value, logId\n",
      "\n",
      "\u001b[36mℹ\u001b[39m Use `spec()` to retrieve the full column specification for this data.\n",
      "\u001b[36mℹ\u001b[39m Specify the column types or set `show_col_types = FALSE` to quiet this message.\n"
     ]
    }
   ],
   "source": [
    "sleep <- read_csv(\"Fitabase Data 3.12.16-4.11.16/minuteSleep_merged.csv\")"
   ]
  },
  {
   "cell_type": "code",
   "execution_count": 8,
   "id": "f60370d5-1c4a-40db-8294-8bdf0ab6f852",
   "metadata": {},
   "outputs": [
    {
     "name": "stderr",
     "output_type": "stream",
     "text": [
      "\u001b[1mRows: \u001b[22m\u001b[34m33\u001b[39m \u001b[1mColumns: \u001b[22m\u001b[34m8\u001b[39m\n",
      "\u001b[36m──\u001b[39m \u001b[1mColumn specification\u001b[22m \u001b[36m────────────────────────────────────────────────────────────────────────────────────────────────\u001b[39m\n",
      "\u001b[1mDelimiter:\u001b[22m \",\"\n",
      "\u001b[31mchr\u001b[39m (1): Date\n",
      "\u001b[32mdbl\u001b[39m (6): Id, WeightKg, WeightPounds, Fat, BMI, LogId\n",
      "\u001b[33mlgl\u001b[39m (1): IsManualReport\n",
      "\n",
      "\u001b[36mℹ\u001b[39m Use `spec()` to retrieve the full column specification for this data.\n",
      "\u001b[36mℹ\u001b[39m Specify the column types or set `show_col_types = FALSE` to quiet this message.\n"
     ]
    }
   ],
   "source": [
    "weight_info <- read_csv(\"Fitabase Data 3.12.16-4.11.16/weightLogInfo_merged.csv\")"
   ]
  },
  {
   "cell_type": "markdown",
   "id": "1df37487-b4e5-4019-9f42-a17bc99dfcbb",
   "metadata": {},
   "source": [
    "# Perviewing the Imported Datasets"
   ]
  },
  {
   "cell_type": "code",
   "execution_count": 9,
   "id": "3a0f336f-2e3b-4936-a60b-596110d56604",
   "metadata": {},
   "outputs": [
    {
     "data": {
      "text/html": [
       "<table class=\"dataframe\">\n",
       "<caption>A tibble: 6 × 15</caption>\n",
       "<thead>\n",
       "\t<tr><th scope=col>Id</th><th scope=col>ActivityDate</th><th scope=col>TotalSteps</th><th scope=col>TotalDistance</th><th scope=col>TrackerDistance</th><th scope=col>LoggedActivitiesDistance</th><th scope=col>VeryActiveDistance</th><th scope=col>ModeratelyActiveDistance</th><th scope=col>LightActiveDistance</th><th scope=col>SedentaryActiveDistance</th><th scope=col>VeryActiveMinutes</th><th scope=col>FairlyActiveMinutes</th><th scope=col>LightlyActiveMinutes</th><th scope=col>SedentaryMinutes</th><th scope=col>Calories</th></tr>\n",
       "\t<tr><th scope=col>&lt;dbl&gt;</th><th scope=col>&lt;chr&gt;</th><th scope=col>&lt;dbl&gt;</th><th scope=col>&lt;dbl&gt;</th><th scope=col>&lt;dbl&gt;</th><th scope=col>&lt;dbl&gt;</th><th scope=col>&lt;dbl&gt;</th><th scope=col>&lt;dbl&gt;</th><th scope=col>&lt;dbl&gt;</th><th scope=col>&lt;dbl&gt;</th><th scope=col>&lt;dbl&gt;</th><th scope=col>&lt;dbl&gt;</th><th scope=col>&lt;dbl&gt;</th><th scope=col>&lt;dbl&gt;</th><th scope=col>&lt;dbl&gt;</th></tr>\n",
       "</thead>\n",
       "<tbody>\n",
       "\t<tr><td>1503960366</td><td>3/25/2016</td><td>11004</td><td> 7.11</td><td> 7.11</td><td>0</td><td>2.57</td><td>0.46</td><td>4.07</td><td>0</td><td>33</td><td>12</td><td>205</td><td> 804</td><td>1819</td></tr>\n",
       "\t<tr><td>1503960366</td><td>3/26/2016</td><td>17609</td><td>11.55</td><td>11.55</td><td>0</td><td>6.92</td><td>0.73</td><td>3.91</td><td>0</td><td>89</td><td>17</td><td>274</td><td> 588</td><td>2154</td></tr>\n",
       "\t<tr><td>1503960366</td><td>3/27/2016</td><td>12736</td><td> 8.53</td><td> 8.53</td><td>0</td><td>4.66</td><td>0.16</td><td>3.71</td><td>0</td><td>56</td><td> 5</td><td>268</td><td> 605</td><td>1944</td></tr>\n",
       "\t<tr><td>1503960366</td><td>3/28/2016</td><td>13231</td><td> 8.93</td><td> 8.93</td><td>0</td><td>3.19</td><td>0.79</td><td>4.95</td><td>0</td><td>39</td><td>20</td><td>224</td><td>1080</td><td>1932</td></tr>\n",
       "\t<tr><td>1503960366</td><td>3/29/2016</td><td>12041</td><td> 7.85</td><td> 7.85</td><td>0</td><td>2.16</td><td>1.09</td><td>4.61</td><td>0</td><td>28</td><td>28</td><td>243</td><td> 763</td><td>1886</td></tr>\n",
       "\t<tr><td>1503960366</td><td>3/30/2016</td><td>10970</td><td> 7.16</td><td> 7.16</td><td>0</td><td>2.36</td><td>0.51</td><td>4.29</td><td>0</td><td>30</td><td>13</td><td>223</td><td>1174</td><td>1820</td></tr>\n",
       "</tbody>\n",
       "</table>\n"
      ],
      "text/latex": [
       "A tibble: 6 × 15\n",
       "\\begin{tabular}{lllllllllllllll}\n",
       " Id & ActivityDate & TotalSteps & TotalDistance & TrackerDistance & LoggedActivitiesDistance & VeryActiveDistance & ModeratelyActiveDistance & LightActiveDistance & SedentaryActiveDistance & VeryActiveMinutes & FairlyActiveMinutes & LightlyActiveMinutes & SedentaryMinutes & Calories\\\\\n",
       " <dbl> & <chr> & <dbl> & <dbl> & <dbl> & <dbl> & <dbl> & <dbl> & <dbl> & <dbl> & <dbl> & <dbl> & <dbl> & <dbl> & <dbl>\\\\\n",
       "\\hline\n",
       "\t 1503960366 & 3/25/2016 & 11004 &  7.11 &  7.11 & 0 & 2.57 & 0.46 & 4.07 & 0 & 33 & 12 & 205 &  804 & 1819\\\\\n",
       "\t 1503960366 & 3/26/2016 & 17609 & 11.55 & 11.55 & 0 & 6.92 & 0.73 & 3.91 & 0 & 89 & 17 & 274 &  588 & 2154\\\\\n",
       "\t 1503960366 & 3/27/2016 & 12736 &  8.53 &  8.53 & 0 & 4.66 & 0.16 & 3.71 & 0 & 56 &  5 & 268 &  605 & 1944\\\\\n",
       "\t 1503960366 & 3/28/2016 & 13231 &  8.93 &  8.93 & 0 & 3.19 & 0.79 & 4.95 & 0 & 39 & 20 & 224 & 1080 & 1932\\\\\n",
       "\t 1503960366 & 3/29/2016 & 12041 &  7.85 &  7.85 & 0 & 2.16 & 1.09 & 4.61 & 0 & 28 & 28 & 243 &  763 & 1886\\\\\n",
       "\t 1503960366 & 3/30/2016 & 10970 &  7.16 &  7.16 & 0 & 2.36 & 0.51 & 4.29 & 0 & 30 & 13 & 223 & 1174 & 1820\\\\\n",
       "\\end{tabular}\n"
      ],
      "text/markdown": [
       "\n",
       "A tibble: 6 × 15\n",
       "\n",
       "| Id &lt;dbl&gt; | ActivityDate &lt;chr&gt; | TotalSteps &lt;dbl&gt; | TotalDistance &lt;dbl&gt; | TrackerDistance &lt;dbl&gt; | LoggedActivitiesDistance &lt;dbl&gt; | VeryActiveDistance &lt;dbl&gt; | ModeratelyActiveDistance &lt;dbl&gt; | LightActiveDistance &lt;dbl&gt; | SedentaryActiveDistance &lt;dbl&gt; | VeryActiveMinutes &lt;dbl&gt; | FairlyActiveMinutes &lt;dbl&gt; | LightlyActiveMinutes &lt;dbl&gt; | SedentaryMinutes &lt;dbl&gt; | Calories &lt;dbl&gt; |\n",
       "|---|---|---|---|---|---|---|---|---|---|---|---|---|---|---|\n",
       "| 1503960366 | 3/25/2016 | 11004 |  7.11 |  7.11 | 0 | 2.57 | 0.46 | 4.07 | 0 | 33 | 12 | 205 |  804 | 1819 |\n",
       "| 1503960366 | 3/26/2016 | 17609 | 11.55 | 11.55 | 0 | 6.92 | 0.73 | 3.91 | 0 | 89 | 17 | 274 |  588 | 2154 |\n",
       "| 1503960366 | 3/27/2016 | 12736 |  8.53 |  8.53 | 0 | 4.66 | 0.16 | 3.71 | 0 | 56 |  5 | 268 |  605 | 1944 |\n",
       "| 1503960366 | 3/28/2016 | 13231 |  8.93 |  8.93 | 0 | 3.19 | 0.79 | 4.95 | 0 | 39 | 20 | 224 | 1080 | 1932 |\n",
       "| 1503960366 | 3/29/2016 | 12041 |  7.85 |  7.85 | 0 | 2.16 | 1.09 | 4.61 | 0 | 28 | 28 | 243 |  763 | 1886 |\n",
       "| 1503960366 | 3/30/2016 | 10970 |  7.16 |  7.16 | 0 | 2.36 | 0.51 | 4.29 | 0 | 30 | 13 | 223 | 1174 | 1820 |\n",
       "\n"
      ],
      "text/plain": [
       "  Id         ActivityDate TotalSteps TotalDistance TrackerDistance\n",
       "1 1503960366 3/25/2016    11004       7.11          7.11          \n",
       "2 1503960366 3/26/2016    17609      11.55         11.55          \n",
       "3 1503960366 3/27/2016    12736       8.53          8.53          \n",
       "4 1503960366 3/28/2016    13231       8.93          8.93          \n",
       "5 1503960366 3/29/2016    12041       7.85          7.85          \n",
       "6 1503960366 3/30/2016    10970       7.16          7.16          \n",
       "  LoggedActivitiesDistance VeryActiveDistance ModeratelyActiveDistance\n",
       "1 0                        2.57               0.46                    \n",
       "2 0                        6.92               0.73                    \n",
       "3 0                        4.66               0.16                    \n",
       "4 0                        3.19               0.79                    \n",
       "5 0                        2.16               1.09                    \n",
       "6 0                        2.36               0.51                    \n",
       "  LightActiveDistance SedentaryActiveDistance VeryActiveMinutes\n",
       "1 4.07                0                       33               \n",
       "2 3.91                0                       89               \n",
       "3 3.71                0                       56               \n",
       "4 4.95                0                       39               \n",
       "5 4.61                0                       28               \n",
       "6 4.29                0                       30               \n",
       "  FairlyActiveMinutes LightlyActiveMinutes SedentaryMinutes Calories\n",
       "1 12                  205                   804             1819    \n",
       "2 17                  274                   588             2154    \n",
       "3  5                  268                   605             1944    \n",
       "4 20                  224                  1080             1932    \n",
       "5 28                  243                   763             1886    \n",
       "6 13                  223                  1174             1820    "
      ]
     },
     "metadata": {},
     "output_type": "display_data"
    },
    {
     "data": {
      "text/html": [
       "0"
      ],
      "text/latex": [
       "0"
      ],
      "text/markdown": [
       "0"
      ],
      "text/plain": [
       "[1] 0"
      ]
     },
     "metadata": {},
     "output_type": "display_data"
    },
    {
     "data": {
      "text/html": [
       "35"
      ],
      "text/latex": [
       "35"
      ],
      "text/markdown": [
       "35"
      ],
      "text/plain": [
       "[1] 35"
      ]
     },
     "metadata": {},
     "output_type": "display_data"
    },
    {
     "data": {
      "text/html": [
       "0"
      ],
      "text/latex": [
       "0"
      ],
      "text/markdown": [
       "0"
      ],
      "text/plain": [
       "[1] 0"
      ]
     },
     "metadata": {},
     "output_type": "display_data"
    }
   ],
   "source": [
    "head(daily_activity)\n",
    "sum(is.na(daily_activity)) # finds the count of missing values \n",
    "length(unique(daily_activity$Id)) # finds unique Ids in the data set\n",
    "sum(duplicated(daily_activity))"
   ]
  },
  {
   "cell_type": "code",
   "execution_count": 10,
   "id": "9e1b6c78-5f07-4eff-84f6-5964790644c6",
   "metadata": {},
   "outputs": [
    {
     "data": {
      "text/html": [
       "<table class=\"dataframe\">\n",
       "<caption>A tibble: 6 × 3</caption>\n",
       "<thead>\n",
       "\t<tr><th scope=col>Id</th><th scope=col>Time</th><th scope=col>Value</th></tr>\n",
       "\t<tr><th scope=col>&lt;dbl&gt;</th><th scope=col>&lt;chr&gt;</th><th scope=col>&lt;dbl&gt;</th></tr>\n",
       "</thead>\n",
       "<tbody>\n",
       "\t<tr><td>2022484408</td><td>4/1/2016 7:54:00 AM</td><td> 93</td></tr>\n",
       "\t<tr><td>2022484408</td><td>4/1/2016 7:54:05 AM</td><td> 91</td></tr>\n",
       "\t<tr><td>2022484408</td><td>4/1/2016 7:54:10 AM</td><td> 96</td></tr>\n",
       "\t<tr><td>2022484408</td><td>4/1/2016 7:54:15 AM</td><td> 98</td></tr>\n",
       "\t<tr><td>2022484408</td><td>4/1/2016 7:54:20 AM</td><td>100</td></tr>\n",
       "\t<tr><td>2022484408</td><td>4/1/2016 7:54:25 AM</td><td>101</td></tr>\n",
       "</tbody>\n",
       "</table>\n"
      ],
      "text/latex": [
       "A tibble: 6 × 3\n",
       "\\begin{tabular}{lll}\n",
       " Id & Time & Value\\\\\n",
       " <dbl> & <chr> & <dbl>\\\\\n",
       "\\hline\n",
       "\t 2022484408 & 4/1/2016 7:54:00 AM &  93\\\\\n",
       "\t 2022484408 & 4/1/2016 7:54:05 AM &  91\\\\\n",
       "\t 2022484408 & 4/1/2016 7:54:10 AM &  96\\\\\n",
       "\t 2022484408 & 4/1/2016 7:54:15 AM &  98\\\\\n",
       "\t 2022484408 & 4/1/2016 7:54:20 AM & 100\\\\\n",
       "\t 2022484408 & 4/1/2016 7:54:25 AM & 101\\\\\n",
       "\\end{tabular}\n"
      ],
      "text/markdown": [
       "\n",
       "A tibble: 6 × 3\n",
       "\n",
       "| Id &lt;dbl&gt; | Time &lt;chr&gt; | Value &lt;dbl&gt; |\n",
       "|---|---|---|\n",
       "| 2022484408 | 4/1/2016 7:54:00 AM |  93 |\n",
       "| 2022484408 | 4/1/2016 7:54:05 AM |  91 |\n",
       "| 2022484408 | 4/1/2016 7:54:10 AM |  96 |\n",
       "| 2022484408 | 4/1/2016 7:54:15 AM |  98 |\n",
       "| 2022484408 | 4/1/2016 7:54:20 AM | 100 |\n",
       "| 2022484408 | 4/1/2016 7:54:25 AM | 101 |\n",
       "\n"
      ],
      "text/plain": [
       "  Id         Time                Value\n",
       "1 2022484408 4/1/2016 7:54:00 AM  93  \n",
       "2 2022484408 4/1/2016 7:54:05 AM  91  \n",
       "3 2022484408 4/1/2016 7:54:10 AM  96  \n",
       "4 2022484408 4/1/2016 7:54:15 AM  98  \n",
       "5 2022484408 4/1/2016 7:54:20 AM 100  \n",
       "6 2022484408 4/1/2016 7:54:25 AM 101  "
      ]
     },
     "metadata": {},
     "output_type": "display_data"
    },
    {
     "data": {
      "text/html": [
       "0"
      ],
      "text/latex": [
       "0"
      ],
      "text/markdown": [
       "0"
      ],
      "text/plain": [
       "[1] 0"
      ]
     },
     "metadata": {},
     "output_type": "display_data"
    },
    {
     "data": {
      "text/html": [
       "14"
      ],
      "text/latex": [
       "14"
      ],
      "text/markdown": [
       "14"
      ],
      "text/plain": [
       "[1] 14"
      ]
     },
     "metadata": {},
     "output_type": "display_data"
    },
    {
     "data": {
      "text/html": [
       "0"
      ],
      "text/latex": [
       "0"
      ],
      "text/markdown": [
       "0"
      ],
      "text/plain": [
       "[1] 0"
      ]
     },
     "metadata": {},
     "output_type": "display_data"
    }
   ],
   "source": [
    "head(heart_rate_seconds)\n",
    "sum(is.na(heart_rate_seconds))\n",
    "length(unique(heart_rate_seconds$Id))\n",
    "sum(duplicated(heart_rate_seconds))"
   ]
  },
  {
   "cell_type": "code",
   "execution_count": 11,
   "id": "0c345c1d-18e3-49ef-9710-48866b703900",
   "metadata": {},
   "outputs": [
    {
     "data": {
      "text/html": [
       "<table class=\"dataframe\">\n",
       "<caption>A tibble: 6 × 3</caption>\n",
       "<thead>\n",
       "\t<tr><th scope=col>Id</th><th scope=col>ActivityHour</th><th scope=col>Calories</th></tr>\n",
       "\t<tr><th scope=col>&lt;dbl&gt;</th><th scope=col>&lt;chr&gt;</th><th scope=col>&lt;dbl&gt;</th></tr>\n",
       "</thead>\n",
       "<tbody>\n",
       "\t<tr><td>1503960366</td><td>3/12/2016 12:00:00 AM</td><td>48</td></tr>\n",
       "\t<tr><td>1503960366</td><td>3/12/2016 1:00:00 AM </td><td>48</td></tr>\n",
       "\t<tr><td>1503960366</td><td>3/12/2016 2:00:00 AM </td><td>48</td></tr>\n",
       "\t<tr><td>1503960366</td><td>3/12/2016 3:00:00 AM </td><td>48</td></tr>\n",
       "\t<tr><td>1503960366</td><td>3/12/2016 4:00:00 AM </td><td>48</td></tr>\n",
       "\t<tr><td>1503960366</td><td>3/12/2016 5:00:00 AM </td><td>48</td></tr>\n",
       "</tbody>\n",
       "</table>\n"
      ],
      "text/latex": [
       "A tibble: 6 × 3\n",
       "\\begin{tabular}{lll}\n",
       " Id & ActivityHour & Calories\\\\\n",
       " <dbl> & <chr> & <dbl>\\\\\n",
       "\\hline\n",
       "\t 1503960366 & 3/12/2016 12:00:00 AM & 48\\\\\n",
       "\t 1503960366 & 3/12/2016 1:00:00 AM  & 48\\\\\n",
       "\t 1503960366 & 3/12/2016 2:00:00 AM  & 48\\\\\n",
       "\t 1503960366 & 3/12/2016 3:00:00 AM  & 48\\\\\n",
       "\t 1503960366 & 3/12/2016 4:00:00 AM  & 48\\\\\n",
       "\t 1503960366 & 3/12/2016 5:00:00 AM  & 48\\\\\n",
       "\\end{tabular}\n"
      ],
      "text/markdown": [
       "\n",
       "A tibble: 6 × 3\n",
       "\n",
       "| Id &lt;dbl&gt; | ActivityHour &lt;chr&gt; | Calories &lt;dbl&gt; |\n",
       "|---|---|---|\n",
       "| 1503960366 | 3/12/2016 12:00:00 AM | 48 |\n",
       "| 1503960366 | 3/12/2016 1:00:00 AM  | 48 |\n",
       "| 1503960366 | 3/12/2016 2:00:00 AM  | 48 |\n",
       "| 1503960366 | 3/12/2016 3:00:00 AM  | 48 |\n",
       "| 1503960366 | 3/12/2016 4:00:00 AM  | 48 |\n",
       "| 1503960366 | 3/12/2016 5:00:00 AM  | 48 |\n",
       "\n"
      ],
      "text/plain": [
       "  Id         ActivityHour          Calories\n",
       "1 1503960366 3/12/2016 12:00:00 AM 48      \n",
       "2 1503960366 3/12/2016 1:00:00 AM  48      \n",
       "3 1503960366 3/12/2016 2:00:00 AM  48      \n",
       "4 1503960366 3/12/2016 3:00:00 AM  48      \n",
       "5 1503960366 3/12/2016 4:00:00 AM  48      \n",
       "6 1503960366 3/12/2016 5:00:00 AM  48      "
      ]
     },
     "metadata": {},
     "output_type": "display_data"
    },
    {
     "data": {
      "text/html": [
       "0"
      ],
      "text/latex": [
       "0"
      ],
      "text/markdown": [
       "0"
      ],
      "text/plain": [
       "[1] 0"
      ]
     },
     "metadata": {},
     "output_type": "display_data"
    },
    {
     "data": {
      "text/html": [
       "34"
      ],
      "text/latex": [
       "34"
      ],
      "text/markdown": [
       "34"
      ],
      "text/plain": [
       "[1] 34"
      ]
     },
     "metadata": {},
     "output_type": "display_data"
    },
    {
     "data": {
      "text/html": [
       "0"
      ],
      "text/latex": [
       "0"
      ],
      "text/markdown": [
       "0"
      ],
      "text/plain": [
       "[1] 0"
      ]
     },
     "metadata": {},
     "output_type": "display_data"
    }
   ],
   "source": [
    "head(hourly_calories)\n",
    "sum(is.na(hourly_calories))\n",
    "length(unique(hourly_calories$Id))\n",
    "sum(duplicated(hourly_calories))"
   ]
  },
  {
   "cell_type": "code",
   "execution_count": 12,
   "id": "040a1dd2-a615-4da2-8916-005aaa7001af",
   "metadata": {},
   "outputs": [
    {
     "data": {
      "text/html": [
       "<table class=\"dataframe\">\n",
       "<caption>A tibble: 6 × 4</caption>\n",
       "<thead>\n",
       "\t<tr><th scope=col>Id</th><th scope=col>ActivityHour</th><th scope=col>TotalIntensity</th><th scope=col>AverageIntensity</th></tr>\n",
       "\t<tr><th scope=col>&lt;dbl&gt;</th><th scope=col>&lt;chr&gt;</th><th scope=col>&lt;dbl&gt;</th><th scope=col>&lt;dbl&gt;</th></tr>\n",
       "</thead>\n",
       "<tbody>\n",
       "\t<tr><td>1503960366</td><td>3/12/2016 12:00:00 AM</td><td>0</td><td>0</td></tr>\n",
       "\t<tr><td>1503960366</td><td>3/12/2016 1:00:00 AM </td><td>0</td><td>0</td></tr>\n",
       "\t<tr><td>1503960366</td><td>3/12/2016 2:00:00 AM </td><td>0</td><td>0</td></tr>\n",
       "\t<tr><td>1503960366</td><td>3/12/2016 3:00:00 AM </td><td>0</td><td>0</td></tr>\n",
       "\t<tr><td>1503960366</td><td>3/12/2016 4:00:00 AM </td><td>0</td><td>0</td></tr>\n",
       "\t<tr><td>1503960366</td><td>3/12/2016 5:00:00 AM </td><td>0</td><td>0</td></tr>\n",
       "</tbody>\n",
       "</table>\n"
      ],
      "text/latex": [
       "A tibble: 6 × 4\n",
       "\\begin{tabular}{llll}\n",
       " Id & ActivityHour & TotalIntensity & AverageIntensity\\\\\n",
       " <dbl> & <chr> & <dbl> & <dbl>\\\\\n",
       "\\hline\n",
       "\t 1503960366 & 3/12/2016 12:00:00 AM & 0 & 0\\\\\n",
       "\t 1503960366 & 3/12/2016 1:00:00 AM  & 0 & 0\\\\\n",
       "\t 1503960366 & 3/12/2016 2:00:00 AM  & 0 & 0\\\\\n",
       "\t 1503960366 & 3/12/2016 3:00:00 AM  & 0 & 0\\\\\n",
       "\t 1503960366 & 3/12/2016 4:00:00 AM  & 0 & 0\\\\\n",
       "\t 1503960366 & 3/12/2016 5:00:00 AM  & 0 & 0\\\\\n",
       "\\end{tabular}\n"
      ],
      "text/markdown": [
       "\n",
       "A tibble: 6 × 4\n",
       "\n",
       "| Id &lt;dbl&gt; | ActivityHour &lt;chr&gt; | TotalIntensity &lt;dbl&gt; | AverageIntensity &lt;dbl&gt; |\n",
       "|---|---|---|---|\n",
       "| 1503960366 | 3/12/2016 12:00:00 AM | 0 | 0 |\n",
       "| 1503960366 | 3/12/2016 1:00:00 AM  | 0 | 0 |\n",
       "| 1503960366 | 3/12/2016 2:00:00 AM  | 0 | 0 |\n",
       "| 1503960366 | 3/12/2016 3:00:00 AM  | 0 | 0 |\n",
       "| 1503960366 | 3/12/2016 4:00:00 AM  | 0 | 0 |\n",
       "| 1503960366 | 3/12/2016 5:00:00 AM  | 0 | 0 |\n",
       "\n"
      ],
      "text/plain": [
       "  Id         ActivityHour          TotalIntensity AverageIntensity\n",
       "1 1503960366 3/12/2016 12:00:00 AM 0              0               \n",
       "2 1503960366 3/12/2016 1:00:00 AM  0              0               \n",
       "3 1503960366 3/12/2016 2:00:00 AM  0              0               \n",
       "4 1503960366 3/12/2016 3:00:00 AM  0              0               \n",
       "5 1503960366 3/12/2016 4:00:00 AM  0              0               \n",
       "6 1503960366 3/12/2016 5:00:00 AM  0              0               "
      ]
     },
     "metadata": {},
     "output_type": "display_data"
    },
    {
     "data": {
      "text/html": [
       "0"
      ],
      "text/latex": [
       "0"
      ],
      "text/markdown": [
       "0"
      ],
      "text/plain": [
       "[1] 0"
      ]
     },
     "metadata": {},
     "output_type": "display_data"
    },
    {
     "data": {
      "text/html": [
       "34"
      ],
      "text/latex": [
       "34"
      ],
      "text/markdown": [
       "34"
      ],
      "text/plain": [
       "[1] 34"
      ]
     },
     "metadata": {},
     "output_type": "display_data"
    },
    {
     "data": {
      "text/html": [
       "0"
      ],
      "text/latex": [
       "0"
      ],
      "text/markdown": [
       "0"
      ],
      "text/plain": [
       "[1] 0"
      ]
     },
     "metadata": {},
     "output_type": "display_data"
    }
   ],
   "source": [
    "head(hourly_intensities)\n",
    "sum(is.na(hourly_intensities))\n",
    "length(unique(hourly_intensities$Id))\n",
    "sum(duplicated(hourly_intensities))"
   ]
  },
  {
   "cell_type": "code",
   "execution_count": 13,
   "id": "377de432-5e62-48b9-bd23-e1fca2f5600d",
   "metadata": {},
   "outputs": [
    {
     "data": {
      "text/html": [
       "<table class=\"dataframe\">\n",
       "<caption>A tibble: 6 × 3</caption>\n",
       "<thead>\n",
       "\t<tr><th scope=col>Id</th><th scope=col>ActivityHour</th><th scope=col>StepTotal</th></tr>\n",
       "\t<tr><th scope=col>&lt;dbl&gt;</th><th scope=col>&lt;chr&gt;</th><th scope=col>&lt;dbl&gt;</th></tr>\n",
       "</thead>\n",
       "<tbody>\n",
       "\t<tr><td>1503960366</td><td>3/12/2016 12:00:00 AM</td><td>0</td></tr>\n",
       "\t<tr><td>1503960366</td><td>3/12/2016 1:00:00 AM </td><td>0</td></tr>\n",
       "\t<tr><td>1503960366</td><td>3/12/2016 2:00:00 AM </td><td>0</td></tr>\n",
       "\t<tr><td>1503960366</td><td>3/12/2016 3:00:00 AM </td><td>0</td></tr>\n",
       "\t<tr><td>1503960366</td><td>3/12/2016 4:00:00 AM </td><td>0</td></tr>\n",
       "\t<tr><td>1503960366</td><td>3/12/2016 5:00:00 AM </td><td>0</td></tr>\n",
       "</tbody>\n",
       "</table>\n"
      ],
      "text/latex": [
       "A tibble: 6 × 3\n",
       "\\begin{tabular}{lll}\n",
       " Id & ActivityHour & StepTotal\\\\\n",
       " <dbl> & <chr> & <dbl>\\\\\n",
       "\\hline\n",
       "\t 1503960366 & 3/12/2016 12:00:00 AM & 0\\\\\n",
       "\t 1503960366 & 3/12/2016 1:00:00 AM  & 0\\\\\n",
       "\t 1503960366 & 3/12/2016 2:00:00 AM  & 0\\\\\n",
       "\t 1503960366 & 3/12/2016 3:00:00 AM  & 0\\\\\n",
       "\t 1503960366 & 3/12/2016 4:00:00 AM  & 0\\\\\n",
       "\t 1503960366 & 3/12/2016 5:00:00 AM  & 0\\\\\n",
       "\\end{tabular}\n"
      ],
      "text/markdown": [
       "\n",
       "A tibble: 6 × 3\n",
       "\n",
       "| Id &lt;dbl&gt; | ActivityHour &lt;chr&gt; | StepTotal &lt;dbl&gt; |\n",
       "|---|---|---|\n",
       "| 1503960366 | 3/12/2016 12:00:00 AM | 0 |\n",
       "| 1503960366 | 3/12/2016 1:00:00 AM  | 0 |\n",
       "| 1503960366 | 3/12/2016 2:00:00 AM  | 0 |\n",
       "| 1503960366 | 3/12/2016 3:00:00 AM  | 0 |\n",
       "| 1503960366 | 3/12/2016 4:00:00 AM  | 0 |\n",
       "| 1503960366 | 3/12/2016 5:00:00 AM  | 0 |\n",
       "\n"
      ],
      "text/plain": [
       "  Id         ActivityHour          StepTotal\n",
       "1 1503960366 3/12/2016 12:00:00 AM 0        \n",
       "2 1503960366 3/12/2016 1:00:00 AM  0        \n",
       "3 1503960366 3/12/2016 2:00:00 AM  0        \n",
       "4 1503960366 3/12/2016 3:00:00 AM  0        \n",
       "5 1503960366 3/12/2016 4:00:00 AM  0        \n",
       "6 1503960366 3/12/2016 5:00:00 AM  0        "
      ]
     },
     "metadata": {},
     "output_type": "display_data"
    },
    {
     "data": {
      "text/html": [
       "0"
      ],
      "text/latex": [
       "0"
      ],
      "text/markdown": [
       "0"
      ],
      "text/plain": [
       "[1] 0"
      ]
     },
     "metadata": {},
     "output_type": "display_data"
    },
    {
     "data": {
      "text/html": [
       "34"
      ],
      "text/latex": [
       "34"
      ],
      "text/markdown": [
       "34"
      ],
      "text/plain": [
       "[1] 34"
      ]
     },
     "metadata": {},
     "output_type": "display_data"
    },
    {
     "data": {
      "text/html": [
       "0"
      ],
      "text/latex": [
       "0"
      ],
      "text/markdown": [
       "0"
      ],
      "text/plain": [
       "[1] 0"
      ]
     },
     "metadata": {},
     "output_type": "display_data"
    }
   ],
   "source": [
    "head(hourly_steps)\n",
    "sum(is.na(hourly_steps))\n",
    "length(unique(hourly_steps$Id))\n",
    "sum(duplicated(hourly_steps))"
   ]
  },
  {
   "cell_type": "code",
   "execution_count": 14,
   "id": "96f27291-f89e-4b5b-b73f-03f8719e3be5",
   "metadata": {},
   "outputs": [
    {
     "data": {
      "text/html": [
       "<table class=\"dataframe\">\n",
       "<caption>A tibble: 6 × 4</caption>\n",
       "<thead>\n",
       "\t<tr><th scope=col>Id</th><th scope=col>date</th><th scope=col>value</th><th scope=col>logId</th></tr>\n",
       "\t<tr><th scope=col>&lt;dbl&gt;</th><th scope=col>&lt;chr&gt;</th><th scope=col>&lt;dbl&gt;</th><th scope=col>&lt;dbl&gt;</th></tr>\n",
       "</thead>\n",
       "<tbody>\n",
       "\t<tr><td>1503960366</td><td>3/13/2016 2:39:30 AM</td><td>1</td><td>11114919637</td></tr>\n",
       "\t<tr><td>1503960366</td><td>3/13/2016 2:40:30 AM</td><td>1</td><td>11114919637</td></tr>\n",
       "\t<tr><td>1503960366</td><td>3/13/2016 2:41:30 AM</td><td>1</td><td>11114919637</td></tr>\n",
       "\t<tr><td>1503960366</td><td>3/13/2016 2:42:30 AM</td><td>1</td><td>11114919637</td></tr>\n",
       "\t<tr><td>1503960366</td><td>3/13/2016 2:43:30 AM</td><td>1</td><td>11114919637</td></tr>\n",
       "\t<tr><td>1503960366</td><td>3/13/2016 2:44:30 AM</td><td>1</td><td>11114919637</td></tr>\n",
       "</tbody>\n",
       "</table>\n"
      ],
      "text/latex": [
       "A tibble: 6 × 4\n",
       "\\begin{tabular}{llll}\n",
       " Id & date & value & logId\\\\\n",
       " <dbl> & <chr> & <dbl> & <dbl>\\\\\n",
       "\\hline\n",
       "\t 1503960366 & 3/13/2016 2:39:30 AM & 1 & 11114919637\\\\\n",
       "\t 1503960366 & 3/13/2016 2:40:30 AM & 1 & 11114919637\\\\\n",
       "\t 1503960366 & 3/13/2016 2:41:30 AM & 1 & 11114919637\\\\\n",
       "\t 1503960366 & 3/13/2016 2:42:30 AM & 1 & 11114919637\\\\\n",
       "\t 1503960366 & 3/13/2016 2:43:30 AM & 1 & 11114919637\\\\\n",
       "\t 1503960366 & 3/13/2016 2:44:30 AM & 1 & 11114919637\\\\\n",
       "\\end{tabular}\n"
      ],
      "text/markdown": [
       "\n",
       "A tibble: 6 × 4\n",
       "\n",
       "| Id &lt;dbl&gt; | date &lt;chr&gt; | value &lt;dbl&gt; | logId &lt;dbl&gt; |\n",
       "|---|---|---|---|\n",
       "| 1503960366 | 3/13/2016 2:39:30 AM | 1 | 11114919637 |\n",
       "| 1503960366 | 3/13/2016 2:40:30 AM | 1 | 11114919637 |\n",
       "| 1503960366 | 3/13/2016 2:41:30 AM | 1 | 11114919637 |\n",
       "| 1503960366 | 3/13/2016 2:42:30 AM | 1 | 11114919637 |\n",
       "| 1503960366 | 3/13/2016 2:43:30 AM | 1 | 11114919637 |\n",
       "| 1503960366 | 3/13/2016 2:44:30 AM | 1 | 11114919637 |\n",
       "\n"
      ],
      "text/plain": [
       "  Id         date                 value logId      \n",
       "1 1503960366 3/13/2016 2:39:30 AM 1     11114919637\n",
       "2 1503960366 3/13/2016 2:40:30 AM 1     11114919637\n",
       "3 1503960366 3/13/2016 2:41:30 AM 1     11114919637\n",
       "4 1503960366 3/13/2016 2:42:30 AM 1     11114919637\n",
       "5 1503960366 3/13/2016 2:43:30 AM 1     11114919637\n",
       "6 1503960366 3/13/2016 2:44:30 AM 1     11114919637"
      ]
     },
     "metadata": {},
     "output_type": "display_data"
    },
    {
     "data": {
      "text/html": [
       "0"
      ],
      "text/latex": [
       "0"
      ],
      "text/markdown": [
       "0"
      ],
      "text/plain": [
       "[1] 0"
      ]
     },
     "metadata": {},
     "output_type": "display_data"
    },
    {
     "data": {
      "text/html": [
       "23"
      ],
      "text/latex": [
       "23"
      ],
      "text/markdown": [
       "23"
      ],
      "text/plain": [
       "[1] 23"
      ]
     },
     "metadata": {},
     "output_type": "display_data"
    },
    {
     "data": {
      "text/html": [
       "525"
      ],
      "text/latex": [
       "525"
      ],
      "text/markdown": [
       "525"
      ],
      "text/plain": [
       "[1] 525"
      ]
     },
     "metadata": {},
     "output_type": "display_data"
    },
    {
     "data": {
      "text/html": [
       "0"
      ],
      "text/latex": [
       "0"
      ],
      "text/markdown": [
       "0"
      ],
      "text/plain": [
       "[1] 0"
      ]
     },
     "metadata": {},
     "output_type": "display_data"
    }
   ],
   "source": [
    "head(sleep)\n",
    "sum(is.na(sleep))\n",
    "length(unique(sleep$Id))\n",
    "sum(duplicated(sleep)) # number of duplicates\n",
    "sleep <- unique(sleep) # removing duplicate rows\n",
    "sum(duplicated(sleep)) # to verify that duplicates have been removed or not"
   ]
  },
  {
   "cell_type": "code",
   "execution_count": 15,
   "id": "a5beab15-ef75-44fc-9574-dfe3b2a3fa55",
   "metadata": {},
   "outputs": [
    {
     "data": {
      "text/html": [
       "<table class=\"dataframe\">\n",
       "<caption>A tibble: 6 × 8</caption>\n",
       "<thead>\n",
       "\t<tr><th scope=col>Id</th><th scope=col>Date</th><th scope=col>WeightKg</th><th scope=col>WeightPounds</th><th scope=col>Fat</th><th scope=col>BMI</th><th scope=col>IsManualReport</th><th scope=col>LogId</th></tr>\n",
       "\t<tr><th scope=col>&lt;dbl&gt;</th><th scope=col>&lt;chr&gt;</th><th scope=col>&lt;dbl&gt;</th><th scope=col>&lt;dbl&gt;</th><th scope=col>&lt;dbl&gt;</th><th scope=col>&lt;dbl&gt;</th><th scope=col>&lt;lgl&gt;</th><th scope=col>&lt;dbl&gt;</th></tr>\n",
       "</thead>\n",
       "<tbody>\n",
       "\t<tr><td>1503960366</td><td>4/5/2016 11:59:59 PM</td><td> 53.3</td><td>117.5064</td><td>22</td><td>22.97</td><td> TRUE</td><td>1.459901e+12</td></tr>\n",
       "\t<tr><td>1927972279</td><td>4/10/2016 6:33:26 PM</td><td>129.6</td><td>285.7191</td><td>NA</td><td>46.17</td><td>FALSE</td><td>1.460313e+12</td></tr>\n",
       "\t<tr><td>2347167796</td><td>4/3/2016 11:59:59 PM</td><td> 63.4</td><td>139.7731</td><td>10</td><td>24.77</td><td> TRUE</td><td>1.459728e+12</td></tr>\n",
       "\t<tr><td>2873212765</td><td>4/6/2016 11:59:59 PM</td><td> 56.7</td><td>125.0021</td><td>NA</td><td>21.45</td><td> TRUE</td><td>1.459987e+12</td></tr>\n",
       "\t<tr><td>2873212765</td><td>4/7/2016 11:59:59 PM</td><td> 57.2</td><td>126.1044</td><td>NA</td><td>21.65</td><td> TRUE</td><td>1.460074e+12</td></tr>\n",
       "\t<tr><td>2891001357</td><td>4/5/2016 11:59:59 PM</td><td> 88.4</td><td>194.8886</td><td>NA</td><td>25.03</td><td> TRUE</td><td>1.459901e+12</td></tr>\n",
       "</tbody>\n",
       "</table>\n"
      ],
      "text/latex": [
       "A tibble: 6 × 8\n",
       "\\begin{tabular}{llllllll}\n",
       " Id & Date & WeightKg & WeightPounds & Fat & BMI & IsManualReport & LogId\\\\\n",
       " <dbl> & <chr> & <dbl> & <dbl> & <dbl> & <dbl> & <lgl> & <dbl>\\\\\n",
       "\\hline\n",
       "\t 1503960366 & 4/5/2016 11:59:59 PM &  53.3 & 117.5064 & 22 & 22.97 &  TRUE & 1.459901e+12\\\\\n",
       "\t 1927972279 & 4/10/2016 6:33:26 PM & 129.6 & 285.7191 & NA & 46.17 & FALSE & 1.460313e+12\\\\\n",
       "\t 2347167796 & 4/3/2016 11:59:59 PM &  63.4 & 139.7731 & 10 & 24.77 &  TRUE & 1.459728e+12\\\\\n",
       "\t 2873212765 & 4/6/2016 11:59:59 PM &  56.7 & 125.0021 & NA & 21.45 &  TRUE & 1.459987e+12\\\\\n",
       "\t 2873212765 & 4/7/2016 11:59:59 PM &  57.2 & 126.1044 & NA & 21.65 &  TRUE & 1.460074e+12\\\\\n",
       "\t 2891001357 & 4/5/2016 11:59:59 PM &  88.4 & 194.8886 & NA & 25.03 &  TRUE & 1.459901e+12\\\\\n",
       "\\end{tabular}\n"
      ],
      "text/markdown": [
       "\n",
       "A tibble: 6 × 8\n",
       "\n",
       "| Id &lt;dbl&gt; | Date &lt;chr&gt; | WeightKg &lt;dbl&gt; | WeightPounds &lt;dbl&gt; | Fat &lt;dbl&gt; | BMI &lt;dbl&gt; | IsManualReport &lt;lgl&gt; | LogId &lt;dbl&gt; |\n",
       "|---|---|---|---|---|---|---|---|\n",
       "| 1503960366 | 4/5/2016 11:59:59 PM |  53.3 | 117.5064 | 22 | 22.97 |  TRUE | 1.459901e+12 |\n",
       "| 1927972279 | 4/10/2016 6:33:26 PM | 129.6 | 285.7191 | NA | 46.17 | FALSE | 1.460313e+12 |\n",
       "| 2347167796 | 4/3/2016 11:59:59 PM |  63.4 | 139.7731 | 10 | 24.77 |  TRUE | 1.459728e+12 |\n",
       "| 2873212765 | 4/6/2016 11:59:59 PM |  56.7 | 125.0021 | NA | 21.45 |  TRUE | 1.459987e+12 |\n",
       "| 2873212765 | 4/7/2016 11:59:59 PM |  57.2 | 126.1044 | NA | 21.65 |  TRUE | 1.460074e+12 |\n",
       "| 2891001357 | 4/5/2016 11:59:59 PM |  88.4 | 194.8886 | NA | 25.03 |  TRUE | 1.459901e+12 |\n",
       "\n"
      ],
      "text/plain": [
       "  Id         Date                 WeightKg WeightPounds Fat BMI  \n",
       "1 1503960366 4/5/2016 11:59:59 PM  53.3    117.5064     22  22.97\n",
       "2 1927972279 4/10/2016 6:33:26 PM 129.6    285.7191     NA  46.17\n",
       "3 2347167796 4/3/2016 11:59:59 PM  63.4    139.7731     10  24.77\n",
       "4 2873212765 4/6/2016 11:59:59 PM  56.7    125.0021     NA  21.45\n",
       "5 2873212765 4/7/2016 11:59:59 PM  57.2    126.1044     NA  21.65\n",
       "6 2891001357 4/5/2016 11:59:59 PM  88.4    194.8886     NA  25.03\n",
       "  IsManualReport LogId       \n",
       "1  TRUE          1.459901e+12\n",
       "2 FALSE          1.460313e+12\n",
       "3  TRUE          1.459728e+12\n",
       "4  TRUE          1.459987e+12\n",
       "5  TRUE          1.460074e+12\n",
       "6  TRUE          1.459901e+12"
      ]
     },
     "metadata": {},
     "output_type": "display_data"
    },
    {
     "data": {
      "text/html": [
       "31"
      ],
      "text/latex": [
       "31"
      ],
      "text/markdown": [
       "31"
      ],
      "text/plain": [
       "[1] 31"
      ]
     },
     "metadata": {},
     "output_type": "display_data"
    },
    {
     "data": {
      "text/html": [
       "11"
      ],
      "text/latex": [
       "11"
      ],
      "text/markdown": [
       "11"
      ],
      "text/plain": [
       "[1] 11"
      ]
     },
     "metadata": {},
     "output_type": "display_data"
    },
    {
     "data": {
      "text/html": [
       "0"
      ],
      "text/latex": [
       "0"
      ],
      "text/markdown": [
       "0"
      ],
      "text/plain": [
       "[1] 0"
      ]
     },
     "metadata": {},
     "output_type": "display_data"
    }
   ],
   "source": [
    "head(weight_info)\n",
    "sum(is.na(weight_info))\n",
    "length(unique(weight_info$Id))\n",
    "sum(duplicated(weight_info))"
   ]
  },
  {
   "cell_type": "markdown",
   "id": "baf9c241-60aa-485c-8fe7-1d09140f0b9c",
   "metadata": {},
   "source": [
    "After the previewing of datasets, we conclude the followings:\n",
    "- There are no missing values in selected data sets except the weight_info data frame\n",
    "- The datasets are inconsistent as number of participants in each dataset is not same (Id column)\n",
    "- A transformation is required for time/date column\n",
    "- Duplicates were identified in the sleep data frame which are removed."
   ]
  },
  {
   "cell_type": "markdown",
   "id": "daa9e28c-dd52-41f8-8353-31ec9cdc5ce3",
   "metadata": {},
   "source": [
    "# Transformation of Date/Time\n",
    "the date/time column for all datasets is character datatype. We will convert it into date/time data type in R"
   ]
  },
  {
   "cell_type": "code",
   "execution_count": 16,
   "id": "99d98b52-a29d-4fb1-9056-2581348146a4",
   "metadata": {},
   "outputs": [],
   "source": [
    "daily_activity$ActivityDate <- mdy(daily_activity$ActivityDate)"
   ]
  },
  {
   "cell_type": "code",
   "execution_count": 17,
   "id": "c47dbfe0-a4d9-4f45-8081-bf4ce7b7c893",
   "metadata": {},
   "outputs": [
    {
     "data": {
      "text/html": [
       "<table class=\"dataframe\">\n",
       "<caption>A tibble: 6 × 15</caption>\n",
       "<thead>\n",
       "\t<tr><th scope=col>Id</th><th scope=col>ActivityDate</th><th scope=col>TotalSteps</th><th scope=col>TotalDistance</th><th scope=col>TrackerDistance</th><th scope=col>LoggedActivitiesDistance</th><th scope=col>VeryActiveDistance</th><th scope=col>ModeratelyActiveDistance</th><th scope=col>LightActiveDistance</th><th scope=col>SedentaryActiveDistance</th><th scope=col>VeryActiveMinutes</th><th scope=col>FairlyActiveMinutes</th><th scope=col>LightlyActiveMinutes</th><th scope=col>SedentaryMinutes</th><th scope=col>Calories</th></tr>\n",
       "\t<tr><th scope=col>&lt;dbl&gt;</th><th scope=col>&lt;date&gt;</th><th scope=col>&lt;dbl&gt;</th><th scope=col>&lt;dbl&gt;</th><th scope=col>&lt;dbl&gt;</th><th scope=col>&lt;dbl&gt;</th><th scope=col>&lt;dbl&gt;</th><th scope=col>&lt;dbl&gt;</th><th scope=col>&lt;dbl&gt;</th><th scope=col>&lt;dbl&gt;</th><th scope=col>&lt;dbl&gt;</th><th scope=col>&lt;dbl&gt;</th><th scope=col>&lt;dbl&gt;</th><th scope=col>&lt;dbl&gt;</th><th scope=col>&lt;dbl&gt;</th></tr>\n",
       "</thead>\n",
       "<tbody>\n",
       "\t<tr><td>1503960366</td><td>2016-03-25</td><td>11004</td><td> 7.11</td><td> 7.11</td><td>0</td><td>2.57</td><td>0.46</td><td>4.07</td><td>0</td><td>33</td><td>12</td><td>205</td><td> 804</td><td>1819</td></tr>\n",
       "\t<tr><td>1503960366</td><td>2016-03-26</td><td>17609</td><td>11.55</td><td>11.55</td><td>0</td><td>6.92</td><td>0.73</td><td>3.91</td><td>0</td><td>89</td><td>17</td><td>274</td><td> 588</td><td>2154</td></tr>\n",
       "\t<tr><td>1503960366</td><td>2016-03-27</td><td>12736</td><td> 8.53</td><td> 8.53</td><td>0</td><td>4.66</td><td>0.16</td><td>3.71</td><td>0</td><td>56</td><td> 5</td><td>268</td><td> 605</td><td>1944</td></tr>\n",
       "\t<tr><td>1503960366</td><td>2016-03-28</td><td>13231</td><td> 8.93</td><td> 8.93</td><td>0</td><td>3.19</td><td>0.79</td><td>4.95</td><td>0</td><td>39</td><td>20</td><td>224</td><td>1080</td><td>1932</td></tr>\n",
       "\t<tr><td>1503960366</td><td>2016-03-29</td><td>12041</td><td> 7.85</td><td> 7.85</td><td>0</td><td>2.16</td><td>1.09</td><td>4.61</td><td>0</td><td>28</td><td>28</td><td>243</td><td> 763</td><td>1886</td></tr>\n",
       "\t<tr><td>1503960366</td><td>2016-03-30</td><td>10970</td><td> 7.16</td><td> 7.16</td><td>0</td><td>2.36</td><td>0.51</td><td>4.29</td><td>0</td><td>30</td><td>13</td><td>223</td><td>1174</td><td>1820</td></tr>\n",
       "</tbody>\n",
       "</table>\n"
      ],
      "text/latex": [
       "A tibble: 6 × 15\n",
       "\\begin{tabular}{lllllllllllllll}\n",
       " Id & ActivityDate & TotalSteps & TotalDistance & TrackerDistance & LoggedActivitiesDistance & VeryActiveDistance & ModeratelyActiveDistance & LightActiveDistance & SedentaryActiveDistance & VeryActiveMinutes & FairlyActiveMinutes & LightlyActiveMinutes & SedentaryMinutes & Calories\\\\\n",
       " <dbl> & <date> & <dbl> & <dbl> & <dbl> & <dbl> & <dbl> & <dbl> & <dbl> & <dbl> & <dbl> & <dbl> & <dbl> & <dbl> & <dbl>\\\\\n",
       "\\hline\n",
       "\t 1503960366 & 2016-03-25 & 11004 &  7.11 &  7.11 & 0 & 2.57 & 0.46 & 4.07 & 0 & 33 & 12 & 205 &  804 & 1819\\\\\n",
       "\t 1503960366 & 2016-03-26 & 17609 & 11.55 & 11.55 & 0 & 6.92 & 0.73 & 3.91 & 0 & 89 & 17 & 274 &  588 & 2154\\\\\n",
       "\t 1503960366 & 2016-03-27 & 12736 &  8.53 &  8.53 & 0 & 4.66 & 0.16 & 3.71 & 0 & 56 &  5 & 268 &  605 & 1944\\\\\n",
       "\t 1503960366 & 2016-03-28 & 13231 &  8.93 &  8.93 & 0 & 3.19 & 0.79 & 4.95 & 0 & 39 & 20 & 224 & 1080 & 1932\\\\\n",
       "\t 1503960366 & 2016-03-29 & 12041 &  7.85 &  7.85 & 0 & 2.16 & 1.09 & 4.61 & 0 & 28 & 28 & 243 &  763 & 1886\\\\\n",
       "\t 1503960366 & 2016-03-30 & 10970 &  7.16 &  7.16 & 0 & 2.36 & 0.51 & 4.29 & 0 & 30 & 13 & 223 & 1174 & 1820\\\\\n",
       "\\end{tabular}\n"
      ],
      "text/markdown": [
       "\n",
       "A tibble: 6 × 15\n",
       "\n",
       "| Id &lt;dbl&gt; | ActivityDate &lt;date&gt; | TotalSteps &lt;dbl&gt; | TotalDistance &lt;dbl&gt; | TrackerDistance &lt;dbl&gt; | LoggedActivitiesDistance &lt;dbl&gt; | VeryActiveDistance &lt;dbl&gt; | ModeratelyActiveDistance &lt;dbl&gt; | LightActiveDistance &lt;dbl&gt; | SedentaryActiveDistance &lt;dbl&gt; | VeryActiveMinutes &lt;dbl&gt; | FairlyActiveMinutes &lt;dbl&gt; | LightlyActiveMinutes &lt;dbl&gt; | SedentaryMinutes &lt;dbl&gt; | Calories &lt;dbl&gt; |\n",
       "|---|---|---|---|---|---|---|---|---|---|---|---|---|---|---|\n",
       "| 1503960366 | 2016-03-25 | 11004 |  7.11 |  7.11 | 0 | 2.57 | 0.46 | 4.07 | 0 | 33 | 12 | 205 |  804 | 1819 |\n",
       "| 1503960366 | 2016-03-26 | 17609 | 11.55 | 11.55 | 0 | 6.92 | 0.73 | 3.91 | 0 | 89 | 17 | 274 |  588 | 2154 |\n",
       "| 1503960366 | 2016-03-27 | 12736 |  8.53 |  8.53 | 0 | 4.66 | 0.16 | 3.71 | 0 | 56 |  5 | 268 |  605 | 1944 |\n",
       "| 1503960366 | 2016-03-28 | 13231 |  8.93 |  8.93 | 0 | 3.19 | 0.79 | 4.95 | 0 | 39 | 20 | 224 | 1080 | 1932 |\n",
       "| 1503960366 | 2016-03-29 | 12041 |  7.85 |  7.85 | 0 | 2.16 | 1.09 | 4.61 | 0 | 28 | 28 | 243 |  763 | 1886 |\n",
       "| 1503960366 | 2016-03-30 | 10970 |  7.16 |  7.16 | 0 | 2.36 | 0.51 | 4.29 | 0 | 30 | 13 | 223 | 1174 | 1820 |\n",
       "\n"
      ],
      "text/plain": [
       "  Id         ActivityDate TotalSteps TotalDistance TrackerDistance\n",
       "1 1503960366 2016-03-25   11004       7.11          7.11          \n",
       "2 1503960366 2016-03-26   17609      11.55         11.55          \n",
       "3 1503960366 2016-03-27   12736       8.53          8.53          \n",
       "4 1503960366 2016-03-28   13231       8.93          8.93          \n",
       "5 1503960366 2016-03-29   12041       7.85          7.85          \n",
       "6 1503960366 2016-03-30   10970       7.16          7.16          \n",
       "  LoggedActivitiesDistance VeryActiveDistance ModeratelyActiveDistance\n",
       "1 0                        2.57               0.46                    \n",
       "2 0                        6.92               0.73                    \n",
       "3 0                        4.66               0.16                    \n",
       "4 0                        3.19               0.79                    \n",
       "5 0                        2.16               1.09                    \n",
       "6 0                        2.36               0.51                    \n",
       "  LightActiveDistance SedentaryActiveDistance VeryActiveMinutes\n",
       "1 4.07                0                       33               \n",
       "2 3.91                0                       89               \n",
       "3 3.71                0                       56               \n",
       "4 4.95                0                       39               \n",
       "5 4.61                0                       28               \n",
       "6 4.29                0                       30               \n",
       "  FairlyActiveMinutes LightlyActiveMinutes SedentaryMinutes Calories\n",
       "1 12                  205                   804             1819    \n",
       "2 17                  274                   588             2154    \n",
       "3  5                  268                   605             1944    \n",
       "4 20                  224                  1080             1932    \n",
       "5 28                  243                   763             1886    \n",
       "6 13                  223                  1174             1820    "
      ]
     },
     "metadata": {},
     "output_type": "display_data"
    }
   ],
   "source": [
    "head(daily_activity)"
   ]
  },
  {
   "cell_type": "code",
   "execution_count": 18,
   "id": "0e1e88fc-b76e-4a44-bfac-8c720f33c549",
   "metadata": {},
   "outputs": [],
   "source": [
    "heart_rate_seconds$Time <- mdy_hms(heart_rate_seconds$Time,tz = Sys.timezone())"
   ]
  },
  {
   "cell_type": "code",
   "execution_count": 19,
   "id": "1e23d39c-e608-4ae7-bee1-e07433c2cfae",
   "metadata": {},
   "outputs": [
    {
     "data": {
      "text/html": [
       "<table class=\"dataframe\">\n",
       "<caption>A tibble: 6 × 3</caption>\n",
       "<thead>\n",
       "\t<tr><th scope=col>Id</th><th scope=col>Time</th><th scope=col>Value</th></tr>\n",
       "\t<tr><th scope=col>&lt;dbl&gt;</th><th scope=col>&lt;dttm&gt;</th><th scope=col>&lt;dbl&gt;</th></tr>\n",
       "</thead>\n",
       "<tbody>\n",
       "\t<tr><td>2022484408</td><td>2016-04-01 07:54:00</td><td> 93</td></tr>\n",
       "\t<tr><td>2022484408</td><td>2016-04-01 07:54:05</td><td> 91</td></tr>\n",
       "\t<tr><td>2022484408</td><td>2016-04-01 07:54:10</td><td> 96</td></tr>\n",
       "\t<tr><td>2022484408</td><td>2016-04-01 07:54:15</td><td> 98</td></tr>\n",
       "\t<tr><td>2022484408</td><td>2016-04-01 07:54:20</td><td>100</td></tr>\n",
       "\t<tr><td>2022484408</td><td>2016-04-01 07:54:25</td><td>101</td></tr>\n",
       "</tbody>\n",
       "</table>\n"
      ],
      "text/latex": [
       "A tibble: 6 × 3\n",
       "\\begin{tabular}{lll}\n",
       " Id & Time & Value\\\\\n",
       " <dbl> & <dttm> & <dbl>\\\\\n",
       "\\hline\n",
       "\t 2022484408 & 2016-04-01 07:54:00 &  93\\\\\n",
       "\t 2022484408 & 2016-04-01 07:54:05 &  91\\\\\n",
       "\t 2022484408 & 2016-04-01 07:54:10 &  96\\\\\n",
       "\t 2022484408 & 2016-04-01 07:54:15 &  98\\\\\n",
       "\t 2022484408 & 2016-04-01 07:54:20 & 100\\\\\n",
       "\t 2022484408 & 2016-04-01 07:54:25 & 101\\\\\n",
       "\\end{tabular}\n"
      ],
      "text/markdown": [
       "\n",
       "A tibble: 6 × 3\n",
       "\n",
       "| Id &lt;dbl&gt; | Time &lt;dttm&gt; | Value &lt;dbl&gt; |\n",
       "|---|---|---|\n",
       "| 2022484408 | 2016-04-01 07:54:00 |  93 |\n",
       "| 2022484408 | 2016-04-01 07:54:05 |  91 |\n",
       "| 2022484408 | 2016-04-01 07:54:10 |  96 |\n",
       "| 2022484408 | 2016-04-01 07:54:15 |  98 |\n",
       "| 2022484408 | 2016-04-01 07:54:20 | 100 |\n",
       "| 2022484408 | 2016-04-01 07:54:25 | 101 |\n",
       "\n"
      ],
      "text/plain": [
       "  Id         Time                Value\n",
       "1 2022484408 2016-04-01 07:54:00  93  \n",
       "2 2022484408 2016-04-01 07:54:05  91  \n",
       "3 2022484408 2016-04-01 07:54:10  96  \n",
       "4 2022484408 2016-04-01 07:54:15  98  \n",
       "5 2022484408 2016-04-01 07:54:20 100  \n",
       "6 2022484408 2016-04-01 07:54:25 101  "
      ]
     },
     "metadata": {},
     "output_type": "display_data"
    }
   ],
   "source": [
    "head(heart_rate_seconds)"
   ]
  },
  {
   "cell_type": "code",
   "execution_count": 20,
   "id": "733d9d97-1a38-4ca6-b624-d18f859c20b8",
   "metadata": {},
   "outputs": [],
   "source": [
    "hourly_calories$ActivityHour <- mdy_hms(hourly_calories$ActivityHour, tz = Sys.timezone())"
   ]
  },
  {
   "cell_type": "code",
   "execution_count": 21,
   "id": "ab0445c4-373a-4eff-9122-dc37e2a9770b",
   "metadata": {},
   "outputs": [
    {
     "data": {
      "text/html": [
       "<table class=\"dataframe\">\n",
       "<caption>A tibble: 6 × 3</caption>\n",
       "<thead>\n",
       "\t<tr><th scope=col>Id</th><th scope=col>ActivityHour</th><th scope=col>Calories</th></tr>\n",
       "\t<tr><th scope=col>&lt;dbl&gt;</th><th scope=col>&lt;dttm&gt;</th><th scope=col>&lt;dbl&gt;</th></tr>\n",
       "</thead>\n",
       "<tbody>\n",
       "\t<tr><td>1503960366</td><td>2016-03-12 00:00:00</td><td>48</td></tr>\n",
       "\t<tr><td>1503960366</td><td>2016-03-12 01:00:00</td><td>48</td></tr>\n",
       "\t<tr><td>1503960366</td><td>2016-03-12 02:00:00</td><td>48</td></tr>\n",
       "\t<tr><td>1503960366</td><td>2016-03-12 03:00:00</td><td>48</td></tr>\n",
       "\t<tr><td>1503960366</td><td>2016-03-12 04:00:00</td><td>48</td></tr>\n",
       "\t<tr><td>1503960366</td><td>2016-03-12 05:00:00</td><td>48</td></tr>\n",
       "</tbody>\n",
       "</table>\n"
      ],
      "text/latex": [
       "A tibble: 6 × 3\n",
       "\\begin{tabular}{lll}\n",
       " Id & ActivityHour & Calories\\\\\n",
       " <dbl> & <dttm> & <dbl>\\\\\n",
       "\\hline\n",
       "\t 1503960366 & 2016-03-12 00:00:00 & 48\\\\\n",
       "\t 1503960366 & 2016-03-12 01:00:00 & 48\\\\\n",
       "\t 1503960366 & 2016-03-12 02:00:00 & 48\\\\\n",
       "\t 1503960366 & 2016-03-12 03:00:00 & 48\\\\\n",
       "\t 1503960366 & 2016-03-12 04:00:00 & 48\\\\\n",
       "\t 1503960366 & 2016-03-12 05:00:00 & 48\\\\\n",
       "\\end{tabular}\n"
      ],
      "text/markdown": [
       "\n",
       "A tibble: 6 × 3\n",
       "\n",
       "| Id &lt;dbl&gt; | ActivityHour &lt;dttm&gt; | Calories &lt;dbl&gt; |\n",
       "|---|---|---|\n",
       "| 1503960366 | 2016-03-12 00:00:00 | 48 |\n",
       "| 1503960366 | 2016-03-12 01:00:00 | 48 |\n",
       "| 1503960366 | 2016-03-12 02:00:00 | 48 |\n",
       "| 1503960366 | 2016-03-12 03:00:00 | 48 |\n",
       "| 1503960366 | 2016-03-12 04:00:00 | 48 |\n",
       "| 1503960366 | 2016-03-12 05:00:00 | 48 |\n",
       "\n"
      ],
      "text/plain": [
       "  Id         ActivityHour        Calories\n",
       "1 1503960366 2016-03-12 00:00:00 48      \n",
       "2 1503960366 2016-03-12 01:00:00 48      \n",
       "3 1503960366 2016-03-12 02:00:00 48      \n",
       "4 1503960366 2016-03-12 03:00:00 48      \n",
       "5 1503960366 2016-03-12 04:00:00 48      \n",
       "6 1503960366 2016-03-12 05:00:00 48      "
      ]
     },
     "metadata": {},
     "output_type": "display_data"
    }
   ],
   "source": [
    "head(hourly_calories)"
   ]
  },
  {
   "cell_type": "code",
   "execution_count": 22,
   "id": "73e51ca1-38c5-4456-845a-0b0b834151b6",
   "metadata": {},
   "outputs": [],
   "source": [
    "hourly_intensities$ActivityHour <- mdy_hms(hourly_intensities$ActivityHour, tz = Sys.timezone())"
   ]
  },
  {
   "cell_type": "code",
   "execution_count": 23,
   "id": "959059dc-3464-48e8-bad3-181c03ee3bc2",
   "metadata": {},
   "outputs": [
    {
     "data": {
      "text/html": [
       "<table class=\"dataframe\">\n",
       "<caption>A tibble: 6 × 4</caption>\n",
       "<thead>\n",
       "\t<tr><th scope=col>Id</th><th scope=col>ActivityHour</th><th scope=col>TotalIntensity</th><th scope=col>AverageIntensity</th></tr>\n",
       "\t<tr><th scope=col>&lt;dbl&gt;</th><th scope=col>&lt;dttm&gt;</th><th scope=col>&lt;dbl&gt;</th><th scope=col>&lt;dbl&gt;</th></tr>\n",
       "</thead>\n",
       "<tbody>\n",
       "\t<tr><td>1503960366</td><td>2016-03-12 00:00:00</td><td>0</td><td>0</td></tr>\n",
       "\t<tr><td>1503960366</td><td>2016-03-12 01:00:00</td><td>0</td><td>0</td></tr>\n",
       "\t<tr><td>1503960366</td><td>2016-03-12 02:00:00</td><td>0</td><td>0</td></tr>\n",
       "\t<tr><td>1503960366</td><td>2016-03-12 03:00:00</td><td>0</td><td>0</td></tr>\n",
       "\t<tr><td>1503960366</td><td>2016-03-12 04:00:00</td><td>0</td><td>0</td></tr>\n",
       "\t<tr><td>1503960366</td><td>2016-03-12 05:00:00</td><td>0</td><td>0</td></tr>\n",
       "</tbody>\n",
       "</table>\n"
      ],
      "text/latex": [
       "A tibble: 6 × 4\n",
       "\\begin{tabular}{llll}\n",
       " Id & ActivityHour & TotalIntensity & AverageIntensity\\\\\n",
       " <dbl> & <dttm> & <dbl> & <dbl>\\\\\n",
       "\\hline\n",
       "\t 1503960366 & 2016-03-12 00:00:00 & 0 & 0\\\\\n",
       "\t 1503960366 & 2016-03-12 01:00:00 & 0 & 0\\\\\n",
       "\t 1503960366 & 2016-03-12 02:00:00 & 0 & 0\\\\\n",
       "\t 1503960366 & 2016-03-12 03:00:00 & 0 & 0\\\\\n",
       "\t 1503960366 & 2016-03-12 04:00:00 & 0 & 0\\\\\n",
       "\t 1503960366 & 2016-03-12 05:00:00 & 0 & 0\\\\\n",
       "\\end{tabular}\n"
      ],
      "text/markdown": [
       "\n",
       "A tibble: 6 × 4\n",
       "\n",
       "| Id &lt;dbl&gt; | ActivityHour &lt;dttm&gt; | TotalIntensity &lt;dbl&gt; | AverageIntensity &lt;dbl&gt; |\n",
       "|---|---|---|---|\n",
       "| 1503960366 | 2016-03-12 00:00:00 | 0 | 0 |\n",
       "| 1503960366 | 2016-03-12 01:00:00 | 0 | 0 |\n",
       "| 1503960366 | 2016-03-12 02:00:00 | 0 | 0 |\n",
       "| 1503960366 | 2016-03-12 03:00:00 | 0 | 0 |\n",
       "| 1503960366 | 2016-03-12 04:00:00 | 0 | 0 |\n",
       "| 1503960366 | 2016-03-12 05:00:00 | 0 | 0 |\n",
       "\n"
      ],
      "text/plain": [
       "  Id         ActivityHour        TotalIntensity AverageIntensity\n",
       "1 1503960366 2016-03-12 00:00:00 0              0               \n",
       "2 1503960366 2016-03-12 01:00:00 0              0               \n",
       "3 1503960366 2016-03-12 02:00:00 0              0               \n",
       "4 1503960366 2016-03-12 03:00:00 0              0               \n",
       "5 1503960366 2016-03-12 04:00:00 0              0               \n",
       "6 1503960366 2016-03-12 05:00:00 0              0               "
      ]
     },
     "metadata": {},
     "output_type": "display_data"
    }
   ],
   "source": [
    "head(hourly_intensities)"
   ]
  },
  {
   "cell_type": "code",
   "execution_count": 24,
   "id": "d98bebc2-c628-4750-85f6-6315995a1834",
   "metadata": {},
   "outputs": [],
   "source": [
    "hourly_steps$ActivityHour <- mdy_hms(hourly_steps$ActivityHour, tz = Sys.timezone())"
   ]
  },
  {
   "cell_type": "code",
   "execution_count": 25,
   "id": "bbc580af-c65f-4c95-a280-596ffc0c6c7c",
   "metadata": {},
   "outputs": [
    {
     "data": {
      "text/html": [
       "<table class=\"dataframe\">\n",
       "<caption>A tibble: 6 × 3</caption>\n",
       "<thead>\n",
       "\t<tr><th scope=col>Id</th><th scope=col>ActivityHour</th><th scope=col>StepTotal</th></tr>\n",
       "\t<tr><th scope=col>&lt;dbl&gt;</th><th scope=col>&lt;dttm&gt;</th><th scope=col>&lt;dbl&gt;</th></tr>\n",
       "</thead>\n",
       "<tbody>\n",
       "\t<tr><td>1503960366</td><td>2016-03-12 00:00:00</td><td>0</td></tr>\n",
       "\t<tr><td>1503960366</td><td>2016-03-12 01:00:00</td><td>0</td></tr>\n",
       "\t<tr><td>1503960366</td><td>2016-03-12 02:00:00</td><td>0</td></tr>\n",
       "\t<tr><td>1503960366</td><td>2016-03-12 03:00:00</td><td>0</td></tr>\n",
       "\t<tr><td>1503960366</td><td>2016-03-12 04:00:00</td><td>0</td></tr>\n",
       "\t<tr><td>1503960366</td><td>2016-03-12 05:00:00</td><td>0</td></tr>\n",
       "</tbody>\n",
       "</table>\n"
      ],
      "text/latex": [
       "A tibble: 6 × 3\n",
       "\\begin{tabular}{lll}\n",
       " Id & ActivityHour & StepTotal\\\\\n",
       " <dbl> & <dttm> & <dbl>\\\\\n",
       "\\hline\n",
       "\t 1503960366 & 2016-03-12 00:00:00 & 0\\\\\n",
       "\t 1503960366 & 2016-03-12 01:00:00 & 0\\\\\n",
       "\t 1503960366 & 2016-03-12 02:00:00 & 0\\\\\n",
       "\t 1503960366 & 2016-03-12 03:00:00 & 0\\\\\n",
       "\t 1503960366 & 2016-03-12 04:00:00 & 0\\\\\n",
       "\t 1503960366 & 2016-03-12 05:00:00 & 0\\\\\n",
       "\\end{tabular}\n"
      ],
      "text/markdown": [
       "\n",
       "A tibble: 6 × 3\n",
       "\n",
       "| Id &lt;dbl&gt; | ActivityHour &lt;dttm&gt; | StepTotal &lt;dbl&gt; |\n",
       "|---|---|---|\n",
       "| 1503960366 | 2016-03-12 00:00:00 | 0 |\n",
       "| 1503960366 | 2016-03-12 01:00:00 | 0 |\n",
       "| 1503960366 | 2016-03-12 02:00:00 | 0 |\n",
       "| 1503960366 | 2016-03-12 03:00:00 | 0 |\n",
       "| 1503960366 | 2016-03-12 04:00:00 | 0 |\n",
       "| 1503960366 | 2016-03-12 05:00:00 | 0 |\n",
       "\n"
      ],
      "text/plain": [
       "  Id         ActivityHour        StepTotal\n",
       "1 1503960366 2016-03-12 00:00:00 0        \n",
       "2 1503960366 2016-03-12 01:00:00 0        \n",
       "3 1503960366 2016-03-12 02:00:00 0        \n",
       "4 1503960366 2016-03-12 03:00:00 0        \n",
       "5 1503960366 2016-03-12 04:00:00 0        \n",
       "6 1503960366 2016-03-12 05:00:00 0        "
      ]
     },
     "metadata": {},
     "output_type": "display_data"
    }
   ],
   "source": [
    "head(hourly_steps)"
   ]
  },
  {
   "cell_type": "code",
   "execution_count": 26,
   "id": "bf360c7d-3c5e-4707-aa7f-ea7a6f3179c0",
   "metadata": {},
   "outputs": [],
   "source": [
    "sleep$date <- mdy_hms(sleep$date, tz = Sys.timezone())"
   ]
  },
  {
   "cell_type": "code",
   "execution_count": 27,
   "id": "fb7180c3-174b-4e97-afac-a9aa2f9a475c",
   "metadata": {},
   "outputs": [
    {
     "data": {
      "text/html": [
       "<table class=\"dataframe\">\n",
       "<caption>A tibble: 6 × 4</caption>\n",
       "<thead>\n",
       "\t<tr><th scope=col>Id</th><th scope=col>date</th><th scope=col>value</th><th scope=col>logId</th></tr>\n",
       "\t<tr><th scope=col>&lt;dbl&gt;</th><th scope=col>&lt;dttm&gt;</th><th scope=col>&lt;dbl&gt;</th><th scope=col>&lt;dbl&gt;</th></tr>\n",
       "</thead>\n",
       "<tbody>\n",
       "\t<tr><td>1503960366</td><td>2016-03-13 02:39:30</td><td>1</td><td>11114919637</td></tr>\n",
       "\t<tr><td>1503960366</td><td>2016-03-13 02:40:30</td><td>1</td><td>11114919637</td></tr>\n",
       "\t<tr><td>1503960366</td><td>2016-03-13 02:41:30</td><td>1</td><td>11114919637</td></tr>\n",
       "\t<tr><td>1503960366</td><td>2016-03-13 02:42:30</td><td>1</td><td>11114919637</td></tr>\n",
       "\t<tr><td>1503960366</td><td>2016-03-13 02:43:30</td><td>1</td><td>11114919637</td></tr>\n",
       "\t<tr><td>1503960366</td><td>2016-03-13 02:44:30</td><td>1</td><td>11114919637</td></tr>\n",
       "</tbody>\n",
       "</table>\n"
      ],
      "text/latex": [
       "A tibble: 6 × 4\n",
       "\\begin{tabular}{llll}\n",
       " Id & date & value & logId\\\\\n",
       " <dbl> & <dttm> & <dbl> & <dbl>\\\\\n",
       "\\hline\n",
       "\t 1503960366 & 2016-03-13 02:39:30 & 1 & 11114919637\\\\\n",
       "\t 1503960366 & 2016-03-13 02:40:30 & 1 & 11114919637\\\\\n",
       "\t 1503960366 & 2016-03-13 02:41:30 & 1 & 11114919637\\\\\n",
       "\t 1503960366 & 2016-03-13 02:42:30 & 1 & 11114919637\\\\\n",
       "\t 1503960366 & 2016-03-13 02:43:30 & 1 & 11114919637\\\\\n",
       "\t 1503960366 & 2016-03-13 02:44:30 & 1 & 11114919637\\\\\n",
       "\\end{tabular}\n"
      ],
      "text/markdown": [
       "\n",
       "A tibble: 6 × 4\n",
       "\n",
       "| Id &lt;dbl&gt; | date &lt;dttm&gt; | value &lt;dbl&gt; | logId &lt;dbl&gt; |\n",
       "|---|---|---|---|\n",
       "| 1503960366 | 2016-03-13 02:39:30 | 1 | 11114919637 |\n",
       "| 1503960366 | 2016-03-13 02:40:30 | 1 | 11114919637 |\n",
       "| 1503960366 | 2016-03-13 02:41:30 | 1 | 11114919637 |\n",
       "| 1503960366 | 2016-03-13 02:42:30 | 1 | 11114919637 |\n",
       "| 1503960366 | 2016-03-13 02:43:30 | 1 | 11114919637 |\n",
       "| 1503960366 | 2016-03-13 02:44:30 | 1 | 11114919637 |\n",
       "\n"
      ],
      "text/plain": [
       "  Id         date                value logId      \n",
       "1 1503960366 2016-03-13 02:39:30 1     11114919637\n",
       "2 1503960366 2016-03-13 02:40:30 1     11114919637\n",
       "3 1503960366 2016-03-13 02:41:30 1     11114919637\n",
       "4 1503960366 2016-03-13 02:42:30 1     11114919637\n",
       "5 1503960366 2016-03-13 02:43:30 1     11114919637\n",
       "6 1503960366 2016-03-13 02:44:30 1     11114919637"
      ]
     },
     "metadata": {},
     "output_type": "display_data"
    }
   ],
   "source": [
    "head(sleep)"
   ]
  },
  {
   "cell_type": "code",
   "execution_count": 28,
   "id": "7e03ba22-6441-4cdc-ab30-7fde0fb141d3",
   "metadata": {},
   "outputs": [],
   "source": [
    "weight_info$Date <- mdy_hms(weight_info$Date, tz = Sys.timezone())"
   ]
  },
  {
   "cell_type": "code",
   "execution_count": 29,
   "id": "367c8108-1386-4018-8e8b-bcb010943e06",
   "metadata": {},
   "outputs": [
    {
     "data": {
      "text/html": [
       "<table class=\"dataframe\">\n",
       "<caption>A tibble: 6 × 8</caption>\n",
       "<thead>\n",
       "\t<tr><th scope=col>Id</th><th scope=col>Date</th><th scope=col>WeightKg</th><th scope=col>WeightPounds</th><th scope=col>Fat</th><th scope=col>BMI</th><th scope=col>IsManualReport</th><th scope=col>LogId</th></tr>\n",
       "\t<tr><th scope=col>&lt;dbl&gt;</th><th scope=col>&lt;dttm&gt;</th><th scope=col>&lt;dbl&gt;</th><th scope=col>&lt;dbl&gt;</th><th scope=col>&lt;dbl&gt;</th><th scope=col>&lt;dbl&gt;</th><th scope=col>&lt;lgl&gt;</th><th scope=col>&lt;dbl&gt;</th></tr>\n",
       "</thead>\n",
       "<tbody>\n",
       "\t<tr><td>1503960366</td><td>2016-04-05 23:59:59</td><td> 53.3</td><td>117.5064</td><td>22</td><td>22.97</td><td> TRUE</td><td>1.459901e+12</td></tr>\n",
       "\t<tr><td>1927972279</td><td>2016-04-10 18:33:26</td><td>129.6</td><td>285.7191</td><td>NA</td><td>46.17</td><td>FALSE</td><td>1.460313e+12</td></tr>\n",
       "\t<tr><td>2347167796</td><td>2016-04-03 23:59:59</td><td> 63.4</td><td>139.7731</td><td>10</td><td>24.77</td><td> TRUE</td><td>1.459728e+12</td></tr>\n",
       "\t<tr><td>2873212765</td><td>2016-04-06 23:59:59</td><td> 56.7</td><td>125.0021</td><td>NA</td><td>21.45</td><td> TRUE</td><td>1.459987e+12</td></tr>\n",
       "\t<tr><td>2873212765</td><td>2016-04-07 23:59:59</td><td> 57.2</td><td>126.1044</td><td>NA</td><td>21.65</td><td> TRUE</td><td>1.460074e+12</td></tr>\n",
       "\t<tr><td>2891001357</td><td>2016-04-05 23:59:59</td><td> 88.4</td><td>194.8886</td><td>NA</td><td>25.03</td><td> TRUE</td><td>1.459901e+12</td></tr>\n",
       "</tbody>\n",
       "</table>\n"
      ],
      "text/latex": [
       "A tibble: 6 × 8\n",
       "\\begin{tabular}{llllllll}\n",
       " Id & Date & WeightKg & WeightPounds & Fat & BMI & IsManualReport & LogId\\\\\n",
       " <dbl> & <dttm> & <dbl> & <dbl> & <dbl> & <dbl> & <lgl> & <dbl>\\\\\n",
       "\\hline\n",
       "\t 1503960366 & 2016-04-05 23:59:59 &  53.3 & 117.5064 & 22 & 22.97 &  TRUE & 1.459901e+12\\\\\n",
       "\t 1927972279 & 2016-04-10 18:33:26 & 129.6 & 285.7191 & NA & 46.17 & FALSE & 1.460313e+12\\\\\n",
       "\t 2347167796 & 2016-04-03 23:59:59 &  63.4 & 139.7731 & 10 & 24.77 &  TRUE & 1.459728e+12\\\\\n",
       "\t 2873212765 & 2016-04-06 23:59:59 &  56.7 & 125.0021 & NA & 21.45 &  TRUE & 1.459987e+12\\\\\n",
       "\t 2873212765 & 2016-04-07 23:59:59 &  57.2 & 126.1044 & NA & 21.65 &  TRUE & 1.460074e+12\\\\\n",
       "\t 2891001357 & 2016-04-05 23:59:59 &  88.4 & 194.8886 & NA & 25.03 &  TRUE & 1.459901e+12\\\\\n",
       "\\end{tabular}\n"
      ],
      "text/markdown": [
       "\n",
       "A tibble: 6 × 8\n",
       "\n",
       "| Id &lt;dbl&gt; | Date &lt;dttm&gt; | WeightKg &lt;dbl&gt; | WeightPounds &lt;dbl&gt; | Fat &lt;dbl&gt; | BMI &lt;dbl&gt; | IsManualReport &lt;lgl&gt; | LogId &lt;dbl&gt; |\n",
       "|---|---|---|---|---|---|---|---|\n",
       "| 1503960366 | 2016-04-05 23:59:59 |  53.3 | 117.5064 | 22 | 22.97 |  TRUE | 1.459901e+12 |\n",
       "| 1927972279 | 2016-04-10 18:33:26 | 129.6 | 285.7191 | NA | 46.17 | FALSE | 1.460313e+12 |\n",
       "| 2347167796 | 2016-04-03 23:59:59 |  63.4 | 139.7731 | 10 | 24.77 |  TRUE | 1.459728e+12 |\n",
       "| 2873212765 | 2016-04-06 23:59:59 |  56.7 | 125.0021 | NA | 21.45 |  TRUE | 1.459987e+12 |\n",
       "| 2873212765 | 2016-04-07 23:59:59 |  57.2 | 126.1044 | NA | 21.65 |  TRUE | 1.460074e+12 |\n",
       "| 2891001357 | 2016-04-05 23:59:59 |  88.4 | 194.8886 | NA | 25.03 |  TRUE | 1.459901e+12 |\n",
       "\n"
      ],
      "text/plain": [
       "  Id         Date                WeightKg WeightPounds Fat BMI   IsManualReport\n",
       "1 1503960366 2016-04-05 23:59:59  53.3    117.5064     22  22.97  TRUE         \n",
       "2 1927972279 2016-04-10 18:33:26 129.6    285.7191     NA  46.17 FALSE         \n",
       "3 2347167796 2016-04-03 23:59:59  63.4    139.7731     10  24.77  TRUE         \n",
       "4 2873212765 2016-04-06 23:59:59  56.7    125.0021     NA  21.45  TRUE         \n",
       "5 2873212765 2016-04-07 23:59:59  57.2    126.1044     NA  21.65  TRUE         \n",
       "6 2891001357 2016-04-05 23:59:59  88.4    194.8886     NA  25.03  TRUE         \n",
       "  LogId       \n",
       "1 1.459901e+12\n",
       "2 1.460313e+12\n",
       "3 1.459728e+12\n",
       "4 1.459987e+12\n",
       "5 1.460074e+12\n",
       "6 1.459901e+12"
      ]
     },
     "metadata": {},
     "output_type": "display_data"
    }
   ],
   "source": [
    "head(weight_info)"
   ]
  },
  {
   "cell_type": "markdown",
   "id": "fc430b43-d682-4b97-ba57-2938d8478b9d",
   "metadata": {},
   "source": [
    "# Analysis\n",
    "we will uncover the general statistics of data and compare the results with appropriate data."
   ]
  },
  {
   "cell_type": "code",
   "execution_count": 32,
   "id": "ff51e133-336c-4f84-be42-fb4d72810fd7",
   "metadata": {},
   "outputs": [
    {
     "data": {
      "text/plain": [
       " FairlyActiveMinutes\n",
       " Min.   :  0.00     \n",
       " 1st Qu.:  0.00     \n",
       " Median :  1.00     \n",
       " Mean   : 13.07     \n",
       " 3rd Qu.: 16.00     \n",
       " Max.   :660.00     "
      ]
     },
     "metadata": {},
     "output_type": "display_data"
    }
   ],
   "source": [
    "daily_activity %>%\n",
    "    select(FairlyActiveMinutes) %>%\n",
    "    summary()\n"
   ]
  },
  {
   "cell_type": "markdown",
   "id": "2d469334-d979-410f-a20f-2e70adda5f9f",
   "metadata": {},
   "source": [
    "The average of FairlyActiveMinutes is 13.07 in a day while WHO recommends at least 21 to 42 minutes of moderate aerobic activity per day \\\n",
    "Reference : https://www.who.int/europe/publications/i/item/9789240014886"
   ]
  },
  {
   "cell_type": "markdown",
   "id": "bee96569-7f06-419b-afd8-614c51f4851a",
   "metadata": {},
   "source": [
    "Now we examine FairlyActiveMinutes for each respondant."
   ]
  },
  {
   "cell_type": "code",
   "execution_count": 50,
   "id": "0e98812a-e756-44e2-8437-ea5901c32d1c",
   "metadata": {},
   "outputs": [
    {
     "data": {
      "text/html": [
       "8"
      ],
      "text/latex": [
       "8"
      ],
      "text/markdown": [
       "8"
      ],
      "text/plain": [
       "[1] 8"
      ]
     },
     "metadata": {},
     "output_type": "display_data"
    }
   ],
   "source": [
    "daily_activity %>%\n",
    "    group_by (Id) %>%\n",
    "    summarise(Average_FairlyActiveMinutes = mean(FairlyActiveMinutes)) %>%\n",
    "    filter (Average_FairlyActiveMinutes >= 21) %>% # 21 minutes are minimum moderate aerobic activity per day\n",
    "    nrow()"
   ]
  },
  {
   "cell_type": "markdown",
   "id": "e6946294-cd92-4c4d-8d84-282210d5f1d6",
   "metadata": {},
   "source": [
    "It is important to mention that only 8 (23 %) respondents out of 35 are involved physical activity as per WHO guidelines.\\\n",
    "Also this information holds potential for enhancing Bellabeat's marketing strategy by encouraging customers toward increased activity over sedentary behavior. Moreover, the Bellabeat app could utilize timed notifications to prompt users towards activity rather than remaining sedentary."
   ]
  },
  {
   "cell_type": "code",
   "execution_count": 51,
   "id": "dba8bd0e-7c28-487a-8bfb-1586b462f397",
   "metadata": {},
   "outputs": [
    {
     "data": {
      "text/plain": [
       "   TotalSteps   \n",
       " Min.   :    0  \n",
       " 1st Qu.: 1988  \n",
       " Median : 5986  \n",
       " Mean   : 6547  \n",
       " 3rd Qu.:10198  \n",
       " Max.   :28497  "
      ]
     },
     "metadata": {},
     "output_type": "display_data"
    }
   ],
   "source": [
    "daily_activity %>%\n",
    "    select (TotalSteps) %>%\n",
    "    summary()"
   ]
  },
  {
   "cell_type": "markdown",
   "id": "e5739689-7a5f-4bdb-ae4d-b0517ae1a3d2",
   "metadata": {},
   "source": [
    "According to a study, 10,000 steps per day is a reasonable target for healthy adults.\\\n",
    "Reference : https://www.healthline.com/health/how-many-steps-a-day#how-many-steps-per-day \\\n",
    "The mean fo TotalSteps for all respondents is 6547 which is quite low. \\\n",
    "Bellabeat could utilize this data to incentivize customers who achieve the 10,000-step target with rewards. This initiative could create mutual benefits for both Bellabeat and its customers, fostering a win-win scenario."
   ]
  },
  {
   "cell_type": "code",
   "execution_count": null,
   "id": "62bda3d8-01cf-436f-9186-e9fadaed7f9a",
   "metadata": {},
   "outputs": [],
   "source": []
  },
  {
   "cell_type": "code",
   "execution_count": null,
   "id": "89dee96e-7718-4755-907f-2b9a67bcd29c",
   "metadata": {},
   "outputs": [],
   "source": []
  },
  {
   "cell_type": "code",
   "execution_count": null,
   "id": "ff0e3220-7edf-4c4a-b060-944d047c3c96",
   "metadata": {},
   "outputs": [],
   "source": []
  },
  {
   "cell_type": "code",
   "execution_count": null,
   "id": "11aec85f-828e-4be9-bccd-aac8f110e990",
   "metadata": {},
   "outputs": [],
   "source": []
  },
  {
   "cell_type": "code",
   "execution_count": null,
   "id": "2739c394-a3c9-4100-ab54-34bbf3e98a6f",
   "metadata": {},
   "outputs": [],
   "source": []
  },
  {
   "cell_type": "code",
   "execution_count": null,
   "id": "d4011d32-1760-44c0-92ff-c933a8c7fc23",
   "metadata": {},
   "outputs": [],
   "source": []
  }
 ],
 "metadata": {
  "kernelspec": {
   "display_name": "R",
   "language": "R",
   "name": "ir"
  },
  "language_info": {
   "codemirror_mode": "r",
   "file_extension": ".r",
   "mimetype": "text/x-r-source",
   "name": "R",
   "pygments_lexer": "r",
   "version": "4.3.3"
  }
 },
 "nbformat": 4,
 "nbformat_minor": 5
}
